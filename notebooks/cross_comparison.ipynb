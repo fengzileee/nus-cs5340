{
 "cells": [
  {
   "cell_type": "markdown",
   "id": "22022ef2",
   "metadata": {},
   "source": [
    "# Cross Comparison"
   ]
  },
  {
   "cell_type": "code",
   "execution_count": 1,
   "id": "e720d2c6",
   "metadata": {},
   "outputs": [],
   "source": [
    "import os\n",
    "import numpy as np\n",
    "import matplotlib.pyplot as plt\n",
    "import pickle\n",
    "\n",
    "from uncertainty_motion_prediction.dataloader import Dataloader\n",
    "dataset=Dataloader();\n",
    "\n",
    "pretrained_path=\"./pretrained/\""
   ]
  },
  {
   "cell_type": "code",
   "execution_count": 2,
   "id": "441341f5",
   "metadata": {},
   "outputs": [],
   "source": [
    "from uncertainty_motion_prediction.predictor import ConstantVelocityPredictor\n",
    "\n",
    "def get_cvm_pred(dataset_index, dt):\n",
    "    return ConstantVelocityPredictor(N_future=4, dt=dt)"
   ]
  },
  {
   "cell_type": "code",
   "execution_count": 3,
   "id": "e5998bbd",
   "metadata": {},
   "outputs": [],
   "source": [
    "from uncertainty_motion_prediction.predictor import ConstantVelocityKFPredictor\n",
    "\n",
    "def get_kf_pred(dataset_index, dt):\n",
    "    return  ConstantVelocityKFPredictor(N_future=4, dt=dt)"
   ]
  },
  {
   "cell_type": "code",
   "execution_count": 4,
   "id": "cfcfce12",
   "metadata": {},
   "outputs": [],
   "source": [
    "from uncertainty_motion_prediction.predictor import (\n",
    "    HMMMultinomialFirstOrder, HMMLatentSegmentsExtractor, KMeansOutcome, HMMLatentSegmentsPredictor\n",
    ")\n",
    "from uncertainty_motion_prediction.predictor.hmm_latent_segments import (\n",
    "    segmentize_trajectory, normalise_segment, normalise_segment_batch\n",
    ")\n",
    "\n",
    "def get_hmm_pred(dataset_index, dt):\n",
    "    clustering = KMeansOutcome.load_from_file(pretrained_path + \"hmm_segment_clustering_%d.pickle\" %dataset_index)\n",
    "    state_dim = 50\n",
    "    hmm = HMMMultinomialFirstOrder(state_dim, clustering.N, verbose=True, max_iters=3)\n",
    "    hmm.load_from_file(pretrained_path + \"hmm_model_param_%d.pickle\" %dataset_index)\n",
    "    return HMMLatentSegmentsPredictor(hmm, clustering)\n",
    "def get_hmm_test_traj(traj_dataset):\n",
    "    segment_length = 4\n",
    "    num_segment = 4\n",
    "    num_history_segment = 3\n",
    "    traj_length = num_segment * (segment_length - 1) + 1\n",
    "    history_traj_length = num_history_segment * (segment_length - 1) + 1\n",
    "    return traj_dataset.get_trajlets(\n",
    "            length=traj_length * 0.4,\n",
    "            overlap=1,\n",
    "            to_numpy=True), history_traj_length\n",
    "    "
   ]
  },
  {
   "cell_type": "code",
   "execution_count": 5,
   "id": "b383be00",
   "metadata": {},
   "outputs": [],
   "source": [
    "from fitter import Fitter, get_common_distributions, get_distributions\n",
    "\n",
    "from uncertainty_motion_prediction.predictor import (\n",
    "    HMMMultinomialFirstOrder, HMMLatentSegmentsExtractor, KMeansOutcome, HMMLatentSegmentsPredictor\n",
    ")\n",
    "from uncertainty_motion_prediction.predictor import HMMContinuousEmissionsPredictor\n",
    "\n",
    "from uncertainty_motion_prediction.predictor.hmm_continuous_emissions import normalise_segment_batch\n",
    "\n",
    "def get_ghmm_pred(dataset_index, dt):\n",
    "    model = None\n",
    "    with open(pretrained_path + 'gaussian_hmm_%s.pkl'%dataset_index, 'rb') as file:\n",
    "        model = pickle.load(file)\n",
    "    return HMMContinuousEmissionsPredictor(hmm = model)\n",
    "\n",
    "def get_ghmm_test_traj(traj_dataset):\n",
    "    segment_length = 4\n",
    "    num_segment = 4# Hidden Markov Model with Gaussian emissions (to model trajectory observations)\n",
    "    return traj_dataset.get_trajlets(\n",
    "            length=segment_length * num_segment * 0.4,\n",
    "            overlap=1,\n",
    "            to_numpy=True), None\n",
    "    "
   ]
  },
  {
   "cell_type": "code",
   "execution_count": 6,
   "id": "43455a16",
   "metadata": {},
   "outputs": [],
   "source": [
    "from uncertainty_motion_prediction.evaluators import DistanceErrorEvaluator\n",
    "\n",
    "algos =[['cvm', get_cvm_pred,None],\n",
    "        ['kf' , get_kf_pred,None],\n",
    "        ['hmm' ,get_hmm_pred,get_hmm_test_traj],\n",
    "        ['ghmm' ,get_ghmm_pred,get_ghmm_test_traj],\n",
    "]"
   ]
  },
  {
   "cell_type": "code",
   "execution_count": 7,
   "id": "2881b29c",
   "metadata": {},
   "outputs": [
    {
     "name": "stderr",
     "output_type": "stream",
     "text": [
      "/home/kurisu/nus-cs5340/uncertainty-motion-prediction/src/uncertainty_motion_prediction/predictor/hmm_continuous_emissions.py:30: RuntimeWarning: invalid value encountered in true_divide\n",
      "  x, y = dir / np.linalg.norm(dir)\n",
      "/home/kurisu/nus-cs5340/uncertainty-motion-prediction/src/uncertainty_motion_prediction/predictor/hmm_continuous_emissions.py:30: RuntimeWarning: invalid value encountered in true_divide\n",
      "  x, y = dir / np.linalg.norm(dir)\n",
      "/home/kurisu/nus-cs5340/uncertainty-motion-prediction/src/uncertainty_motion_prediction/predictor/hmm_continuous_emissions.py:30: RuntimeWarning: invalid value encountered in true_divide\n",
      "  x, y = dir / np.linalg.norm(dir)\n",
      "/home/kurisu/nus-cs5340/uncertainty-motion-prediction/src/uncertainty_motion_prediction/predictor/hmm_continuous_emissions.py:30: RuntimeWarning: invalid value encountered in true_divide\n",
      "  x, y = dir / np.linalg.norm(dir)\n",
      "/home/kurisu/nus-cs5340/uncertainty-motion-prediction/src/uncertainty_motion_prediction/predictor/hmm_continuous_emissions.py:30: RuntimeWarning: invalid value encountered in true_divide\n",
      "  x, y = dir / np.linalg.norm(dir)\n",
      "/home/kurisu/nus-cs5340/uncertainty-motion-prediction/src/uncertainty_motion_prediction/predictor/hmm_continuous_emissions.py:30: RuntimeWarning: invalid value encountered in true_divide\n",
      "  x, y = dir / np.linalg.norm(dir)\n",
      "/home/kurisu/nus-cs5340/uncertainty-motion-prediction/src/uncertainty_motion_prediction/predictor/hmm_continuous_emissions.py:30: RuntimeWarning: invalid value encountered in true_divide\n",
      "  x, y = dir / np.linalg.norm(dir)\n",
      "/home/kurisu/nus-cs5340/uncertainty-motion-prediction/src/uncertainty_motion_prediction/predictor/hmm_continuous_emissions.py:30: RuntimeWarning: invalid value encountered in true_divide\n",
      "  x, y = dir / np.linalg.norm(dir)\n",
      "/home/kurisu/nus-cs5340/uncertainty-motion-prediction/src/uncertainty_motion_prediction/predictor/hmm_continuous_emissions.py:30: RuntimeWarning: invalid value encountered in true_divide\n",
      "  x, y = dir / np.linalg.norm(dir)\n",
      "/home/kurisu/nus-cs5340/uncertainty-motion-prediction/src/uncertainty_motion_prediction/predictor/hmm_continuous_emissions.py:30: RuntimeWarning: invalid value encountered in true_divide\n",
      "  x, y = dir / np.linalg.norm(dir)\n",
      "/home/kurisu/nus-cs5340/uncertainty-motion-prediction/src/uncertainty_motion_prediction/predictor/hmm_continuous_emissions.py:30: RuntimeWarning: invalid value encountered in true_divide\n",
      "  x, y = dir / np.linalg.norm(dir)\n",
      "/home/kurisu/nus-cs5340/uncertainty-motion-prediction/src/uncertainty_motion_prediction/predictor/hmm_continuous_emissions.py:30: RuntimeWarning: invalid value encountered in true_divide\n",
      "  x, y = dir / np.linalg.norm(dir)\n",
      "/home/kurisu/nus-cs5340/uncertainty-motion-prediction/src/uncertainty_motion_prediction/predictor/hmm_continuous_emissions.py:30: RuntimeWarning: invalid value encountered in true_divide\n",
      "  x, y = dir / np.linalg.norm(dir)\n",
      "/home/kurisu/nus-cs5340/uncertainty-motion-prediction/src/uncertainty_motion_prediction/predictor/hmm_continuous_emissions.py:30: RuntimeWarning: invalid value encountered in true_divide\n",
      "  x, y = dir / np.linalg.norm(dir)\n",
      "/home/kurisu/nus-cs5340/uncertainty-motion-prediction/src/uncertainty_motion_prediction/predictor/hmm_continuous_emissions.py:30: RuntimeWarning: invalid value encountered in true_divide\n",
      "  x, y = dir / np.linalg.norm(dir)\n",
      "/home/kurisu/nus-cs5340/uncertainty-motion-prediction/src/uncertainty_motion_prediction/predictor/hmm_continuous_emissions.py:30: RuntimeWarning: invalid value encountered in true_divide\n",
      "  x, y = dir / np.linalg.norm(dir)\n",
      "/home/kurisu/nus-cs5340/uncertainty-motion-prediction/src/uncertainty_motion_prediction/predictor/hmm_continuous_emissions.py:30: RuntimeWarning: invalid value encountered in true_divide\n",
      "  x, y = dir / np.linalg.norm(dir)\n",
      "/home/kurisu/nus-cs5340/uncertainty-motion-prediction/src/uncertainty_motion_prediction/predictor/hmm_continuous_emissions.py:30: RuntimeWarning: invalid value encountered in true_divide\n",
      "  x, y = dir / np.linalg.norm(dir)\n",
      "/home/kurisu/nus-cs5340/uncertainty-motion-prediction/src/uncertainty_motion_prediction/predictor/hmm_continuous_emissions.py:30: RuntimeWarning: invalid value encountered in true_divide\n",
      "  x, y = dir / np.linalg.norm(dir)\n"
     ]
    }
   ],
   "source": [
    "res = []\n",
    "\n",
    "for i in range(len(dataset.get_key())):\n",
    "    traj_dataset = dataset.load(i)\n",
    "   \n",
    "    res_algos ={}\n",
    "    for pred in algos:\n",
    "        if pred[2] is None:\n",
    "            trajlets  = traj_dataset.get_trajlets(length=4.8, to_numpy=True)\n",
    "            evaluator = DistanceErrorEvaluator(N_future=4)\n",
    "        else:\n",
    "            # for hmm and ghmm\n",
    "            get_test_dataset = pred[2]\n",
    "            trajlets, hist_length = get_test_dataset(traj_dataset)\n",
    "            evaluator = DistanceErrorEvaluator(N_future=4, N_history=hist_length)\n",
    "        \n",
    "        dt = trajlets[0, 1, 4] - trajlets[0, 0, 4]\n",
    "        predictor = pred[1](i, dt =dt)\n",
    "        \n",
    "        evaluator.evaluate(predictor, trajlets)\n",
    "        res_algos.update({pred[0]:evaluator.statistic()})\n",
    "    res.append([dataset.get_key()[i], res_algos])\n",
    "        "
   ]
  },
  {
   "cell_type": "code",
   "execution_count": 8,
   "id": "1e33f53f",
   "metadata": {},
   "outputs": [
    {
     "data": {
      "image/png": "[encoded data removed]",
      "text/plain": [
       "<Figure size 1440x720 with 2 Axes>"
      ]
     },
     "metadata": {
      "needs_background": "light"
     },
     "output_type": "display_data"
    }
   ],
   "source": [
    "metrices  = evaluator.get_metrics()\n",
    "\n",
    "fig, axs = plt.subplots(len(metrices),1, figsize=(20, 10))\n",
    "labels = dataset.get_key()\n",
    "x = np.arange(len(labels))\n",
    "\n",
    "width = 0.3/len(algos) * 3\n",
    "\n",
    "for m_index in range(len(metrices)):\n",
    "    m  = metrices[m_index]\n",
    "    axs[m_index].set_ylabel(m)\n",
    "    name = []\n",
    "    \n",
    "    for algo_index in range(len(algos)):\n",
    "        algo = algos[algo_index]\n",
    "        value =[]\n",
    "        std = []\n",
    "        for i in res:\n",
    "            value.append(i[1][algo[0]][m][0])\n",
    "            std.append(i[1][algo[0]][m][1])\n",
    "            \n",
    "        axs[m_index].bar(x +  (width * (float(algo_index + 0.5)-float(len(algos))/2.0) ) , \n",
    "                         value, width, label=algo[0],yerr=std)\n",
    "        \n",
    "    axs[m_index].set_xticks(x)\n",
    "    axs[m_index].set_xticklabels(labels)\n",
    "    axs[m_index].legend()\n",
    "    axs[m_index].grid()\n",
    "\n",
    "\n",
    "        "
   ]
  },
  {
   "cell_type": "code",
   "execution_count": null,
   "id": "2a80b795",
   "metadata": {},
   "outputs": [],
   "source": []
  }
 ],
 "metadata": {
  "kernelspec": {
   "display_name": "Python 3",
   "language": "python",
   "name": "python3"
  },
  "language_info": {
   "codemirror_mode": {
    "name": "ipython",
    "version": 3
   },
   "file_extension": ".py",
   "mimetype": "text/x-python",
   "name": "python",
   "nbconvert_exporter": "python",
   "pygments_lexer": "ipython3",
   "version": "3.8.8"
  }
 },
 "nbformat": 4,
 "nbformat_minor": 5
}
