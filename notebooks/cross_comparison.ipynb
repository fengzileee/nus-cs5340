{
 "cells": [
  {
   "cell_type": "markdown",
   "id": "becdff9a",
   "metadata": {},
   "source": [
    "# Cross Comparison"
   ]
  },
  {
   "cell_type": "code",
   "execution_count": 1,
   "id": "416aabd7",
   "metadata": {},
   "outputs": [],
   "source": [
    "import os\n",
    "import numpy as np\n",
    "import matplotlib.pyplot as plt\n",
    "\n",
    "from uncertainty_motion_prediction.dataloader import Dataloader\n",
    "\n",
    "dataset=Dataloader();\n"
   ]
  },
  {
   "cell_type": "code",
   "execution_count": 2,
   "id": "7d468534",
   "metadata": {},
   "outputs": [],
   "source": [
    "from uncertainty_motion_prediction.evaluators import DistanceErrorEvaluator\n",
    "\n",
    "from uncertainty_motion_prediction.predictor import ConstantVelocityPredictor\n",
    "from uncertainty_motion_prediction.predictor import ConstantVelocityKFPredictor\n",
    "from uncertainty_motion_prediction.predictor import (\n",
    "    HMMMultinomialFirstOrder, HMMLatentSegmentsExtractor, KMeansOutcome, HMMLatentSegmentsPredictor\n",
    ")\n",
    "clustering = KMeansOutcome.load_from_file(\"./hmm_segment_clustering.pickle\")\n",
    "state_dim = 80\n",
    "hmm = HMMMultinomialFirstOrder(state_dim, clustering.N, verbose=True, max_iters=3)\n",
    "hmm.load_from_file(\"./hmm_model_param.pickle\")\n",
    "\n",
    "\n",
    "algos =[['cvm', ConstantVelocityPredictor(N_future=4, dt=0.4)],\n",
    "        ['kf' , ConstantVelocityKFPredictor(N_future=4,dt=0.4)],\n",
    "        ['hmm' , HMMLatentSegmentsPredictor(hmm, clustering)]\n",
    "]"
   ]
  },
  {
   "cell_type": "code",
   "execution_count": 3,
   "id": "faafbd34",
   "metadata": {},
   "outputs": [
    {
     "name": "stderr",
     "output_type": "stream",
     "text": [
      "/home/kurisu/nus-cs5340/uncertainty-motion-prediction/src/uncertainty_motion_prediction/predictor/hmm_latent_segments.py:32: RuntimeWarning: invalid value encountered in true_divide\n",
      "  x, y = dir / np.linalg.norm(dir)\n",
      "/home/kurisu/nus-cs5340/uncertainty-motion-prediction/src/uncertainty_motion_prediction/predictor/hmm_latent_segments.py:32: RuntimeWarning: invalid value encountered in true_divide\n",
      "  x, y = dir / np.linalg.norm(dir)\n"
     ]
    }
   ],
   "source": [
    "res = []\n",
    "evaluator = DistanceErrorEvaluator(N_future=4)\n",
    "for i in range(len(dataset.get_key())):\n",
    "    traj_dataset = dataset.load(i)\n",
    "    trajlets = traj_dataset.get_trajlets(length=4.8, to_numpy=True)\n",
    "    res_algos ={}\n",
    "    for pred in algos:\n",
    "        evaluator.evaluate(pred[1], trajlets)\n",
    "        res_algos.update({pred[0]:evaluator.statistic()})\n",
    "    res.append([dataset.get_key()[i], res_algos])\n",
    "        "
   ]
  },
  {
   "cell_type": "code",
   "execution_count": 4,
   "id": "31ba5e69",
   "metadata": {},
   "outputs": [
    {
     "name": "stderr",
     "output_type": "stream",
     "text": [
      "No handles with labels found to put in legend.\n",
      "No handles with labels found to put in legend.\n"
     ]
    },
    {
     "data": {
      "image/png": "[encoded data removed]",
      "text/plain": [
       "<Figure size 864x576 with 2 Axes>"
      ]
     },
     "metadata": {
      "needs_background": "light"
     },
     "output_type": "display_data"
    }
   ],
   "source": [
    "metrices  = evaluator.get_metrics()\n",
    "\n",
    "fig, axs = plt.subplots(len(metrices),1, figsize=(12, 8))\n",
    "labels = dataset.get_key()\n",
    "x = np.arange(len(labels))\n",
    "\n",
    "width = 0.3\n",
    "\n",
    "for m_index in range(len(metrices)):\n",
    "    m  = metrices[m_index]\n",
    "    axs[m_index].set_ylabel(m)\n",
    "    axs[m_index].legend()\n",
    "    name = []\n",
    "    \n",
    "    for algo_index in range(len(algos)):\n",
    "        algo = algos[algo_index]\n",
    "        value =[]\n",
    "        for i in res:\n",
    "            value.append(i[1][algo[0]][m][0])\n",
    "            \n",
    "        axs[m_index].bar(x +  (width * (float(algo_index + 0.5)-float(len(algos))/2.0) ) , value, width, label=algo[0])\n",
    "        \n",
    "    axs[m_index].set_xticks(x)\n",
    "    axs[m_index].set_xticklabels(labels)\n",
    "    axs[m_index].legend()\n",
    "\n",
    "        "
   ]
  },
  {
   "cell_type": "code",
   "execution_count": null,
   "id": "9a164e1d",
   "metadata": {},
   "outputs": [],
   "source": []
  }
 ],
 "metadata": {
  "kernelspec": {
   "display_name": "Python 3",
   "language": "python",
   "name": "python3"
  },
  "language_info": {
   "codemirror_mode": {
    "name": "ipython",
    "version": 3
   },
   "file_extension": ".py",
   "mimetype": "text/x-python",
   "name": "python",
   "nbconvert_exporter": "python",
   "pygments_lexer": "ipython3",
   "version": "3.8.8"
  }
 },
 "nbformat": 4,
 "nbformat_minor": 5
}
