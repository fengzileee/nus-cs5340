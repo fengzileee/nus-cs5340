{
 "cells": [
  {
   "cell_type": "code",
   "execution_count": 1,
   "id": "2047d8ec",
   "metadata": {},
   "outputs": [],
   "source": [
    "import os\n",
    "import numpy as np\n",
    "from uncertainty_motion_prediction.dataloader import Dataloader\n",
    "\n",
    "dataset=Dataloader();\n",
    "traj_dataset = dataset.load(0)"
   ]
  },
  {
   "cell_type": "markdown",
   "id": "9d237365",
   "metadata": {},
   "source": [
    "# Get trajectories from the dataset"
   ]
  },
  {
   "cell_type": "markdown",
   "id": "291adf55",
   "metadata": {},
   "source": [
    "## As a list of Pandas dataframes"
   ]
  },
  {
   "cell_type": "code",
   "execution_count": 2,
   "id": "57354de6",
   "metadata": {},
   "outputs": [
    {
     "data": {
      "text/plain": [
       "768"
      ]
     },
     "execution_count": 2,
     "metadata": {},
     "output_type": "execute_result"
    }
   ],
   "source": [
    "trajlets = traj_dataset.get_trajlets(length=4.8)\n",
    "len(trajlets)"
   ]
  },
  {
   "cell_type": "code",
   "execution_count": 3,
   "id": "cf370664",
   "metadata": {},
   "outputs": [
    {
     "data": {
      "text/html": [
       "<div>\n",
       "<style scoped>\n",
       "    .dataframe tbody tr th:only-of-type {\n",
       "        vertical-align: middle;\n",
       "    }\n",
       "\n",
       "    .dataframe tbody tr th {\n",
       "        vertical-align: top;\n",
       "    }\n",
       "\n",
       "    .dataframe thead th {\n",
       "        text-align: right;\n",
       "    }\n",
       "</style>\n",
       "<table border=\"1\" class=\"dataframe\">\n",
       "  <thead>\n",
       "    <tr style=\"text-align: right;\">\n",
       "      <th></th>\n",
       "      <th>frame_id</th>\n",
       "      <th>agent_id</th>\n",
       "      <th>pos_x</th>\n",
       "      <th>pos_y</th>\n",
       "      <th>vel_x</th>\n",
       "      <th>vel_y</th>\n",
       "      <th>scene_id</th>\n",
       "      <th>label</th>\n",
       "      <th>timestamp</th>\n",
       "    </tr>\n",
       "  </thead>\n",
       "  <tbody>\n",
       "    <tr>\n",
       "      <th>5</th>\n",
       "      <td>804</td>\n",
       "      <td>2</td>\n",
       "      <td>13.017548</td>\n",
       "      <td>5.782591</td>\n",
       "      <td>-2.324444</td>\n",
       "      <td>-0.076606</td>\n",
       "      <td>0</td>\n",
       "      <td>pedestrian</td>\n",
       "      <td>53.6</td>\n",
       "    </tr>\n",
       "    <tr>\n",
       "      <th>7</th>\n",
       "      <td>810</td>\n",
       "      <td>2</td>\n",
       "      <td>12.087770</td>\n",
       "      <td>5.751949</td>\n",
       "      <td>-1.589052</td>\n",
       "      <td>-0.065971</td>\n",
       "      <td>0</td>\n",
       "      <td>pedestrian</td>\n",
       "      <td>54.0</td>\n",
       "    </tr>\n",
       "    <tr>\n",
       "      <th>9</th>\n",
       "      <td>816</td>\n",
       "      <td>2</td>\n",
       "      <td>11.746306</td>\n",
       "      <td>5.729815</td>\n",
       "      <td>-1.140766</td>\n",
       "      <td>0.105373</td>\n",
       "      <td>0</td>\n",
       "      <td>pedestrian</td>\n",
       "      <td>54.4</td>\n",
       "    </tr>\n",
       "    <tr>\n",
       "      <th>10</th>\n",
       "      <td>822</td>\n",
       "      <td>2</td>\n",
       "      <td>11.175158</td>\n",
       "      <td>5.836247</td>\n",
       "      <td>-1.640021</td>\n",
       "      <td>0.179235</td>\n",
       "      <td>0</td>\n",
       "      <td>pedestrian</td>\n",
       "      <td>54.8</td>\n",
       "    </tr>\n",
       "    <tr>\n",
       "      <th>11</th>\n",
       "      <td>828</td>\n",
       "      <td>2</td>\n",
       "      <td>10.434290</td>\n",
       "      <td>5.873203</td>\n",
       "      <td>-1.406129</td>\n",
       "      <td>0.419050</td>\n",
       "      <td>0</td>\n",
       "      <td>pedestrian</td>\n",
       "      <td>55.2</td>\n",
       "    </tr>\n",
       "    <tr>\n",
       "      <th>13</th>\n",
       "      <td>834</td>\n",
       "      <td>2</td>\n",
       "      <td>10.050254</td>\n",
       "      <td>6.171487</td>\n",
       "      <td>-1.078742</td>\n",
       "      <td>0.455190</td>\n",
       "      <td>0</td>\n",
       "      <td>pedestrian</td>\n",
       "      <td>55.6</td>\n",
       "    </tr>\n",
       "    <tr>\n",
       "      <th>15</th>\n",
       "      <td>840</td>\n",
       "      <td>2</td>\n",
       "      <td>9.571296</td>\n",
       "      <td>6.237355</td>\n",
       "      <td>-1.207725</td>\n",
       "      <td>0.115437</td>\n",
       "      <td>0</td>\n",
       "      <td>pedestrian</td>\n",
       "      <td>56.0</td>\n",
       "    </tr>\n",
       "    <tr>\n",
       "      <th>19</th>\n",
       "      <td>846</td>\n",
       "      <td>2</td>\n",
       "      <td>9.084074</td>\n",
       "      <td>6.263836</td>\n",
       "      <td>-1.273181</td>\n",
       "      <td>0.170841</td>\n",
       "      <td>0</td>\n",
       "      <td>pedestrian</td>\n",
       "      <td>56.4</td>\n",
       "    </tr>\n",
       "    <tr>\n",
       "      <th>24</th>\n",
       "      <td>852</td>\n",
       "      <td>2</td>\n",
       "      <td>8.552751</td>\n",
       "      <td>6.374027</td>\n",
       "      <td>-1.232733</td>\n",
       "      <td>0.271502</td>\n",
       "      <td>0</td>\n",
       "      <td>pedestrian</td>\n",
       "      <td>56.8</td>\n",
       "    </tr>\n",
       "    <tr>\n",
       "      <th>29</th>\n",
       "      <td>858</td>\n",
       "      <td>2</td>\n",
       "      <td>8.097887</td>\n",
       "      <td>6.481037</td>\n",
       "      <td>-1.146730</td>\n",
       "      <td>0.217892</td>\n",
       "      <td>0</td>\n",
       "      <td>pedestrian</td>\n",
       "      <td>57.2</td>\n",
       "    </tr>\n",
       "    <tr>\n",
       "      <th>34</th>\n",
       "      <td>864</td>\n",
       "      <td>2</td>\n",
       "      <td>7.635367</td>\n",
       "      <td>6.548341</td>\n",
       "      <td>-1.163496</td>\n",
       "      <td>0.169306</td>\n",
       "      <td>0</td>\n",
       "      <td>pedestrian</td>\n",
       "      <td>57.6</td>\n",
       "    </tr>\n",
       "    <tr>\n",
       "      <th>39</th>\n",
       "      <td>870</td>\n",
       "      <td>2</td>\n",
       "      <td>7.167091</td>\n",
       "      <td>6.616482</td>\n",
       "      <td>-1.126493</td>\n",
       "      <td>0.116400</td>\n",
       "      <td>0</td>\n",
       "      <td>pedestrian</td>\n",
       "      <td>58.0</td>\n",
       "    </tr>\n",
       "  </tbody>\n",
       "</table>\n",
       "</div>"
      ],
      "text/plain": [
       "    frame_id  agent_id      pos_x     pos_y     vel_x     vel_y  scene_id  \\\n",
       "5        804         2  13.017548  5.782591 -2.324444 -0.076606         0   \n",
       "7        810         2  12.087770  5.751949 -1.589052 -0.065971         0   \n",
       "9        816         2  11.746306  5.729815 -1.140766  0.105373         0   \n",
       "10       822         2  11.175158  5.836247 -1.640021  0.179235         0   \n",
       "11       828         2  10.434290  5.873203 -1.406129  0.419050         0   \n",
       "13       834         2  10.050254  6.171487 -1.078742  0.455190         0   \n",
       "15       840         2   9.571296  6.237355 -1.207725  0.115437         0   \n",
       "19       846         2   9.084074  6.263836 -1.273181  0.170841         0   \n",
       "24       852         2   8.552751  6.374027 -1.232733  0.271502         0   \n",
       "29       858         2   8.097887  6.481037 -1.146730  0.217892         0   \n",
       "34       864         2   7.635367  6.548341 -1.163496  0.169306         0   \n",
       "39       870         2   7.167091  6.616482 -1.126493  0.116400         0   \n",
       "\n",
       "         label  timestamp  \n",
       "5   pedestrian       53.6  \n",
       "7   pedestrian       54.0  \n",
       "9   pedestrian       54.4  \n",
       "10  pedestrian       54.8  \n",
       "11  pedestrian       55.2  \n",
       "13  pedestrian       55.6  \n",
       "15  pedestrian       56.0  \n",
       "19  pedestrian       56.4  \n",
       "24  pedestrian       56.8  \n",
       "29  pedestrian       57.2  \n",
       "34  pedestrian       57.6  \n",
       "39  pedestrian       58.0  "
      ]
     },
     "execution_count": 3,
     "metadata": {},
     "output_type": "execute_result"
    }
   ],
   "source": [
    "trajlets[0]"
   ]
  },
  {
   "cell_type": "markdown",
   "id": "da1ec6fb",
   "metadata": {},
   "source": [
    "## As numpy array"
   ]
  },
  {
   "cell_type": "code",
   "execution_count": 4,
   "id": "72f0c3da",
   "metadata": {},
   "outputs": [
    {
     "data": {
      "text/plain": [
       "array([[13.017548  ,  5.7825914 , -2.3244442 , -0.07660594, 53.6       ],\n",
       "       [12.08777   ,  5.751949  , -1.5890517 , -0.06597106, 54.        ],\n",
       "       [11.746306  ,  5.7298146 , -1.1407656 ,  0.10537256, 54.4       ],\n",
       "       [11.175158  ,  5.8362471 , -1.6400209 ,  0.17923528, 54.8       ],\n",
       "       [10.43429   ,  5.8732028 , -1.4061292 ,  0.41904965, 55.2       ],\n",
       "       [10.050254  ,  6.1714868 , -1.0787423 ,  0.45518986, 55.6       ],\n",
       "       [ 9.5712958 ,  6.2373547 , -1.207725  ,  0.11543663, 56.        ],\n",
       "       [ 9.0840742 ,  6.2638361 , -1.2731811 ,  0.17084078, 56.4       ],\n",
       "       [ 8.5527509 ,  6.3740273 , -1.2327335 ,  0.2715015 , 56.8       ],\n",
       "       [ 8.0978874 ,  6.4810373 , -1.1467297 ,  0.21789191, 57.2       ],\n",
       "       [ 7.6353672 ,  6.5483408 , -1.1634956 ,  0.16930578, 57.6       ],\n",
       "       [ 7.1670909 ,  6.616482  , -1.1264929 ,  0.11639996, 58.        ]])"
      ]
     },
     "execution_count": 4,
     "metadata": {},
     "output_type": "execute_result"
    }
   ],
   "source": [
    "trajlets = traj_dataset.get_trajlets(length=4.8, to_numpy=True)\n",
    "trajlets[0, :, :]"
   ]
  },
  {
   "cell_type": "markdown",
   "id": "22d680a8",
   "metadata": {},
   "source": [
    "# Evaluate ADE and FDE\n",
    "\n",
    "Constant velocity predictor requires no training, hence there is no need to split the trajectories into train and validation sets."
   ]
  },
  {
   "cell_type": "code",
   "execution_count": 5,
   "id": "279c56b5",
   "metadata": {},
   "outputs": [],
   "source": [
    "from uncertainty_motion_prediction.evaluators import DistanceErrorEvaluator\n",
    "from uncertainty_motion_prediction.predictor import ConstantVelocityPredictor"
   ]
  },
  {
   "cell_type": "code",
   "execution_count": 6,
   "id": "87413fff",
   "metadata": {},
   "outputs": [
    {
     "data": {
      "image/png": "[encoded data removed]",
      "text/plain": [
       "<Figure size 1152x360 with 2 Axes>"
      ]
     },
     "metadata": {
      "needs_background": "light"
     },
     "output_type": "display_data"
    }
   ],
   "source": [
    "pred = ConstantVelocityPredictor(N_future=4, dt=0.4)\n",
    "evaluator = DistanceErrorEvaluator(N_future=4)\n",
    "evaluator.evaluate(pred, trajlets)\n",
    "evaluator.hist()"
   ]
  },
  {
   "cell_type": "code",
   "execution_count": null,
   "id": "38375ba8",
   "metadata": {},
   "outputs": [],
   "source": []
  }
 ],
 "metadata": {
  "kernelspec": {
   "display_name": "Python 3 (ipykernel)",
   "language": "python",
   "name": "python3"
  },
  "language_info": {
   "codemirror_mode": {
    "name": "ipython",
    "version": 3
   },
   "file_extension": ".py",
   "mimetype": "text/x-python",
   "name": "python",
   "nbconvert_exporter": "python",
   "pygments_lexer": "ipython3",
   "version": "3.8.11"
  }
 },
 "nbformat": 4,
 "nbformat_minor": 5
}
