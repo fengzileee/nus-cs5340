{
 "cells": [
  {
   "cell_type": "code",
   "execution_count": 1,
   "id": "2047d8ec",
   "metadata": {},
   "outputs": [],
   "source": [
    "import os\n",
    "import numpy as np\n",
    "import matplotlib.pyplot as plt\n",
    "from uncertainty_motion_prediction.dataloader import Dataloader\n",
    "\n",
    "dataset=Dataloader();\n",
    "traj_dataset = dataset.load(0)"
   ]
  },
  {
   "cell_type": "markdown",
   "id": "9d237365",
   "metadata": {},
   "source": [
    "# Get trajectories from the dataset"
   ]
  },
  {
   "cell_type": "markdown",
   "id": "291adf55",
   "metadata": {},
   "source": [
    "## As a list of Pandas dataframes"
   ]
  },
  {
   "cell_type": "code",
   "execution_count": 2,
   "id": "57354de6",
   "metadata": {},
   "outputs": [
    {
     "data": {
      "text/plain": [
       "768"
      ]
     },
     "execution_count": 2,
     "metadata": {},
     "output_type": "execute_result"
    }
   ],
   "source": [
    "trajlets = traj_dataset.get_trajlets(length=4.8)\n",
    "len(trajlets)"
   ]
  },
  {
   "cell_type": "code",
   "execution_count": 3,
   "id": "cf370664",
   "metadata": {},
   "outputs": [
    {
     "data": {
      "text/html": [
       "<div>\n",
       "<style scoped>\n",
       "    .dataframe tbody tr th:only-of-type {\n",
       "        vertical-align: middle;\n",
       "    }\n",
       "\n",
       "    .dataframe tbody tr th {\n",
       "        vertical-align: top;\n",
       "    }\n",
       "\n",
       "    .dataframe thead th {\n",
       "        text-align: right;\n",
       "    }\n",
       "</style>\n",
       "<table border=\"1\" class=\"dataframe\">\n",
       "  <thead>\n",
       "    <tr style=\"text-align: right;\">\n",
       "      <th></th>\n",
       "      <th>frame_id</th>\n",
       "      <th>agent_id</th>\n",
       "      <th>pos_x</th>\n",
       "      <th>pos_y</th>\n",
       "      <th>vel_x</th>\n",
       "      <th>vel_y</th>\n",
       "      <th>scene_id</th>\n",
       "      <th>label</th>\n",
       "      <th>timestamp</th>\n",
       "    </tr>\n",
       "  </thead>\n",
       "  <tbody>\n",
       "    <tr>\n",
       "      <th>5</th>\n",
       "      <td>804</td>\n",
       "      <td>2</td>\n",
       "      <td>13.017548</td>\n",
       "      <td>5.782591</td>\n",
       "      <td>-2.324444</td>\n",
       "      <td>-0.076606</td>\n",
       "      <td>0</td>\n",
       "      <td>pedestrian</td>\n",
       "      <td>53.6</td>\n",
       "    </tr>\n",
       "    <tr>\n",
       "      <th>7</th>\n",
       "      <td>810</td>\n",
       "      <td>2</td>\n",
       "      <td>12.087770</td>\n",
       "      <td>5.751949</td>\n",
       "      <td>-1.589052</td>\n",
       "      <td>-0.065971</td>\n",
       "      <td>0</td>\n",
       "      <td>pedestrian</td>\n",
       "      <td>54.0</td>\n",
       "    </tr>\n",
       "    <tr>\n",
       "      <th>9</th>\n",
       "      <td>816</td>\n",
       "      <td>2</td>\n",
       "      <td>11.746306</td>\n",
       "      <td>5.729815</td>\n",
       "      <td>-1.140766</td>\n",
       "      <td>0.105373</td>\n",
       "      <td>0</td>\n",
       "      <td>pedestrian</td>\n",
       "      <td>54.4</td>\n",
       "    </tr>\n",
       "    <tr>\n",
       "      <th>10</th>\n",
       "      <td>822</td>\n",
       "      <td>2</td>\n",
       "      <td>11.175158</td>\n",
       "      <td>5.836247</td>\n",
       "      <td>-1.640021</td>\n",
       "      <td>0.179235</td>\n",
       "      <td>0</td>\n",
       "      <td>pedestrian</td>\n",
       "      <td>54.8</td>\n",
       "    </tr>\n",
       "    <tr>\n",
       "      <th>11</th>\n",
       "      <td>828</td>\n",
       "      <td>2</td>\n",
       "      <td>10.434290</td>\n",
       "      <td>5.873203</td>\n",
       "      <td>-1.406129</td>\n",
       "      <td>0.419050</td>\n",
       "      <td>0</td>\n",
       "      <td>pedestrian</td>\n",
       "      <td>55.2</td>\n",
       "    </tr>\n",
       "    <tr>\n",
       "      <th>13</th>\n",
       "      <td>834</td>\n",
       "      <td>2</td>\n",
       "      <td>10.050254</td>\n",
       "      <td>6.171487</td>\n",
       "      <td>-1.078742</td>\n",
       "      <td>0.455190</td>\n",
       "      <td>0</td>\n",
       "      <td>pedestrian</td>\n",
       "      <td>55.6</td>\n",
       "    </tr>\n",
       "    <tr>\n",
       "      <th>15</th>\n",
       "      <td>840</td>\n",
       "      <td>2</td>\n",
       "      <td>9.571296</td>\n",
       "      <td>6.237355</td>\n",
       "      <td>-1.207725</td>\n",
       "      <td>0.115437</td>\n",
       "      <td>0</td>\n",
       "      <td>pedestrian</td>\n",
       "      <td>56.0</td>\n",
       "    </tr>\n",
       "    <tr>\n",
       "      <th>19</th>\n",
       "      <td>846</td>\n",
       "      <td>2</td>\n",
       "      <td>9.084074</td>\n",
       "      <td>6.263836</td>\n",
       "      <td>-1.273181</td>\n",
       "      <td>0.170841</td>\n",
       "      <td>0</td>\n",
       "      <td>pedestrian</td>\n",
       "      <td>56.4</td>\n",
       "    </tr>\n",
       "    <tr>\n",
       "      <th>24</th>\n",
       "      <td>852</td>\n",
       "      <td>2</td>\n",
       "      <td>8.552751</td>\n",
       "      <td>6.374027</td>\n",
       "      <td>-1.232733</td>\n",
       "      <td>0.271502</td>\n",
       "      <td>0</td>\n",
       "      <td>pedestrian</td>\n",
       "      <td>56.8</td>\n",
       "    </tr>\n",
       "    <tr>\n",
       "      <th>29</th>\n",
       "      <td>858</td>\n",
       "      <td>2</td>\n",
       "      <td>8.097887</td>\n",
       "      <td>6.481037</td>\n",
       "      <td>-1.146730</td>\n",
       "      <td>0.217892</td>\n",
       "      <td>0</td>\n",
       "      <td>pedestrian</td>\n",
       "      <td>57.2</td>\n",
       "    </tr>\n",
       "    <tr>\n",
       "      <th>34</th>\n",
       "      <td>864</td>\n",
       "      <td>2</td>\n",
       "      <td>7.635367</td>\n",
       "      <td>6.548341</td>\n",
       "      <td>-1.163496</td>\n",
       "      <td>0.169306</td>\n",
       "      <td>0</td>\n",
       "      <td>pedestrian</td>\n",
       "      <td>57.6</td>\n",
       "    </tr>\n",
       "    <tr>\n",
       "      <th>39</th>\n",
       "      <td>870</td>\n",
       "      <td>2</td>\n",
       "      <td>7.167091</td>\n",
       "      <td>6.616482</td>\n",
       "      <td>-1.126493</td>\n",
       "      <td>0.116400</td>\n",
       "      <td>0</td>\n",
       "      <td>pedestrian</td>\n",
       "      <td>58.0</td>\n",
       "    </tr>\n",
       "  </tbody>\n",
       "</table>\n",
       "</div>"
      ],
      "text/plain": [
       "    frame_id  agent_id      pos_x     pos_y     vel_x     vel_y  scene_id  \\\n",
       "5        804         2  13.017548  5.782591 -2.324444 -0.076606         0   \n",
       "7        810         2  12.087770  5.751949 -1.589052 -0.065971         0   \n",
       "9        816         2  11.746306  5.729815 -1.140766  0.105373         0   \n",
       "10       822         2  11.175158  5.836247 -1.640021  0.179235         0   \n",
       "11       828         2  10.434290  5.873203 -1.406129  0.419050         0   \n",
       "13       834         2  10.050254  6.171487 -1.078742  0.455190         0   \n",
       "15       840         2   9.571296  6.237355 -1.207725  0.115437         0   \n",
       "19       846         2   9.084074  6.263836 -1.273181  0.170841         0   \n",
       "24       852         2   8.552751  6.374027 -1.232733  0.271502         0   \n",
       "29       858         2   8.097887  6.481037 -1.146730  0.217892         0   \n",
       "34       864         2   7.635367  6.548341 -1.163496  0.169306         0   \n",
       "39       870         2   7.167091  6.616482 -1.126493  0.116400         0   \n",
       "\n",
       "         label  timestamp  \n",
       "5   pedestrian       53.6  \n",
       "7   pedestrian       54.0  \n",
       "9   pedestrian       54.4  \n",
       "10  pedestrian       54.8  \n",
       "11  pedestrian       55.2  \n",
       "13  pedestrian       55.6  \n",
       "15  pedestrian       56.0  \n",
       "19  pedestrian       56.4  \n",
       "24  pedestrian       56.8  \n",
       "29  pedestrian       57.2  \n",
       "34  pedestrian       57.6  \n",
       "39  pedestrian       58.0  "
      ]
     },
     "execution_count": 3,
     "metadata": {},
     "output_type": "execute_result"
    }
   ],
   "source": [
    "trajlets[0]"
   ]
  },
  {
   "cell_type": "markdown",
   "id": "da1ec6fb",
   "metadata": {},
   "source": [
    "## As numpy array"
   ]
  },
  {
   "cell_type": "code",
   "execution_count": 4,
   "id": "72f0c3da",
   "metadata": {},
   "outputs": [
    {
     "data": {
      "text/plain": [
       "array([[13.017548  ,  5.7825914 , -2.3244442 , -0.07660594, 53.6       ],\n",
       "       [12.08777   ,  5.751949  , -1.5890517 , -0.06597106, 54.        ],\n",
       "       [11.746306  ,  5.7298146 , -1.1407656 ,  0.10537256, 54.4       ],\n",
       "       [11.175158  ,  5.8362471 , -1.6400209 ,  0.17923528, 54.8       ],\n",
       "       [10.43429   ,  5.8732028 , -1.4061292 ,  0.41904965, 55.2       ],\n",
       "       [10.050254  ,  6.1714868 , -1.0787423 ,  0.45518986, 55.6       ],\n",
       "       [ 9.5712958 ,  6.2373547 , -1.207725  ,  0.11543663, 56.        ],\n",
       "       [ 9.0840742 ,  6.2638361 , -1.2731811 ,  0.17084078, 56.4       ],\n",
       "       [ 8.5527509 ,  6.3740273 , -1.2327335 ,  0.2715015 , 56.8       ],\n",
       "       [ 8.0978874 ,  6.4810373 , -1.1467297 ,  0.21789191, 57.2       ],\n",
       "       [ 7.6353672 ,  6.5483408 , -1.1634956 ,  0.16930578, 57.6       ],\n",
       "       [ 7.1670909 ,  6.616482  , -1.1264929 ,  0.11639996, 58.        ]])"
      ]
     },
     "execution_count": 4,
     "metadata": {},
     "output_type": "execute_result"
    }
   ],
   "source": [
    "trajlets = traj_dataset.get_trajlets(length=4.8, to_numpy=True)\n",
    "trajlets[0, :, :]"
   ]
  },
  {
   "cell_type": "markdown",
   "id": "5d6c76f8",
   "metadata": {},
   "source": [
    "# Hidden Markov Model with trajectory sub-segment latent states"
   ]
  },
  {
   "cell_type": "markdown",
   "id": "a731ec2a",
   "metadata": {},
   "source": [
    "This method works by modelling a pedestrian trajectory as being composed of multiple common segment primitives. Developing the HMM model consists of 2 parts:\n",
    "* Extracting common trajectory sub-segments from data. These sub-segments or segment primitives will be the states of the HMM.\n",
    "* Learn the transition matrix of the HMM. To predict the pedestrian's trajectory, we need the ability to predict the next state or segment primitive the pedestrian will transit to after the current segment the pedestrian is executing."
   ]
  },
  {
   "cell_type": "code",
   "execution_count": 5,
   "id": "279c56b5",
   "metadata": {},
   "outputs": [],
   "source": [
    "from uncertainty_motion_prediction.evaluators import DistanceErrorEvaluator\n",
    "from uncertainty_motion_prediction.predictor import HMMLatentSegmentsExtractor, KMeansOutcome"
   ]
  },
  {
   "cell_type": "markdown",
   "id": "63e643df",
   "metadata": {},
   "source": [
    "### Sanity checks\n",
    "\n",
    "We perform some sanity checks on artificial data first to validate the HMM algorithm. Generate the artificial trajectories from a set of 5 different trajectory types"
   ]
  },
  {
   "cell_type": "code",
   "execution_count": 6,
   "id": "c3c259da",
   "metadata": {},
   "outputs": [
    {
     "name": "stdout",
     "output_type": "stream",
     "text": [
      "[array([[ 8.96391046,  9.05106636, -1.02054353,  0.11027128],\n",
      "       [ 7.94336693,  9.16133764, -5.10271766,  0.55135639],\n",
      "       [ 2.84064926,  9.71269403, -5.10271766,  0.55135639]]), array([[  9.97508541,  -4.14069616,  -1.06872682,  -1.02810307],\n",
      "       [  8.90635859,  -5.16879923,  -5.34363408,  -5.14051536],\n",
      "       [  3.56272452, -10.3093146 ,  -5.34363408,  -5.14051536]]), array([[  0.67369112,  -9.1880508 ,  -0.79816464,  -0.62003924],\n",
      "       [ -0.12447352,  -9.80809004,  -3.99082322,  -3.10019621],\n",
      "       [ -4.11529674, -12.90828626,  -3.99082322,  -3.10019621]]), array([[ 2.19322771,  4.00770083, -1.34902346,  0.24352156],\n",
      "       [ 0.84420425,  4.25122239, -1.34902346,  0.24352156],\n",
      "       [-0.5048192 ,  4.49474395, -1.34902346,  0.24352156]]), array([[ 8.80179363, -3.66765963,  0.91094551, -0.24846984],\n",
      "       [ 9.71273914, -3.91612947,  0.91094551, -0.24846984],\n",
      "       [10.62368465, -4.16459931,  0.91094551, -0.24846984]]), array([[-1.6825479 , -5.17672516,  1.41648898,  0.47246541],\n",
      "       [-0.26605893, -4.70425975,  1.41648898,  0.47246541],\n",
      "       [ 1.15043005, -4.23179434,  1.41648898,  0.47246541]]), array([[-6.12732064,  8.10710037, -0.7126905 , -0.54956735],\n",
      "       [-6.84001114,  7.55753302, -0.16312315, -1.26225785],\n",
      "       [-7.00313428,  6.29527517, -0.16312315, -1.26225785]]), array([[ 0.3493683 ,  5.86785729, -1.04766903, -0.7985116 ],\n",
      "       [-0.69830073,  5.0693457 , -0.24915743, -1.84618063],\n",
      "       [-0.94745816,  3.22316507, -0.24915743, -1.84618063]]), array([[ 5.56296222,  7.60750749, -0.35741226,  0.83955939],\n",
      "       [ 5.20554997,  8.44706688, -1.19697165,  0.48214714],\n",
      "       [ 4.00857832,  8.92921402, -1.19697165,  0.48214714]]), array([[ 9.29556092,  9.42124289, -0.31098403,  0.44472844],\n",
      "       [ 8.9845769 ,  9.86597133,  0.13374441,  0.75571247],\n",
      "       [ 9.11832131, 10.6216838 ,  0.13374441,  0.75571247]]), array([[-0.88618494, -1.46019901, -0.56327932,  0.50545619],\n",
      "       [-1.44946426, -0.95474282, -0.05782313,  1.0687355 ],\n",
      "       [-1.50728739,  0.11399268, -0.05782313,  1.0687355 ]]), array([[-4.33248834e+00,  9.17366843e+00, -1.54214918e-03,\n",
      "        -1.38197226e+00],\n",
      "       [-4.33403049e+00,  7.79169616e+00, -1.38351441e+00,\n",
      "        -1.38043012e+00],\n",
      "       [-5.71754490e+00,  6.41126605e+00, -1.38351441e+00,\n",
      "        -1.38043012e+00]]), array([[ 4.61810117, -8.61260204,  0.21633256, -1.0141899 ],\n",
      "       [ 4.83443373, -9.62679193, -0.43266513,  2.02837979],\n",
      "       [ 4.40176861, -7.59841214, -0.43266513,  2.02837979]]), array([[ 1.36944403,  1.37423204,  0.72002978, -0.2691204 ],\n",
      "       [ 2.08947382,  1.10511164, -1.44005957,  0.5382408 ],\n",
      "       [ 0.64941425,  1.64335244, -1.44005957,  0.5382408 ]]), array([[-4.63588343e+00,  9.23659433e-01, -6.80662414e-01,\n",
      "        -9.23646354e-01],\n",
      "       [-5.31654584e+00,  1.30786769e-05,  1.36132483e+00,\n",
      "         1.84729271e+00],\n",
      "       [-3.95522101e+00,  1.84730579e+00,  1.36132483e+00,\n",
      "         1.84729271e+00]])]\n",
      "(15, 3, 4)\n"
     ]
    }
   ],
   "source": [
    "seg_type1 = [[0, 0, 1, 0], [1, 0, 5, 0], [6, 0, 5, 0]]\n",
    "seg_type2 = [[0, 0, 1, 0], [1, 0, 1, 0], [2, 0, 1, 0]]\n",
    "seg_type3 = [[0, 0, 1, 0], [1, 0, 1, 1], [2, 1, 1, 1]]\n",
    "seg_type4 = [[0, 0, 1, 0], [1, 0, 1, -1], [2, -1, 1, -1]]\n",
    "seg_type5 = [[0, 0, 1, 0], [1, 0, -2, 0], [-1, 0, -2, 0]]\n",
    "\n",
    "seg_types = np.array([seg_type1, seg_type2, seg_type3, seg_type4, seg_type5])\n",
    "test_trajs = []\n",
    "\n",
    "for seg_type in seg_types:\n",
    "    for i in range(3):\n",
    "        angle = np.random.uniform(-2*np.pi, 2*np.pi)\n",
    "        scale = np.random.uniform(0.5, 1.5)\n",
    "        trans = np.array([[np.random.uniform(-10, 10), np.random.uniform(-10, 10)]]).T\n",
    "\n",
    "        R = np.array([[np.cos(angle), -np.sin(angle)],\n",
    "                      [np.sin(angle), np.cos(angle)]])\n",
    "        S = np.array([[scale, 0], \n",
    "                      [0, scale]])\n",
    "\n",
    "        seg = np.dot(S, np.dot(R, seg_type[:, 0:2].T))\n",
    "        seg = seg + trans\n",
    "        seg_vels = np.dot(S, np.dot(R, seg_type[:, 2:].T))\n",
    "        sample = np.hstack((seg.T, seg_vels.T))\n",
    "        test_trajs.append(sample)\n",
    "        \n",
    "print(test_trajs)\n",
    "print(np.array(test_trajs).shape)"
   ]
  },
  {
   "cell_type": "markdown",
   "id": "5b6f64db",
   "metadata": {},
   "source": [
    "Test the performance of the clustering step. The code implements 2 different ways to do this: 1) X-means which automatically selects the optimal number of clusters using Bayesian Information Criterion, 2) iterative K-means over a range of possible numbers of clusters, with the user left to select the optimal number of clusters manually from the extracted distance-to-centroid and silhouette methods.\n",
    "\n",
    "We test (2), since the X-means approach with BIC seems prone to over-clustering."
   ]
  },
  {
   "cell_type": "code",
   "execution_count": 7,
   "id": "8f8a7bf1",
   "metadata": {},
   "outputs": [
    {
     "data": {
      "text/plain": [
       "Text(0.5, 1.0, 'Silhouette scores')"
      ]
     },
     "execution_count": 7,
     "metadata": {},
     "output_type": "execute_result"
    },
    {
     "data": {
      "image/png": "[encoded data removed]",
      "text/plain": [
       "<Figure size 432x288 with 2 Axes>"
      ]
     },
     "metadata": {
      "needs_background": "light"
     },
     "output_type": "display_data"
    }
   ],
   "source": [
    "extractor = HMMLatentSegmentsExtractor(segment_len=3)\n",
    "\n",
    "dists, silhouettes, clusters, centres = extractor.learn_latent_segments_manual_kmeans(np.array(test_trajs))\n",
    "cluster_range = range(extractor._n_min_centres, extractor._n_max_centres + 1)\n",
    "\n",
    "fig, axs = plt.subplots(1, 2)\n",
    "axs[0].plot(cluster_range, dists)\n",
    "axs[1].plot(cluster_range, silhouettes)\n",
    "axs[0].set_title('Distances')\n",
    "axs[1].set_title('Silhouette scores')"
   ]
  },
  {
   "cell_type": "code",
   "execution_count": 8,
   "id": "82b96bba",
   "metadata": {},
   "outputs": [
    {
     "name": "stdout",
     "output_type": "stream",
     "text": [
      "5\n"
     ]
    },
    {
     "data": {
      "text/plain": [
       "[1, 1, 1, 4, 4, 4, 3, 3, 3, 0, 0, 0, 2, 2, 2]"
      ]
     },
     "execution_count": 8,
     "metadata": {},
     "output_type": "execute_result"
    }
   ],
   "source": [
    "clustering = KMeansOutcome(3, centres[2])\n",
    "print(clustering.N)\n",
    "clustering.classify_batch(test_trajs)"
   ]
  },
  {
   "cell_type": "markdown",
   "id": "8a6d6e15",
   "metadata": {},
   "source": [
    "TODO: Test the performance of the learning of the transition matrix."
   ]
  },
  {
   "cell_type": "markdown",
   "id": "060a45cf",
   "metadata": {},
   "source": [
    "### Learn segments from data"
   ]
  },
  {
   "cell_type": "code",
   "execution_count": 9,
   "id": "e267a02e",
   "metadata": {},
   "outputs": [
    {
     "name": "stdout",
     "output_type": "stream",
     "text": [
      "(3478, 4, 5)\n"
     ]
    }
   ],
   "source": [
    "segment_length = 4\n",
    "trajlets_for_segments_learning = traj_dataset.get_trajlets(length=segment_length*0.4, overlap=1, to_numpy=True)\n",
    "print(trajlets_for_segments_learning.shape)"
   ]
  },
  {
   "cell_type": "code",
   "execution_count": 10,
   "id": "75532677",
   "metadata": {},
   "outputs": [],
   "source": [
    "extractor = HMMLatentSegmentsExtractor(segment_len=segment_length, n_min_centres=10, n_max_centres=120)\n",
    "dists, silhouettes, clusters, centres = extractor.learn_latent_segments_manual_kmeans(trajlets_for_segments_learning[:, :, 0:4])\n",
    "cluster_range = range(extractor._n_min_centres, extractor._n_max_centres + 1)"
   ]
  },
  {
   "cell_type": "code",
   "execution_count": 11,
   "id": "c67292a4",
   "metadata": {},
   "outputs": [
    {
     "data": {
      "text/plain": [
       "Text(0.5, 1.0, 'Silhouette scores')"
      ]
     },
     "execution_count": 11,
     "metadata": {},
     "output_type": "execute_result"
    },
    {
     "data": {
      "image/png": "[encoded data removed]",
      "text/plain": [
       "<Figure size 432x288 with 2 Axes>"
      ]
     },
     "metadata": {
      "needs_background": "light"
     },
     "output_type": "display_data"
    }
   ],
   "source": [
    "fig, axs = plt.subplots(1, 2)\n",
    "axs[0].plot(cluster_range, dists)\n",
    "axs[1].plot(cluster_range, silhouettes)\n",
    "axs[0].set_title('Distances')\n",
    "axs[1].set_title('Silhouette scores')"
   ]
  },
  {
   "cell_type": "code",
   "execution_count": 12,
   "id": "d2b357c0",
   "metadata": {},
   "outputs": [
    {
     "data": {
      "text/plain": [
       "[0.4341207099679898,\n",
       " 0.31204710641726474,\n",
       " 0.42854737654613034,\n",
       " 0.3976581616206693,\n",
       " 0.2667726218331618,\n",
       " 0.33757998456809857,\n",
       " 0.30381623201944785,\n",
       " 0.3424526702792228,\n",
       " 0.3465768035655761,\n",
       " 0.29128943141356944,\n",
       " 0.33811130635307907,\n",
       " 0.325968411195757,\n",
       " 0.3362145203736997,\n",
       " 0.3019134772845863,\n",
       " 0.3061687077716427,\n",
       " 0.3112041753843873,\n",
       " 0.3325300802137332,\n",
       " 0.3057642920018137,\n",
       " 0.3275708957469461,\n",
       " 0.2729697159710682,\n",
       " 0.2919774142306168,\n",
       " 0.3155466504635065,\n",
       " 0.2985389065361317,\n",
       " 0.2816363982907124,\n",
       " 0.32738308599194893,\n",
       " 0.2766342082449574,\n",
       " 0.2993741476442041,\n",
       " 0.2978928038363021,\n",
       " 0.3191697714655829,\n",
       " 0.27819669248643525,\n",
       " 0.3183857551688513,\n",
       " 0.27286491907861604,\n",
       " 0.264538564878781,\n",
       " 0.27553663335531653,\n",
       " 0.3113173112138711,\n",
       " 0.2792919230131073,\n",
       " 0.2693981138782403,\n",
       " 0.29212457304677686,\n",
       " 0.26223250963328376,\n",
       " 0.26916307724085975,\n",
       " 0.27728975600626454,\n",
       " 0.28120637588508013,\n",
       " 0.2697698146088114,\n",
       " 0.2673290415119615,\n",
       " 0.26789843562391635,\n",
       " 0.2529692064186471,\n",
       " 0.29823246535384657,\n",
       " 0.26282465889169776,\n",
       " 0.2457342299738548,\n",
       " 0.24941801793026658,\n",
       " 0.2625585719645004,\n",
       " 0.2751017131049931,\n",
       " 0.26495965879494976,\n",
       " 0.24392359599428903,\n",
       " 0.2335214367085113,\n",
       " 0.27091727224386686,\n",
       " 0.2423444858792669,\n",
       " 0.2690293809624976,\n",
       " 0.26471377643691085,\n",
       " 0.2589799484084447,\n",
       " 0.2770928409783529,\n",
       " 0.25876341043457274,\n",
       " 0.24511545237636678,\n",
       " 0.2508819959694995,\n",
       " 0.24616873160393224,\n",
       " 0.2407650745537988,\n",
       " 0.24254369153269278,\n",
       " 0.23759751655814618,\n",
       " 0.2539651217512286,\n",
       " 0.23124502530317484,\n",
       " 0.23956445742711846,\n",
       " 0.26531987091848075,\n",
       " 0.2433539355748463,\n",
       " 0.25342565580510473,\n",
       " 0.251445694831021,\n",
       " 0.22113438052101733,\n",
       " 0.23378583861219324,\n",
       " 0.2612865596688356,\n",
       " 0.22802865275409442,\n",
       " 0.25051024510431846,\n",
       " 0.22972729418654977,\n",
       " 0.2418246141644108,\n",
       " 0.25580686807248726,\n",
       " 0.23801920860233702,\n",
       " 0.22059359898313893,\n",
       " 0.24203761255552692,\n",
       " 0.24010966253349805,\n",
       " 0.23109880509622768,\n",
       " 0.23896483668075563,\n",
       " 0.22917954509346972,\n",
       " 0.2373306502438618,\n",
       " 0.24501362360358303,\n",
       " 0.23768880263021408,\n",
       " 0.2296438916097303,\n",
       " 0.2361397684868686,\n",
       " 0.22971078295183106,\n",
       " 0.23247498021325144,\n",
       " 0.2478054872384691,\n",
       " 0.2344708168177214,\n",
       " 0.22007563118705087,\n",
       " 0.24355121688375983,\n",
       " 0.23165644725431397,\n",
       " 0.2265014927104018,\n",
       " 0.22410175570229895,\n",
       " 0.2334297863146523,\n",
       " 0.23291990732381743,\n",
       " 0.2322728253845473,\n",
       " 0.22297164957153603,\n",
       " 0.2403069423958939,\n",
       " 0.2422439070771175,\n",
       " 0.2354300753399146]"
      ]
     },
     "execution_count": 12,
     "metadata": {},
     "output_type": "execute_result"
    }
   ],
   "source": [
    "silhouettes"
   ]
  },
  {
   "cell_type": "code",
   "execution_count": 13,
   "id": "9e893bd5",
   "metadata": {},
   "outputs": [
    {
     "name": "stdout",
     "output_type": "stream",
     "text": [
      "48.37672589537924\n"
     ]
    }
   ],
   "source": [
    "center_idx = 15\n",
    "print(dists[center_idx])\n",
    "center = np.array(centres[center_idx])"
   ]
  },
  {
   "cell_type": "code",
   "execution_count": 14,
   "id": "2d9066eb",
   "metadata": {},
   "outputs": [
    {
     "name": "stdout",
     "output_type": "stream",
     "text": [
      "[[[ 0.00000000e+00  4.00640592e-01  7.91871473e-01  1.18365909e+00]\n",
      "  [ 0.00000000e+00 -5.08760235e-03 -1.90662364e-02 -2.65057524e-02]]\n",
      "\n",
      " [[ 0.00000000e+00  8.00000570e-01  6.76318491e+00  1.17831903e+01]\n",
      "  [ 0.00000000e+00  3.79917577e-08  4.57076428e+00  1.10072319e+01]]\n",
      "\n",
      " [[ 0.00000000e+00  3.99999750e-01 -4.22986744e+00 -6.41688584e+00]\n",
      "  [ 0.00000000e+00  1.04060197e-06  5.06935612e+00  7.47831827e+00]]\n",
      "\n",
      " [[ 0.00000000e+00  7.99998295e-01  3.19860076e+00  7.23039817e+00]\n",
      "  [ 0.00000000e+00  1.26254321e-05  1.37917659e-06 -4.59514500e+00]]\n",
      "\n",
      " [[ 0.00000000e+00  4.07164477e-01  7.89393175e-01  1.18991044e+00]\n",
      "  [ 0.00000000e+00  6.33231887e-02  2.54240735e-01  4.33095624e-01]]\n",
      "\n",
      " [[ 0.00000000e+00  3.95357954e-01  7.82162940e-01  1.17103829e+00]\n",
      "  [ 0.00000000e+00  1.21944331e-02  4.73933214e-02  7.60273182e-02]]\n",
      "\n",
      " [[ 0.00000000e+00  4.51421514e-01  9.63256298e-01  1.40878539e+00]\n",
      "  [ 0.00000000e+00 -1.03670508e-02 -3.90152854e-02 -4.67501714e-02]]\n",
      "\n",
      " [[ 0.00000000e+00  3.66013672e-01  5.95328424e-01  8.72582929e-01]\n",
      "  [ 0.00000000e+00  7.42142991e-04 -1.89020088e-03 -1.20687279e-03]]\n",
      "\n",
      " [[ 0.00000000e+00  4.21365689e-01  8.88100060e-01  1.30884452e+00]\n",
      "  [ 0.00000000e+00 -3.74714978e-02 -2.54864908e-01 -5.21969129e-01]]\n",
      "\n",
      " [[ 0.00000000e+00  4.13253059e-01  8.96376326e-01  1.36192360e+00]\n",
      "  [ 0.00000000e+00  2.03997973e-02  1.10100768e-01  1.71392528e-01]]\n",
      "\n",
      " [[ 0.00000000e+00  6.72165592e-01  1.91110410e+00  3.33702429e+00]\n",
      "  [ 0.00000000e+00  1.83541955e-01  2.39398065e-01  5.15837707e-01]]\n",
      "\n",
      " [[ 0.00000000e+00  6.09317980e-01  1.42271992e+00  2.19661150e+00]\n",
      "  [ 0.00000000e+00 -3.40267005e-02 -2.24087584e-01 -3.71123426e-01]]\n",
      "\n",
      " [[ 0.00000000e+00  3.99999558e-01  1.35025457e+00  2.03053842e+00]\n",
      "  [ 0.00000000e+00  1.80434237e-07 -1.13385516e+00 -2.02631808e+00]]\n",
      "\n",
      " [[ 0.00000000e+00  3.76709407e-01  7.03547061e-01  9.86700738e-01]\n",
      "  [ 0.00000000e+00 -2.98002413e-02 -2.03926912e-01 -3.69315320e-01]]\n",
      "\n",
      " [[ 0.00000000e+00  4.37423575e-01  1.05036341e+00  1.55743019e+00]\n",
      "  [ 0.00000000e+00 -2.63532060e-02 -1.71598234e-01 -2.49939728e-01]]\n",
      "\n",
      " [[ 0.00000000e+00  3.86431554e-01  7.20800757e-01  1.06213879e+00]\n",
      "  [ 0.00000000e+00 -3.94750099e-03 -1.48205786e-02 -2.80784650e-02]]\n",
      "\n",
      " [[ 0.00000000e+00  1.01590234e+00  2.27779208e+00  3.59515339e+00]\n",
      "  [ 0.00000000e+00 -3.80520679e-01 -7.54721609e-01 -8.74992735e-01]]\n",
      "\n",
      " [[ 0.00000000e+00  5.74379627e-01  1.22959980e+00  1.83903125e+00]\n",
      "  [ 0.00000000e+00  3.79233094e-03 -4.72001352e-03 -5.60592041e-02]]\n",
      "\n",
      " [[ 0.00000000e+00  3.86255400e-01  7.33617395e-01  1.08749821e+00]\n",
      "  [ 0.00000000e+00  2.22584456e-02  1.07814290e-01  1.95922862e-01]]\n",
      "\n",
      " [[ 0.00000000e+00  3.83272075e-01  1.06328669e+00  1.69027437e+00]\n",
      "  [ 0.00000000e+00  3.80392648e-02  2.08938617e-01  3.64124332e-01]]\n",
      "\n",
      " [[ 0.00000000e+00  3.89214723e-01  7.68813814e-01  1.15003491e+00]\n",
      "  [ 0.00000000e+00 -2.39718459e-02 -1.11167594e-01 -1.79965208e-01]]\n",
      "\n",
      " [[ 0.00000000e+00  3.05155120e-01  1.61238359e+00  2.30116422e+00]\n",
      "  [ 0.00000000e+00  1.45713107e-02  1.19072697e-01  2.77643358e-01]]\n",
      "\n",
      " [[ 0.00000000e+00  4.07980349e-01  8.40687254e-01  1.26737229e+00]\n",
      "  [ 0.00000000e+00 -1.18984028e-02 -7.29296263e-02 -1.24579879e-01]]\n",
      "\n",
      " [[ 0.00000000e+00  4.08555758e-01  8.41632015e-01  1.27069997e+00]\n",
      "  [ 0.00000000e+00  2.43225388e-03  1.95826231e-02  3.28566843e-02]]\n",
      "\n",
      " [[ 0.00000000e+00  3.80863536e-01  6.64443213e-01  1.40258916e+00]\n",
      "  [ 0.00000000e+00  1.89682647e-02  2.35493162e-02 -1.08051796e-01]]]\n"
     ]
    }
   ],
   "source": [
    "patterns = center.reshape([-1, 2, segment_length])\n",
    "print(patterns)"
   ]
  },
  {
   "cell_type": "code",
   "execution_count": 15,
   "id": "a8743e26",
   "metadata": {},
   "outputs": [
    {
     "data": {
      "image/png": "[encoded data removed]",
      "text/plain": [
       "<Figure size 720x720 with 1 Axes>"
      ]
     },
     "metadata": {
      "needs_background": "light"
     },
     "output_type": "display_data"
    }
   ],
   "source": [
    "fig, axs = plt.subplots(1, 1, figsize=(10, 10))\n",
    "for p in patterns[:, :, :]:\n",
    "    axs.plot(p[0, :], p[1, :])"
   ]
  },
  {
   "cell_type": "markdown",
   "id": "949daff8",
   "metadata": {},
   "source": [
    "### Evaluate ADE and FDE performance on ETH dataset"
   ]
  },
  {
   "cell_type": "code",
   "execution_count": null,
   "id": "431d5892",
   "metadata": {},
   "outputs": [],
   "source": []
  }
 ],
 "metadata": {
  "kernelspec": {
   "display_name": "Python 3 (ipykernel)",
   "language": "python",
   "name": "python3"
  },
  "language_info": {
   "codemirror_mode": {
    "name": "ipython",
    "version": 3
   },
   "file_extension": ".py",
   "mimetype": "text/x-python",
   "name": "python",
   "nbconvert_exporter": "python",
   "pygments_lexer": "ipython3",
   "version": "3.8.11"
  }
 },
 "nbformat": 4,
 "nbformat_minor": 5
}
