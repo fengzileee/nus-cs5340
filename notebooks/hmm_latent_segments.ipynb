{
 "cells": [
  {
   "cell_type": "code",
   "execution_count": null,
   "id": "2047d8ec",
   "metadata": {},
   "outputs": [],
   "source": [
    "import os\n",
    "import numpy as np\n",
    "import matplotlib.pyplot as plt\n",
    "from toolkit.loaders.loader_eth import load_eth\n",
    "traj_dataset = load_eth(\"../OpenTraj/datasets/ETH/seq_eth/obsmat.txt\")"
   ]
  },
  {
   "cell_type": "markdown",
   "id": "9d237365",
   "metadata": {},
   "source": [
    "# Get trajectories from the dataset"
   ]
  },
  {
   "cell_type": "markdown",
   "id": "291adf55",
   "metadata": {},
   "source": [
    "## As a list of Pandas dataframes"
   ]
  },
  {
   "cell_type": "code",
   "execution_count": null,
   "id": "57354de6",
   "metadata": {},
   "outputs": [],
   "source": [
    "trajlets = traj_dataset.get_trajlets(length=4.8)\n",
    "len(trajlets)"
   ]
  },
  {
   "cell_type": "code",
   "execution_count": null,
   "id": "cf370664",
   "metadata": {},
   "outputs": [],
   "source": [
    "trajlets[0]"
   ]
  },
  {
   "cell_type": "markdown",
   "id": "da1ec6fb",
   "metadata": {},
   "source": [
    "## As numpy array"
   ]
  },
  {
   "cell_type": "code",
   "execution_count": null,
   "id": "72f0c3da",
   "metadata": {},
   "outputs": [],
   "source": [
    "trajlets = traj_dataset.get_trajlets(length=4.8, to_numpy=True)\n",
    "trajlets[0, :, :]"
   ]
  },
  {
   "cell_type": "markdown",
   "id": "5d6c76f8",
   "metadata": {},
   "source": [
    "# Hidden Markov Model with trajectory sub-segment latent states"
   ]
  },
  {
   "cell_type": "markdown",
   "id": "a731ec2a",
   "metadata": {},
   "source": [
    "This method works by modelling a pedestrian trajectory as being composed of multiple common segment primitives. Developing the HMM model consists of 2 parts:\n",
    "* Extracting common trajectory sub-segments from data. These sub-segments or segment primitives will be the states of the HMM.\n",
    "* Learn the transition matrix of the HMM. To predict the pedestrian's trajectory, we need the ability to predict the next state or segment primitive the pedestrian will transit to after the current segment the pedestrian is executing."
   ]
  },
  {
   "cell_type": "code",
   "execution_count": null,
   "id": "279c56b5",
   "metadata": {},
   "outputs": [],
   "source": [
    "from uncertainty_motion_prediction.evaluators import DistanceErrorEvaluator\n",
    "from uncertainty_motion_prediction.predictor import HMMLatentSegmentsPredictor"
   ]
  },
  {
   "cell_type": "markdown",
   "id": "63e643df",
   "metadata": {},
   "source": [
    "### Sanity checks\n",
    "\n",
    "We perform some sanity checks on artificial data first to validate the HMM algorithm. Generate the artificial trajectories from a set of 5 different trajectory types"
   ]
  },
  {
   "cell_type": "code",
   "execution_count": null,
   "id": "c3c259da",
   "metadata": {},
   "outputs": [],
   "source": [
    "seg_type1 = [[0, 0, 1, 0], [1, 0, 5, 0], [6, 0, 5, 0]]\n",
    "seg_type2 = [[0, 0, 1, 0], [1, 0, 1, 0], [2, 0, 1, 0]]\n",
    "seg_type3 = [[0, 0, 1, 0], [1, 0, 1, 1], [2, 1, 1, 1]]\n",
    "seg_type4 = [[0, 0, 1, 0], [1, 0, 1, -1], [2, -1, 1, -1]]\n",
    "seg_type5 = [[0, 0, 1, 0], [1, 0, -2, 0], [-1, 0, -2, 0]]\n",
    "\n",
    "seg_types = np.array([seg_type1, seg_type2, seg_type3, seg_type4, seg_type5])\n",
    "test_trajs = []\n",
    "\n",
    "for seg_type in seg_types:\n",
    "    for i in range(3):\n",
    "        angle = np.random.uniform(-2*np.pi, 2*np.pi)\n",
    "        scale = np.random.uniform(0.5, 1.5)\n",
    "        trans = np.array([[np.random.uniform(-10, 10), np.random.uniform(-10, 10)]]).T\n",
    "\n",
    "        R = np.array([[np.cos(angle), -np.sin(angle)],\n",
    "                      [np.sin(angle), np.cos(angle)]])\n",
    "        S = np.array([[scale, 0], \n",
    "                      [0, scale]])\n",
    "\n",
    "        seg = np.dot(S, np.dot(R, seg_type[:, 0:2].T))\n",
    "        seg = seg + trans\n",
    "        seg_vels = np.dot(S, np.dot(R, seg_type[:, 2:].T))\n",
    "        sample = np.hstack((seg.T, seg_vels.T))\n",
    "        test_trajs.append(sample)\n",
    "        \n",
    "print(test_trajs)"
   ]
  },
  {
   "cell_type": "markdown",
   "id": "5b6f64db",
   "metadata": {},
   "source": [
    "Test the performance of the clustering step. The code implements 2 different ways to do this: 1) X-means which automatically selects the optimal number of clusters using Bayesian Information Criterion, 2) iterative K-means over a range of possible numbers of clusters, with the user left to select the optimal number of clusters manually from the extracted distance-to-centroid and silhouette methods.\n",
    "\n",
    "We test (2), since the X-means approach with BIC seems prone to over-clustering."
   ]
  },
  {
   "cell_type": "code",
   "execution_count": null,
   "id": "61311493",
   "metadata": {},
   "outputs": [],
   "source": [
    "pred = HMMLatentSegmentsPredictor(segment_len=3)\n",
    "\n",
    "dists, silhouettes, clusters, centres = pred.learn_latent_segments_manual_kmeans(np.array(samples))\n",
    "cluster_range = range(pred._n_min_centres, pred._n_max_centres + 1)\n",
    "\n",
    "fig, axs = plt.subplots(1, 2)\n",
    "axs[0].plot(cluster_range, dists)\n",
    "axs[1].plot(cluster_range, silhouettes)\n",
    "axs[0].set_title('Distances')\n",
    "axs[1].set_title('Silhouette scores')"
   ]
  },
  {
   "cell_type": "markdown",
   "id": "8a6d6e15",
   "metadata": {},
   "source": [
    "TODO: Test the performance of the learning of the transition matrix."
   ]
  },
  {
   "cell_type": "markdown",
   "id": "949daff8",
   "metadata": {},
   "source": [
    "### Evaluate ADE and FDE performance on ETH dataset"
   ]
  }
 ],
 "metadata": {
  "kernelspec": {
   "display_name": "Python 3 (ipykernel)",
   "language": "python",
   "name": "python3"
  },
  "language_info": {
   "codemirror_mode": {
    "name": "ipython",
    "version": 3
   },
   "file_extension": ".py",
   "mimetype": "text/x-python",
   "name": "python",
   "nbconvert_exporter": "python",
   "pygments_lexer": "ipython3",
   "version": "3.7.11"
  }
 },
 "nbformat": 4,
 "nbformat_minor": 5
}
