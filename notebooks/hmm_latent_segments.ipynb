{
 "cells": [
  {
   "cell_type": "code",
   "execution_count": 1,
   "id": "2047d8ec",
   "metadata": {},
   "outputs": [],
   "source": [
    "import os\n",
    "import numpy as np\n",
    "import matplotlib.pyplot as plt\n",
    "from uncertainty_motion_prediction.dataloader import Dataloader\n",
    "\n",
    "dataset=Dataloader();\n",
    "traj_dataset = dataset.load(0)"
   ]
  },
  {
   "cell_type": "markdown",
   "id": "9d237365",
   "metadata": {},
   "source": [
    "# Get trajectories from the dataset"
   ]
  },
  {
   "cell_type": "markdown",
   "id": "291adf55",
   "metadata": {},
   "source": [
    "## As a list of Pandas dataframes"
   ]
  },
  {
   "cell_type": "code",
   "execution_count": 2,
   "id": "57354de6",
   "metadata": {},
   "outputs": [
    {
     "data": {
      "text/plain": [
       "768"
      ]
     },
     "execution_count": 2,
     "metadata": {},
     "output_type": "execute_result"
    }
   ],
   "source": [
    "trajlets = traj_dataset.get_trajlets(length=4.8)\n",
    "len(trajlets)"
   ]
  },
  {
   "cell_type": "code",
   "execution_count": 3,
   "id": "cf370664",
   "metadata": {},
   "outputs": [
    {
     "data": {
      "text/html": [
       "<div>\n",
       "<style scoped>\n",
       "    .dataframe tbody tr th:only-of-type {\n",
       "        vertical-align: middle;\n",
       "    }\n",
       "\n",
       "    .dataframe tbody tr th {\n",
       "        vertical-align: top;\n",
       "    }\n",
       "\n",
       "    .dataframe thead th {\n",
       "        text-align: right;\n",
       "    }\n",
       "</style>\n",
       "<table border=\"1\" class=\"dataframe\">\n",
       "  <thead>\n",
       "    <tr style=\"text-align: right;\">\n",
       "      <th></th>\n",
       "      <th>frame_id</th>\n",
       "      <th>agent_id</th>\n",
       "      <th>pos_x</th>\n",
       "      <th>pos_y</th>\n",
       "      <th>vel_x</th>\n",
       "      <th>vel_y</th>\n",
       "      <th>scene_id</th>\n",
       "      <th>label</th>\n",
       "      <th>timestamp</th>\n",
       "    </tr>\n",
       "  </thead>\n",
       "  <tbody>\n",
       "    <tr>\n",
       "      <th>5</th>\n",
       "      <td>804</td>\n",
       "      <td>2</td>\n",
       "      <td>13.017548</td>\n",
       "      <td>5.782591</td>\n",
       "      <td>-2.324444</td>\n",
       "      <td>-0.076606</td>\n",
       "      <td>0</td>\n",
       "      <td>pedestrian</td>\n",
       "      <td>53.6</td>\n",
       "    </tr>\n",
       "    <tr>\n",
       "      <th>7</th>\n",
       "      <td>810</td>\n",
       "      <td>2</td>\n",
       "      <td>12.087770</td>\n",
       "      <td>5.751949</td>\n",
       "      <td>-1.589052</td>\n",
       "      <td>-0.065971</td>\n",
       "      <td>0</td>\n",
       "      <td>pedestrian</td>\n",
       "      <td>54.0</td>\n",
       "    </tr>\n",
       "    <tr>\n",
       "      <th>9</th>\n",
       "      <td>816</td>\n",
       "      <td>2</td>\n",
       "      <td>11.746306</td>\n",
       "      <td>5.729815</td>\n",
       "      <td>-1.140766</td>\n",
       "      <td>0.105373</td>\n",
       "      <td>0</td>\n",
       "      <td>pedestrian</td>\n",
       "      <td>54.4</td>\n",
       "    </tr>\n",
       "    <tr>\n",
       "      <th>10</th>\n",
       "      <td>822</td>\n",
       "      <td>2</td>\n",
       "      <td>11.175158</td>\n",
       "      <td>5.836247</td>\n",
       "      <td>-1.640021</td>\n",
       "      <td>0.179235</td>\n",
       "      <td>0</td>\n",
       "      <td>pedestrian</td>\n",
       "      <td>54.8</td>\n",
       "    </tr>\n",
       "    <tr>\n",
       "      <th>11</th>\n",
       "      <td>828</td>\n",
       "      <td>2</td>\n",
       "      <td>10.434290</td>\n",
       "      <td>5.873203</td>\n",
       "      <td>-1.406129</td>\n",
       "      <td>0.419050</td>\n",
       "      <td>0</td>\n",
       "      <td>pedestrian</td>\n",
       "      <td>55.2</td>\n",
       "    </tr>\n",
       "    <tr>\n",
       "      <th>13</th>\n",
       "      <td>834</td>\n",
       "      <td>2</td>\n",
       "      <td>10.050254</td>\n",
       "      <td>6.171487</td>\n",
       "      <td>-1.078742</td>\n",
       "      <td>0.455190</td>\n",
       "      <td>0</td>\n",
       "      <td>pedestrian</td>\n",
       "      <td>55.6</td>\n",
       "    </tr>\n",
       "    <tr>\n",
       "      <th>15</th>\n",
       "      <td>840</td>\n",
       "      <td>2</td>\n",
       "      <td>9.571296</td>\n",
       "      <td>6.237355</td>\n",
       "      <td>-1.207725</td>\n",
       "      <td>0.115437</td>\n",
       "      <td>0</td>\n",
       "      <td>pedestrian</td>\n",
       "      <td>56.0</td>\n",
       "    </tr>\n",
       "    <tr>\n",
       "      <th>19</th>\n",
       "      <td>846</td>\n",
       "      <td>2</td>\n",
       "      <td>9.084074</td>\n",
       "      <td>6.263836</td>\n",
       "      <td>-1.273181</td>\n",
       "      <td>0.170841</td>\n",
       "      <td>0</td>\n",
       "      <td>pedestrian</td>\n",
       "      <td>56.4</td>\n",
       "    </tr>\n",
       "    <tr>\n",
       "      <th>24</th>\n",
       "      <td>852</td>\n",
       "      <td>2</td>\n",
       "      <td>8.552751</td>\n",
       "      <td>6.374027</td>\n",
       "      <td>-1.232733</td>\n",
       "      <td>0.271502</td>\n",
       "      <td>0</td>\n",
       "      <td>pedestrian</td>\n",
       "      <td>56.8</td>\n",
       "    </tr>\n",
       "    <tr>\n",
       "      <th>29</th>\n",
       "      <td>858</td>\n",
       "      <td>2</td>\n",
       "      <td>8.097887</td>\n",
       "      <td>6.481037</td>\n",
       "      <td>-1.146730</td>\n",
       "      <td>0.217892</td>\n",
       "      <td>0</td>\n",
       "      <td>pedestrian</td>\n",
       "      <td>57.2</td>\n",
       "    </tr>\n",
       "    <tr>\n",
       "      <th>34</th>\n",
       "      <td>864</td>\n",
       "      <td>2</td>\n",
       "      <td>7.635367</td>\n",
       "      <td>6.548341</td>\n",
       "      <td>-1.163496</td>\n",
       "      <td>0.169306</td>\n",
       "      <td>0</td>\n",
       "      <td>pedestrian</td>\n",
       "      <td>57.6</td>\n",
       "    </tr>\n",
       "    <tr>\n",
       "      <th>39</th>\n",
       "      <td>870</td>\n",
       "      <td>2</td>\n",
       "      <td>7.167091</td>\n",
       "      <td>6.616482</td>\n",
       "      <td>-1.126493</td>\n",
       "      <td>0.116400</td>\n",
       "      <td>0</td>\n",
       "      <td>pedestrian</td>\n",
       "      <td>58.0</td>\n",
       "    </tr>\n",
       "  </tbody>\n",
       "</table>\n",
       "</div>"
      ],
      "text/plain": [
       "    frame_id  agent_id      pos_x     pos_y     vel_x     vel_y  scene_id  \\\n",
       "5        804         2  13.017548  5.782591 -2.324444 -0.076606         0   \n",
       "7        810         2  12.087770  5.751949 -1.589052 -0.065971         0   \n",
       "9        816         2  11.746306  5.729815 -1.140766  0.105373         0   \n",
       "10       822         2  11.175158  5.836247 -1.640021  0.179235         0   \n",
       "11       828         2  10.434290  5.873203 -1.406129  0.419050         0   \n",
       "13       834         2  10.050254  6.171487 -1.078742  0.455190         0   \n",
       "15       840         2   9.571296  6.237355 -1.207725  0.115437         0   \n",
       "19       846         2   9.084074  6.263836 -1.273181  0.170841         0   \n",
       "24       852         2   8.552751  6.374027 -1.232733  0.271502         0   \n",
       "29       858         2   8.097887  6.481037 -1.146730  0.217892         0   \n",
       "34       864         2   7.635367  6.548341 -1.163496  0.169306         0   \n",
       "39       870         2   7.167091  6.616482 -1.126493  0.116400         0   \n",
       "\n",
       "         label  timestamp  \n",
       "5   pedestrian       53.6  \n",
       "7   pedestrian       54.0  \n",
       "9   pedestrian       54.4  \n",
       "10  pedestrian       54.8  \n",
       "11  pedestrian       55.2  \n",
       "13  pedestrian       55.6  \n",
       "15  pedestrian       56.0  \n",
       "19  pedestrian       56.4  \n",
       "24  pedestrian       56.8  \n",
       "29  pedestrian       57.2  \n",
       "34  pedestrian       57.6  \n",
       "39  pedestrian       58.0  "
      ]
     },
     "execution_count": 3,
     "metadata": {},
     "output_type": "execute_result"
    }
   ],
   "source": [
    "trajlets[0]"
   ]
  },
  {
   "cell_type": "markdown",
   "id": "da1ec6fb",
   "metadata": {},
   "source": [
    "## As numpy array"
   ]
  },
  {
   "cell_type": "code",
   "execution_count": 4,
   "id": "72f0c3da",
   "metadata": {},
   "outputs": [
    {
     "data": {
      "text/plain": [
       "array([[13.017548  ,  5.7825914 , -2.3244442 , -0.07660594, 53.6       ],\n",
       "       [12.08777   ,  5.751949  , -1.5890517 , -0.06597106, 54.        ],\n",
       "       [11.746306  ,  5.7298146 , -1.1407656 ,  0.10537256, 54.4       ],\n",
       "       [11.175158  ,  5.8362471 , -1.6400209 ,  0.17923528, 54.8       ],\n",
       "       [10.43429   ,  5.8732028 , -1.4061292 ,  0.41904965, 55.2       ],\n",
       "       [10.050254  ,  6.1714868 , -1.0787423 ,  0.45518986, 55.6       ],\n",
       "       [ 9.5712958 ,  6.2373547 , -1.207725  ,  0.11543663, 56.        ],\n",
       "       [ 9.0840742 ,  6.2638361 , -1.2731811 ,  0.17084078, 56.4       ],\n",
       "       [ 8.5527509 ,  6.3740273 , -1.2327335 ,  0.2715015 , 56.8       ],\n",
       "       [ 8.0978874 ,  6.4810373 , -1.1467297 ,  0.21789191, 57.2       ],\n",
       "       [ 7.6353672 ,  6.5483408 , -1.1634956 ,  0.16930578, 57.6       ],\n",
       "       [ 7.1670909 ,  6.616482  , -1.1264929 ,  0.11639996, 58.        ]])"
      ]
     },
     "execution_count": 4,
     "metadata": {},
     "output_type": "execute_result"
    }
   ],
   "source": [
    "trajlets = traj_dataset.get_trajlets(length=4.8, to_numpy=True)\n",
    "trajlets[0, :, :]"
   ]
  },
  {
   "cell_type": "markdown",
   "id": "5d6c76f8",
   "metadata": {},
   "source": [
    "# Hidden Markov Model with trajectory sub-segment latent states"
   ]
  },
  {
   "cell_type": "markdown",
   "id": "a731ec2a",
   "metadata": {},
   "source": [
    "This method works by modelling a pedestrian trajectory as being composed of multiple common segment primitives. Developing the HMM model consists of 2 parts:\n",
    "* Extracting common trajectory sub-segments from data. These sub-segments or segment primitives will be the states of the HMM.\n",
    "* Learn the transition matrix of the HMM. To predict the pedestrian's trajectory, we need the ability to predict the next state or segment primitive the pedestrian will transit to after the current segment the pedestrian is executing."
   ]
  },
  {
   "cell_type": "code",
   "execution_count": 5,
   "id": "279c56b5",
   "metadata": {},
   "outputs": [],
   "source": [
    "from uncertainty_motion_prediction.evaluators import DistanceErrorEvaluator\n",
    "from uncertainty_motion_prediction.predictor import HMMLatentSegmentsExtractor"
   ]
  },
  {
   "cell_type": "markdown",
   "id": "63e643df",
   "metadata": {},
   "source": [
    "### Sanity checks\n",
    "\n",
    "We perform some sanity checks on artificial data first to validate the HMM algorithm. Generate the artificial trajectories from a set of 5 different trajectory types"
   ]
  },
  {
   "cell_type": "code",
   "execution_count": 6,
   "id": "c3c259da",
   "metadata": {},
   "outputs": [
    {
     "name": "stdout",
     "output_type": "stream",
     "text": [
      "[array([[ -6.56989685,  -6.51653058,  -0.55733564,  -1.23085493],\n",
      "       [ -7.12723248,  -7.74738551,  -2.78667819,  -6.15427465],\n",
      "       [ -9.91391067, -13.90166017,  -2.78667819,  -6.15427465]]), array([[-4.078152  ,  5.72638165, -0.17977272,  1.07981433],\n",
      "       [-4.25792473,  6.80619597, -0.89886361,  5.39907164],\n",
      "       [-5.15678833, 12.20526761, -0.89886361,  5.39907164]]), array([[ 9.92859874, -5.08259156, -0.54615589,  0.90101252],\n",
      "       [ 9.38244285, -4.18157904, -2.73077943,  4.5050626 ],\n",
      "       [ 6.65166342,  0.32348356, -2.73077943,  4.5050626 ]]), array([[-5.00991011, -2.00880268, -0.83051477,  0.32775279],\n",
      "       [-5.84042488, -1.68104989, -0.83051477,  0.32775279],\n",
      "       [-6.67093966, -1.3532971 , -0.83051477,  0.32775279]]), array([[-6.30921322,  8.6672256 , -0.61839166, -0.85335353],\n",
      "       [-6.92760488,  7.81387207, -0.61839166, -0.85335353],\n",
      "       [-7.54599654,  6.96051854, -0.61839166, -0.85335353]]), array([[ 3.20745081, -6.98083741,  0.74675959,  0.41029046],\n",
      "       [ 3.9542104 , -6.57054695,  0.74675959,  0.41029046],\n",
      "       [ 4.70096999, -6.1602565 ,  0.74675959,  0.41029046]]), array([[ -9.45080355,  -0.39012244,  -0.18795834,   0.71463777],\n",
      "       [ -9.6387619 ,   0.32451533,  -0.90259612,   0.52667943],\n",
      "       [-10.54135801,   0.85119476,  -0.90259612,   0.52667943]]), array([[ 1.7092954 , -1.99252342,  0.9868396 ,  0.02407722],\n",
      "       [ 2.69613501, -1.96844621,  0.96276239,  1.01091682],\n",
      "       [ 3.65889739, -0.95752939,  0.96276239,  1.01091682]]), array([[ 7.513722  ,  5.85568243, -0.90413949, -0.13527986],\n",
      "       [ 6.60958251,  5.72040258, -0.76885964, -1.03941935],\n",
      "       [ 5.84072287,  4.68098323, -0.76885964, -1.03941935]]), array([[ 5.51121898, -2.32836196,  0.15327971,  1.22452337],\n",
      "       [ 5.66449869, -1.10383859,  1.37780308,  1.07124367],\n",
      "       [ 7.04230177, -0.03259492,  1.37780308,  1.07124367]]), array([[ 2.93542714, -4.02227312, -1.35481876,  0.12504057],\n",
      "       [ 1.58060838, -3.89723255, -1.22977819,  1.47985933],\n",
      "       [ 0.35083018, -2.41737323, -1.22977819,  1.47985933]]), array([[-1.25431825,  8.72390477,  0.96627271,  1.10092302],\n",
      "       [-0.28804554,  9.82482779,  2.06719573,  0.13465031],\n",
      "       [ 1.77915019,  9.9594781 ,  2.06719573,  0.13465031]]), array([[ 9.29536654, -8.87662665, -0.52072203, -0.25461402],\n",
      "       [ 8.7746445 , -9.13124067,  1.04144407,  0.50922803],\n",
      "       [ 9.81608857, -8.62201264,  1.04144407,  0.50922803]]), array([[-7.20085693,  0.0964701 , -0.26627606, -0.63049117],\n",
      "       [-7.46713299, -0.53402107,  0.53255212,  1.26098234],\n",
      "       [-6.93458087,  0.72696127,  0.53255212,  1.26098234]]), array([[-6.74444899, -0.03949069,  0.64351572, -0.08889412],\n",
      "       [-6.10093328, -0.12838481, -1.28703143,  0.17778823],\n",
      "       [-7.38796471,  0.04940342, -1.28703143,  0.17778823]])]\n",
      "(15, 3, 4)\n"
     ]
    }
   ],
   "source": [
    "seg_type1 = [[0, 0, 1, 0], [1, 0, 5, 0], [6, 0, 5, 0]]\n",
    "seg_type2 = [[0, 0, 1, 0], [1, 0, 1, 0], [2, 0, 1, 0]]\n",
    "seg_type3 = [[0, 0, 1, 0], [1, 0, 1, 1], [2, 1, 1, 1]]\n",
    "seg_type4 = [[0, 0, 1, 0], [1, 0, 1, -1], [2, -1, 1, -1]]\n",
    "seg_type5 = [[0, 0, 1, 0], [1, 0, -2, 0], [-1, 0, -2, 0]]\n",
    "\n",
    "seg_types = np.array([seg_type1, seg_type2, seg_type3, seg_type4, seg_type5])\n",
    "test_trajs = []\n",
    "\n",
    "for seg_type in seg_types:\n",
    "    for i in range(3):\n",
    "        angle = np.random.uniform(-2*np.pi, 2*np.pi)\n",
    "        scale = np.random.uniform(0.5, 1.5)\n",
    "        trans = np.array([[np.random.uniform(-10, 10), np.random.uniform(-10, 10)]]).T\n",
    "\n",
    "        R = np.array([[np.cos(angle), -np.sin(angle)],\n",
    "                      [np.sin(angle), np.cos(angle)]])\n",
    "        S = np.array([[scale, 0], \n",
    "                      [0, scale]])\n",
    "\n",
    "        seg = np.dot(S, np.dot(R, seg_type[:, 0:2].T))\n",
    "        seg = seg + trans\n",
    "        seg_vels = np.dot(S, np.dot(R, seg_type[:, 2:].T))\n",
    "        sample = np.hstack((seg.T, seg_vels.T))\n",
    "        test_trajs.append(sample)\n",
    "        \n",
    "print(test_trajs)\n",
    "print(np.array(test_trajs).shape)"
   ]
  },
  {
   "cell_type": "markdown",
   "id": "5b6f64db",
   "metadata": {},
   "source": [
    "Test the performance of the clustering step. The code implements 2 different ways to do this: 1) X-means which automatically selects the optimal number of clusters using Bayesian Information Criterion, 2) iterative K-means over a range of possible numbers of clusters, with the user left to select the optimal number of clusters manually from the extracted distance-to-centroid and silhouette methods.\n",
    "\n",
    "We test (2), since the X-means approach with BIC seems prone to over-clustering."
   ]
  },
  {
   "cell_type": "code",
   "execution_count": 7,
   "id": "c11eebb2",
   "metadata": {},
   "outputs": [
    {
     "data": {
      "text/plain": [
       "Text(0.5, 1.0, 'Silhouette scores')"
      ]
     },
     "execution_count": 7,
     "metadata": {},
     "output_type": "execute_result"
    },
    {
     "data": {
      "image/png": "[encoded data removed]",
      "text/plain": [
       "<Figure size 432x288 with 2 Axes>"
      ]
     },
     "metadata": {
      "needs_background": "light"
     },
     "output_type": "display_data"
    }
   ],
   "source": [
    "extractor = HMMLatentSegmentsExtractor(segment_len=3)\n",
    "\n",
    "dists, silhouettes, clusters, centres = extractor.learn_latent_segments_manual_kmeans(np.array(test_trajs))\n",
    "cluster_range = range(extractor._n_min_centres, extractor._n_max_centres + 1)\n",
    "\n",
    "fig, axs = plt.subplots(1, 2)\n",
    "axs[0].plot(cluster_range, dists)\n",
    "axs[1].plot(cluster_range, silhouettes)\n",
    "axs[0].set_title('Distances')\n",
    "axs[1].set_title('Silhouette scores')"
   ]
  },
  {
   "cell_type": "markdown",
   "id": "8a6d6e15",
   "metadata": {},
   "source": [
    "TODO: Test the performance of the learning of the transition matrix."
   ]
  },
  {
   "cell_type": "markdown",
   "id": "060a45cf",
   "metadata": {},
   "source": [
    "### Learn segments from data"
   ]
  },
  {
   "cell_type": "code",
   "execution_count": 8,
   "id": "e267a02e",
   "metadata": {},
   "outputs": [
    {
     "name": "stdout",
     "output_type": "stream",
     "text": [
      "(6891, 3, 5)\n"
     ]
    }
   ],
   "source": [
    "segment_length = 3\n",
    "trajlets_for_segments_learning = traj_dataset.get_trajlets(length=segment_length*0.4, overlap=1, to_numpy=True)\n",
    "print(trajlets_for_segments_learning.shape)"
   ]
  },
  {
   "cell_type": "code",
   "execution_count": 9,
   "id": "75532677",
   "metadata": {},
   "outputs": [],
   "source": [
    "extractor = HMMLatentSegmentsExtractor(segment_len=segment_length, n_min_centres=210, n_max_centres=230)\n",
    "dists, silhouettes, clusters, centres = extractor.learn_latent_segments_manual_kmeans(trajlets_for_segments_learning[:, :, 0:4])\n",
    "cluster_range = range(extractor._n_min_centres, extractor._n_max_centres + 1)"
   ]
  },
  {
   "cell_type": "code",
   "execution_count": 10,
   "id": "c67292a4",
   "metadata": {},
   "outputs": [
    {
     "data": {
      "text/plain": [
       "Text(0.5, 1.0, 'Silhouette scores')"
      ]
     },
     "execution_count": 10,
     "metadata": {},
     "output_type": "execute_result"
    },
    {
     "data": {
      "image/png": "[encoded data removed]",
      "text/plain": [
       "<Figure size 432x288 with 2 Axes>"
      ]
     },
     "metadata": {
      "needs_background": "light"
     },
     "output_type": "display_data"
    }
   ],
   "source": [
    "fig, axs = plt.subplots(1, 2)\n",
    "axs[0].plot(cluster_range, dists)\n",
    "axs[1].plot(cluster_range, silhouettes)\n",
    "axs[0].set_title('Distances')\n",
    "axs[1].set_title('Silhouette scores')"
   ]
  },
  {
   "cell_type": "code",
   "execution_count": 11,
   "id": "9e893bd5",
   "metadata": {},
   "outputs": [
    {
     "name": "stdout",
     "output_type": "stream",
     "text": [
      "8.554122102520799\n"
     ]
    }
   ],
   "source": [
    "center_idx = 15\n",
    "print(dists[center_idx])\n",
    "center = np.array(centres[center_idx])"
   ]
  },
  {
   "cell_type": "code",
   "execution_count": 12,
   "id": "8d6764a9",
   "metadata": {},
   "outputs": [
    {
     "name": "stdout",
     "output_type": "stream",
     "text": [
      "[[[ 0.00000000e+00  3.89483212e-01  7.59501143e-01]\n",
      "  [ 0.00000000e+00  3.27158499e-02  6.83767690e-03]]\n",
      "\n",
      " [[ 0.00000000e+00  7.33759445e-02  1.39617404e+00]\n",
      "  [ 0.00000000e+00  4.37140534e-02  2.96351907e-01]]\n",
      "\n",
      " [[ 0.00000000e+00  1.01590234e+00  2.27779208e+00]\n",
      "  [ 0.00000000e+00 -3.80520679e-01 -7.54721609e-01]]\n",
      "\n",
      " ...\n",
      "\n",
      " [[ 0.00000000e+00  4.09852945e-01  8.21199003e-01]\n",
      "  [ 0.00000000e+00  6.32229580e-02  9.19799568e-02]]\n",
      "\n",
      " [[ 0.00000000e+00  3.99999685e-01  1.53650090e+00]\n",
      "  [ 0.00000000e+00 -8.78839616e-08  2.41152383e-02]]\n",
      "\n",
      " [[ 0.00000000e+00  3.71038902e-01  8.27327408e-01]\n",
      "  [ 0.00000000e+00 -4.48646975e-02  4.70015255e-02]]]\n"
     ]
    }
   ],
   "source": [
    "patterns = center.reshape([-1, 2, 3])\n",
    "print(patterns)"
   ]
  },
  {
   "cell_type": "code",
   "execution_count": 13,
   "id": "911aef1e",
   "metadata": {},
   "outputs": [
    {
     "data": {
      "image/png": "[encoded data removed]",
      "text/plain": [
       "<Figure size 720x720 with 1 Axes>"
      ]
     },
     "metadata": {
      "needs_background": "light"
     },
     "output_type": "display_data"
    }
   ],
   "source": [
    "fig, axs = plt.subplots(1, 1, figsize=(10, 10))\n",
    "for p in patterns[2:20, :, :]:\n",
    "    axs.plot(p[0, :], p[1, :])"
   ]
  },
  {
   "cell_type": "markdown",
   "id": "949daff8",
   "metadata": {},
   "source": [
    "### Evaluate ADE and FDE performance on ETH dataset"
   ]
  },
  {
   "cell_type": "code",
   "execution_count": null,
   "id": "f21b6ebb",
   "metadata": {},
   "outputs": [],
   "source": []
  }
 ],
 "metadata": {
  "kernelspec": {
   "display_name": "Python 3 (ipykernel)",
   "language": "python",
   "name": "python3"
  },
  "language_info": {
   "codemirror_mode": {
    "name": "ipython",
    "version": 3
   },
   "file_extension": ".py",
   "mimetype": "text/x-python",
   "name": "python",
   "nbconvert_exporter": "python",
   "pygments_lexer": "ipython3",
   "version": "3.8.11"
  }
 },
 "nbformat": 4,
 "nbformat_minor": 5
}
