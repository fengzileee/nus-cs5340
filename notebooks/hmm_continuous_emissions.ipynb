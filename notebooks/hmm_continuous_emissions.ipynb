{
 "cells": [
  {
   "cell_type": "code",
   "execution_count": 1,
   "id": "2047d8ec",
   "metadata": {},
   "outputs": [],
   "source": [
    "# import stuff\n",
    "import os\n",
    "import numpy as np\n",
    "import matplotlib.pyplot as plt\n",
    "from uncertainty_motion_prediction.dataloader import Dataloader\n",
    "from uncertainty_motion_prediction.evaluators import DistanceErrorEvaluator\n",
    "from uncertainty_motion_prediction.predictor import (\n",
    "    HMMMultinomialFirstOrder, HMMLatentSegmentsExtractor, KMeansOutcome, HMMLatentSegmentsPredictor\n",
    ")\n",
    "from uncertainty_motion_prediction.predictor import HMMContinuousEmissionsPredictor\n",
    "from hmmlearn import hmm"
   ]
  },
  {
   "cell_type": "code",
   "execution_count": 2,
   "id": "02ad32f4",
   "metadata": {},
   "outputs": [],
   "source": [
    "dataset=Dataloader();\n",
    "traj_dataset = dataset.load(0)"
   ]
  },
  {
   "cell_type": "markdown",
   "id": "da1ec6fb",
   "metadata": {},
   "source": [
    "## As numpy array"
   ]
  },
  {
   "cell_type": "code",
   "execution_count": 3,
   "id": "72f0c3da",
   "metadata": {},
   "outputs": [
    {
     "data": {
      "text/plain": [
       "array([[13.017548  ,  5.7825914 , -2.3244442 , -0.07660594, 53.6       ],\n",
       "       [12.08777   ,  5.751949  , -1.5890517 , -0.06597106, 54.        ],\n",
       "       [11.746306  ,  5.7298146 , -1.1407656 ,  0.10537256, 54.4       ],\n",
       "       [11.175158  ,  5.8362471 , -1.6400209 ,  0.17923528, 54.8       ],\n",
       "       [10.43429   ,  5.8732028 , -1.4061292 ,  0.41904965, 55.2       ],\n",
       "       [10.050254  ,  6.1714868 , -1.0787423 ,  0.45518986, 55.6       ],\n",
       "       [ 9.5712958 ,  6.2373547 , -1.207725  ,  0.11543663, 56.        ],\n",
       "       [ 9.0840742 ,  6.2638361 , -1.2731811 ,  0.17084078, 56.4       ],\n",
       "       [ 8.5527509 ,  6.3740273 , -1.2327335 ,  0.2715015 , 56.8       ],\n",
       "       [ 8.0978874 ,  6.4810373 , -1.1467297 ,  0.21789191, 57.2       ],\n",
       "       [ 7.6353672 ,  6.5483408 , -1.1634956 ,  0.16930578, 57.6       ],\n",
       "       [ 7.1670909 ,  6.616482  , -1.1264929 ,  0.11639996, 58.        ]])"
      ]
     },
     "execution_count": 3,
     "metadata": {},
     "output_type": "execute_result"
    }
   ],
   "source": [
    "trajlets = traj_dataset.get_trajlets(length=4.8, to_numpy=True)\n",
    "trajlets[0, :, :]"
   ]
  },
  {
   "cell_type": "markdown",
   "id": "6b93f1bd",
   "metadata": {},
   "source": [
    "# Hidden Markov Model with Gaussian emissions (to model trajectory observations)\n",
    "\n",
    "Start by instantiating a HMM with continuous Gaussian emission distributions."
   ]
  },
  {
   "cell_type": "code",
   "execution_count": 4,
   "id": "830277fa",
   "metadata": {},
   "outputs": [],
   "source": [
    "model = hmm.GaussianHMM(n_components=30, covariance_type=\"full\", n_iter=100, verbose=True)"
   ]
  },
  {
   "cell_type": "code",
   "execution_count": 4,
   "id": "cff5a92b",
   "metadata": {},
   "outputs": [
    {
     "name": "stdout",
     "output_type": "stream",
     "text": [
      "(666, 16, 5)\n"
     ]
    }
   ],
   "source": [
    "segment_length = 4\n",
    "num_segment = 4\n",
    "trajlets_for_hmm_learning = traj_dataset.get_trajlets(\n",
    "    length=num_segment * segment_length*0.4, overlap=4, to_numpy=True\n",
    ")\n",
    "print(trajlets_for_hmm_learning.shape)"
   ]
  },
  {
   "cell_type": "markdown",
   "id": "67bc7c6c",
   "metadata": {},
   "source": [
    "Preprocess the trajectories by normalising them (TODO: this actually seems to make performance worse). Then we estimate the model parameters (transition matrix and Gaussian emission distribution parameters)."
   ]
  },
  {
   "cell_type": "code",
   "execution_count": 6,
   "id": "7e753985",
   "metadata": {},
   "outputs": [
    {
     "name": "stderr",
     "output_type": "stream",
     "text": [
      "         1       27238.8427             +nan\n",
      "         2       90256.6972      +63017.8545\n",
      "         3       94761.2450       +4504.5479\n",
      "         4       98175.7411       +3414.4960\n",
      "         5       55038.6560      -43137.0851\n"
     ]
    }
   ],
   "source": [
    "from uncertainty_motion_prediction.predictor import normalise_segment_batch\n",
    "\n",
    "trajlets_shape = trajlets_for_hmm_learning.shape\n",
    "normalised = normalise_segment_batch(trajlets_for_hmm_learning[:, :, 0:4], segment_length)\n",
    "sequence_lengths = np.array([num_segment for i in range(trajlets_shape[0])])\n",
    "\n",
    "model.fit(normalised, lengths=sequence_lengths)\n",
    "\n",
    "import pickle\n",
    "with open('gaussian_hmm.pkl', 'wb') as file:\n",
    "    pickle.dump(model, file)\n"
   ]
  },
  {
   "cell_type": "markdown",
   "id": "32a8a811",
   "metadata": {},
   "source": [
    "Set up to test the model."
   ]
  },
  {
   "cell_type": "code",
   "execution_count": 5,
   "id": "d0643a3c",
   "metadata": {},
   "outputs": [
    {
     "name": "stdout",
     "output_type": "stream",
     "text": [
      "(361, 16, 5)\n"
     ]
    }
   ],
   "source": [
    "trajlets_for_testing = traj_dataset.get_trajlets(\n",
    "    length=segment_length * num_segment * 0.4,\n",
    "    overlap=1,\n",
    "    to_numpy=True\n",
    ")\n",
    "print(trajlets_for_testing.shape)"
   ]
  },
  {
   "cell_type": "code",
   "execution_count": 6,
   "id": "4a66e666",
   "metadata": {},
   "outputs": [
    {
     "name": "stdout",
     "output_type": "stream",
     "text": [
      "[[11.428242    4.4082305 ]\n",
      " [10.640157    4.1917857 ]\n",
      " [ 9.8310942   3.9295902 ]\n",
      " [ 9.0076642   3.7838973 ]\n",
      " [ 8.2064501   3.6339105 ]\n",
      " [ 7.3864681   3.4804103 ]\n",
      " [ 6.5936127   3.3651828 ]\n",
      " [ 5.8229828   3.1608805 ]\n",
      " [ 5.0893833   3.0820297 ]\n",
      " [ 4.3878826   3.0011859 ]\n",
      " [ 3.4786547   2.8758434 ]\n",
      " [ 2.6610118   2.9712992 ]\n",
      " [ 1.8630656   2.8870934 ]\n",
      " [ 1.0993477   2.8008228 ]\n",
      " [ 0.36502511  2.6201061 ]\n",
      " [-0.34984213  2.2020414 ]]\n"
     ]
    }
   ],
   "source": [
    "traj = trajlets_for_testing[30]\n",
    "print(traj[:, 0:2])"
   ]
  },
  {
   "cell_type": "markdown",
   "id": "fb5ef626",
   "metadata": {},
   "source": [
    "A sanity check for our predictor and model, to visually inspect if the predict function works and yields reasonable values."
   ]
  },
  {
   "cell_type": "code",
   "execution_count": 7,
   "id": "394cc192",
   "metadata": {},
   "outputs": [
    {
     "name": "stdout",
     "output_type": "stream",
     "text": [
      "(16, 5)\n",
      "[[-0.89801421  1.49893731]\n",
      " [-1.13633941  0.60436747]\n",
      " [-1.06515297  1.78473523]\n",
      " [-1.06459004  1.78279882]]\n"
     ]
    }
   ],
   "source": [
    "import pickle\n",
    "\n",
    "model = None\n",
    "with open('gaussian_hmm.pkl', 'rb') as file:\n",
    "    model = pickle.load(file)\n",
    "    \n",
    "predictor = HMMContinuousEmissionsPredictor(model)\n",
    "print(traj.shape)\n",
    "print(predictor.predict(traj))"
   ]
  },
  {
   "cell_type": "markdown",
   "id": "31bc7b6d",
   "metadata": {},
   "source": [
    "Compute the ADE and FDE of the model."
   ]
  },
  {
   "cell_type": "code",
   "execution_count": 8,
   "id": "5c51c96f",
   "metadata": {},
   "outputs": [
    {
     "name": "stderr",
     "output_type": "stream",
     "text": [
      "/Users/joel/Learning/uncertainty_modelling/project/nus-cs5340/uncertainty-motion-prediction/src/uncertainty_motion_prediction/predictor/hmm_latent_segments.py:32: RuntimeWarning: invalid value encountered in true_divide\n",
      "  x, y = dir / np.linalg.norm(dir)\n",
      "/Users/joel/Learning/uncertainty_modelling/project/nus-cs5340/uncertainty-motion-prediction/src/uncertainty_motion_prediction/predictor/hmm_latent_segments.py:32: RuntimeWarning: invalid value encountered in true_divide\n",
      "  x, y = dir / np.linalg.norm(dir)\n",
      "/Users/joel/Learning/uncertainty_modelling/project/nus-cs5340/uncertainty-motion-prediction/src/uncertainty_motion_prediction/predictor/hmm_latent_segments.py:32: RuntimeWarning: invalid value encountered in true_divide\n",
      "  x, y = dir / np.linalg.norm(dir)\n",
      "/Users/joel/Learning/uncertainty_modelling/project/nus-cs5340/uncertainty-motion-prediction/src/uncertainty_motion_prediction/predictor/hmm_latent_segments.py:32: RuntimeWarning: invalid value encountered in true_divide\n",
      "  x, y = dir / np.linalg.norm(dir)\n",
      "/Users/joel/Learning/uncertainty_modelling/project/nus-cs5340/uncertainty-motion-prediction/src/uncertainty_motion_prediction/predictor/hmm_latent_segments.py:32: RuntimeWarning: invalid value encountered in true_divide\n",
      "  x, y = dir / np.linalg.norm(dir)\n",
      "/Users/joel/Learning/uncertainty_modelling/project/nus-cs5340/uncertainty-motion-prediction/src/uncertainty_motion_prediction/predictor/hmm_latent_segments.py:32: RuntimeWarning: invalid value encountered in true_divide\n",
      "  x, y = dir / np.linalg.norm(dir)\n"
     ]
    },
    {
     "data": {
      "text/plain": [
       "{'fde': array([1.12569596, 1.49581211, 1.13893854, 1.5575915 , 1.90785554,\n",
       "        1.81217575, 1.42465708, 1.88942333, 1.25967016, 1.68549115,\n",
       "        1.44454035, 1.39567364, 1.43949131, 1.4064451 , 1.38594131,\n",
       "        1.38039299, 1.62866574, 1.81241387, 1.76209209, 1.59048774,\n",
       "        1.72275966, 1.83724397, 1.78668928, 1.67686589, 1.20898755,\n",
       "        1.59974919, 1.87591737, 1.57049479, 1.39300986, 2.01063261,\n",
       "        2.35658459, 2.28548008, 1.78098172, 1.67966357, 1.6065649 ,\n",
       "        1.59202875, 1.60410766, 1.84998057, 1.85340216, 1.79880483,\n",
       "        2.35374825, 1.7401347 , 2.02160416, 1.89708792, 1.86901021,\n",
       "        1.93964466, 2.14272677, 1.41331633, 1.26611269, 2.02444717,\n",
       "        1.58664982, 1.75929789, 1.89284582, 1.71374502, 2.48705383,\n",
       "        1.90079672, 1.46682297, 1.54325308, 2.18545581, 2.13369908,\n",
       "        2.01135557, 1.65287529, 1.59415407, 1.55329129, 2.26388272,\n",
       "        2.12634028, 1.79856805, 1.96348516, 2.31393911, 1.91085837,\n",
       "        1.61922008, 1.58028393, 1.61215644, 2.48463393, 1.8519377 ,\n",
       "        1.64379313, 1.5842465 , 1.72203858, 2.00659575, 1.52217909,\n",
       "        1.60582289, 2.12713009, 1.88930311, 1.81292255, 1.80069482,\n",
       "        1.85639983, 1.66769344, 1.99801305, 1.97224128, 1.9745609 ,\n",
       "        1.41527992, 1.7313829 , 1.48227307, 1.80344671, 1.93644347,\n",
       "        2.0095126 , 2.20190926, 2.10005479, 2.15069184, 1.43745121,\n",
       "        2.03269466, 1.76269066, 1.67220401, 1.8610408 , 1.92617526,\n",
       "        2.35460075, 1.83282709, 1.75638653, 1.76566712, 2.0036945 ,\n",
       "        2.2832945 , 1.99437315, 1.98911052, 2.33809172, 2.09594261,\n",
       "        2.08597676, 2.05929778, 1.99085887, 2.24762985, 2.11700138,\n",
       "        2.20857313, 2.14662766, 2.31891344, 1.82605402, 1.83931394,\n",
       "        1.8698396 , 2.26389051, 2.12874061, 1.94158308, 2.12521975,\n",
       "        2.31851525, 1.94865033, 2.33139247, 1.66223269, 0.54829454,\n",
       "               nan, 0.78466487, 0.76445516, 0.77633237, 0.7412503 ,\n",
       "        0.6345348 , 0.43541351,        nan, 2.09974394, 2.23134544,\n",
       "        1.90804603, 1.7486954 , 1.80570813, 2.3831516 , 1.81309123,\n",
       "        1.84622755, 1.93141922, 1.98631806, 1.86447812, 2.29718205,\n",
       "        2.12122777, 2.17721474, 1.66651556, 2.15870191, 1.67308396,\n",
       "        1.84815552, 1.87897322, 2.26111297, 1.97906474, 1.6151332 ,\n",
       "        1.2681742 , 1.50597073, 1.72832542, 1.5080017 , 1.81219853,\n",
       "        1.77619961, 1.75613797, 1.7834344 , 2.23120598, 1.9170621 ,\n",
       "        1.65569971, 2.18434214, 1.6940592 , 1.69861225, 2.02767377,\n",
       "        2.14869036, 2.17920135, 2.30414001, 1.93831301, 2.39358852,\n",
       "        2.07147841, 1.98035611, 1.94632216, 2.1585982 , 2.29444756,\n",
       "        1.69766477,        nan,        nan, 0.04790916, 2.49298753,\n",
       "        2.15714971, 2.26881247, 2.09388887, 2.30881006, 2.01483814,\n",
       "        2.09280333, 2.07241042, 2.02696298, 2.07499172, 2.39121926,\n",
       "        2.38071388, 2.10745621, 1.60184156, 1.58741231, 1.4299793 ,\n",
       "        1.28871832,        nan, 1.85048864, 2.03571784, 1.35308395,\n",
       "        1.62809428, 1.27833315, 1.53324535, 0.76493004, 0.08636568,\n",
       "        1.41833558, 1.26968125, 1.49383063, 2.30102908, 2.26451903,\n",
       "        1.88036035, 1.95151644, 1.47577148, 1.5020566 , 1.37597596,\n",
       "        1.33808774, 1.633476  , 1.85546046, 1.48604809, 1.62052839,\n",
       "        1.10873438, 1.71472583, 1.82685064, 1.47161641, 2.27949397,\n",
       "        1.46875688, 1.84957166, 1.55500157, 1.28144272, 1.6090183 ,\n",
       "        0.80194538, 1.53458521, 1.84228093, 1.87990828, 1.53750757,\n",
       "        2.00687839, 1.68386792, 0.89071504, 2.03799843, 0.98289584,\n",
       "        1.28908952, 0.67620952, 1.60818003, 1.80711557, 0.64734175,\n",
       "        1.85891571, 0.67739842, 1.67457951, 1.85746624, 2.33205072,\n",
       "        1.79446929, 1.11708575, 1.19085672, 1.92075843, 1.37755951,\n",
       "        1.11128263, 2.21824938, 2.21294767, 1.518932  , 1.79960914,\n",
       "        1.63397247, 1.47362894, 1.61959247, 1.42324511, 1.44936915,\n",
       "        1.48987866, 1.24968475, 2.23074179, 1.69072552, 1.67638366,\n",
       "        1.71766986, 1.79012296, 1.89090241, 1.86114367, 1.49988467,\n",
       "        1.57803112, 2.05384559, 1.33302015, 1.24224716, 1.35466051,\n",
       "        1.71474019, 1.3496765 , 1.26503934, 1.43622599, 1.64093175,\n",
       "        1.5142155 , 1.21557755, 1.61879547, 1.60325757, 1.79139351,\n",
       "        1.60478288, 1.65977503, 1.51323166, 1.58046129, 1.58990969,\n",
       "        2.34969671, 1.86280264, 1.59042994, 2.12827517, 2.01094093,\n",
       "        1.59988693, 1.91551224, 1.73686012, 1.51618363, 1.65119102,\n",
       "        2.19930522, 2.17509624, 1.56192455, 1.507747  , 2.05742311,\n",
       "        1.90224574, 1.83831125, 1.63086905, 2.10682696, 2.0810956 ,\n",
       "        1.97990952, 1.74306796, 2.12458079, 1.5852633 , 1.42275782,\n",
       "        1.7362781 , 1.79189156, 1.98738581, 1.31114446, 1.9229857 ,\n",
       "        1.57956832, 1.64463547, 2.36338184, 0.72748152, 0.85864385,\n",
       "        0.97853325, 0.73163895, 0.7958054 , 0.81071983, 0.81879347,\n",
       "        0.77050792, 1.69048589, 1.94000535, 2.01382076, 2.06434201,\n",
       "        2.04439688, 2.01026314, 2.01347047, 1.98901028, 2.0986607 ,\n",
       "               nan]),\n",
       " 'ade': array([0.6314724 , 0.76181   , 0.73202325, 0.81564315, 0.9980711 ,\n",
       "        0.97812408, 0.78069799, 1.12378004, 0.75363419, 0.92546997,\n",
       "        0.75553379, 0.78292208, 0.74925135, 0.74493557, 0.79639649,\n",
       "        0.79105252, 0.91828399, 1.10673388, 0.93916489, 0.96590473,\n",
       "        0.93199485, 1.00552539, 1.02243314, 1.00553876, 0.8006494 ,\n",
       "        0.80724417, 1.04549903, 0.90617441, 0.99807927, 1.08622332,\n",
       "        1.17170962, 1.21822352, 1.04080368, 0.8677618 , 0.88130366,\n",
       "        0.89291769, 0.81356275, 0.95850927, 0.97319161, 0.93183344,\n",
       "        1.24661812, 1.09347281, 1.19481237, 1.02637744, 1.05281891,\n",
       "        1.25484023, 1.13729446, 0.77970392, 0.83648554, 1.10972384,\n",
       "        0.83508348, 1.04481179, 1.03518217, 1.01474025, 1.49862917,\n",
       "        1.0587288 , 0.74576985, 0.84753331, 1.24862817, 1.15635766,\n",
       "        1.06988109, 0.91415393, 0.91814377, 0.91548351, 1.22574052,\n",
       "        1.31637175, 1.05735439, 1.05164675, 1.32727048, 1.02904957,\n",
       "        0.97471246, 0.8373996 , 0.90406321, 1.47411532, 1.07531565,\n",
       "        0.8582644 , 0.84553375, 0.99904163, 1.15329057, 0.93243799,\n",
       "        0.88813407, 1.23997972, 1.06711859, 0.96657144, 0.98436865,\n",
       "        1.00921774, 0.95139882, 1.11342525, 1.06051663, 1.09357357,\n",
       "        0.76873692, 0.99240233, 0.80554833, 0.98989245, 1.02243541,\n",
       "        1.11101945, 1.29554323, 1.04797585, 1.09436469, 0.92367427,\n",
       "        1.08039087, 1.02997642, 1.01214143, 1.1267577 , 1.08617594,\n",
       "        1.23419207, 0.99146952, 0.93410548, 0.99323192, 1.14847242,\n",
       "        1.36450163, 1.07585434, 1.02424126, 1.19542367, 1.13828114,\n",
       "        0.95928256, 1.16309922, 1.18551822, 1.21975541, 1.17385846,\n",
       "        1.26970834, 1.19379557, 1.29533051, 1.01636403, 1.02590815,\n",
       "        1.02497225, 1.10109172, 1.16166999, 1.10977886, 1.23128338,\n",
       "        1.30333846, 1.12645626, 1.19187444, 0.92044346, 0.40658417,\n",
       "               nan, 0.53071753, 0.48975517, 0.5074763 , 0.41209553,\n",
       "        0.37144152, 0.42370754,        nan, 1.15459572, 1.19537527,\n",
       "        0.95914064, 0.98286359, 1.03520087, 1.26502861, 0.99660232,\n",
       "        1.09647305, 1.06204647, 1.12816656, 1.06673778, 1.25535702,\n",
       "        1.21760021, 1.1875455 , 0.96319408, 1.14631537, 0.98019937,\n",
       "        1.02646613, 1.03007963, 1.13097986, 1.13168264, 0.98014335,\n",
       "        0.74348643, 0.84683731, 0.89781345, 0.8819311 , 1.05114078,\n",
       "        0.96217001, 0.85952154, 1.01667196, 1.24847873, 1.08961095,\n",
       "        0.85322843, 0.99431954, 1.02700303, 0.92505046, 1.12599096,\n",
       "        1.16211494, 1.15539212, 1.19861513, 1.09951301, 1.39813539,\n",
       "        1.12231943, 1.15889005, 1.07972761, 1.3187429 , 1.26783378,\n",
       "        0.93118829,        nan,        nan, 0.06257391, 1.26373894,\n",
       "        1.20334136, 1.25141884, 1.13130965, 1.23042768, 1.08462811,\n",
       "        1.1844951 , 1.10926781, 1.08617347, 1.137798  , 1.27465516,\n",
       "        1.35131796, 1.14466385, 0.87824621, 0.85111737, 0.84826617,\n",
       "        0.87221929,        nan, 1.10083988, 1.09943236, 0.68987836,\n",
       "        0.93679392, 0.64041759, 0.93300914, 0.42571688, 0.06385127,\n",
       "        0.79101622, 0.75808528, 0.84913016, 1.25766364, 1.22375854,\n",
       "        1.07830368, 1.04566567, 0.80676772, 0.87997825, 0.67882275,\n",
       "        0.79426245, 0.8903965 , 0.91178731, 0.87788809, 0.92064324,\n",
       "        0.72951987, 1.04506035, 1.05951855, 1.13876231, 1.27333168,\n",
       "        0.80510867, 1.09556106, 0.89254126, 0.83731737, 0.85005764,\n",
       "        0.50150999, 0.99614703, 1.07296927, 1.08379799, 1.10041836,\n",
       "        1.09444302, 0.95258671, 0.65701824, 1.28877804, 0.59328279,\n",
       "        0.79968028, 0.46477115, 0.89289192, 0.98878148, 0.49070725,\n",
       "        1.08655211, 0.51548053, 0.96013476, 0.90954921, 1.43720483,\n",
       "        1.01607725, 0.67129507, 0.56571877, 1.05220386, 0.91684978,\n",
       "        0.61326258, 1.3468876 , 1.26660962, 0.79153983, 1.03133874,\n",
       "        0.78750042, 0.79669338, 0.93995804, 0.72767334, 0.79284044,\n",
       "        0.84809244, 0.80284677, 1.21803503, 0.88244964, 0.88700276,\n",
       "        0.93309213, 1.00078352, 1.04435362, 1.03596875, 0.84106101,\n",
       "        0.79914192, 1.09752723, 0.74519553, 0.66365051, 0.75866364,\n",
       "        1.00374072, 0.72662609, 0.69287169, 0.77392386, 0.88128671,\n",
       "        0.87003413, 0.9067428 , 0.94857357, 0.88700442, 0.94982747,\n",
       "        0.93177844, 0.92680496, 0.86056586, 0.87492144, 0.86385459,\n",
       "        1.35445923, 1.07894474, 1.04106462, 1.11622054, 1.21659692,\n",
       "        0.89474656, 0.99405141, 0.99393468, 0.8929049 , 0.88820775,\n",
       "        1.19145623, 1.08926198, 0.84157607, 0.84405742, 1.05569322,\n",
       "        1.08191854, 0.88569344, 1.06647677, 1.21472535, 1.17130962,\n",
       "        0.9839625 , 1.0199162 , 1.15193669, 0.87944811, 0.78615737,\n",
       "        1.06412491, 1.10377088, 1.16796839, 0.65382291, 0.93289877,\n",
       "        0.85590422, 0.86500959, 1.36363249, 0.41898098, 0.39997339,\n",
       "        0.60844412, 0.4408989 , 0.46793035, 0.37425357, 0.48569809,\n",
       "        0.40782083, 0.95671352, 0.90991718, 1.2394193 , 1.08606496,\n",
       "        1.12727574, 1.10678135, 1.18358752, 1.140885  , 1.18711888,\n",
       "               nan])}"
      ]
     },
     "execution_count": 8,
     "metadata": {},
     "output_type": "execute_result"
    }
   ],
   "source": [
    "evaluator = DistanceErrorEvaluator(N_future=4)\n",
    "evaluator.evaluate(predictor, trajlets_for_testing)"
   ]
  },
  {
   "cell_type": "markdown",
   "id": "5d6c76f8",
   "metadata": {},
   "source": [
    "# Hidden Markov Model with trajectory sub-segment latent states"
   ]
  },
  {
   "cell_type": "markdown",
   "id": "a731ec2a",
   "metadata": {},
   "source": [
    "This method works by modelling a pedestrian trajectory as being composed of multiple common segment primitives. Developing the HMM model consists of 2 parts:\n",
    "* Extracting common trajectory sub-segments from data. These sub-segments or segment primitives will be the states of the HMM.\n",
    "* Learn the transition matrix of the HMM. To predict the pedestrian's trajectory, we need the ability to predict the next state or segment primitive the pedestrian will transit to after the current segment the pedestrian is executing."
   ]
  },
  {
   "cell_type": "markdown",
   "id": "63e643df",
   "metadata": {},
   "source": [
    "### Sanity checks\n",
    "\n",
    "We perform some sanity checks on artificial data first to validate the HMM algorithm. Generate the artificial trajectories from a set of 5 different trajectory types"
   ]
  },
  {
   "cell_type": "code",
   "execution_count": null,
   "id": "c3c259da",
   "metadata": {},
   "outputs": [],
   "source": [
    "seg_type1 = [[0, 0, 1, 0], [1, 0, 5, 0], [6, 0, 5, 0]]\n",
    "seg_type2 = [[0, 0, 1, 0], [1, 0, 1, 0], [2, 0, 1, 0]]\n",
    "seg_type3 = [[0, 0, 1, 0], [1, 0, 1, 1], [2, 1, 1, 1]]\n",
    "seg_type4 = [[0, 0, 1, 0], [1, 0, 1, -1], [2, -1, 1, -1]]\n",
    "seg_type5 = [[0, 0, 1, 0], [1, 0, -2, 0], [-1, 0, -2, 0]]\n",
    "\n",
    "seg_types = np.array([seg_type1, seg_type2, seg_type3, seg_type4, seg_type5])\n",
    "test_trajs = []\n",
    "\n",
    "for seg_type in seg_types:\n",
    "    for i in range(3):\n",
    "        angle = np.random.uniform(-2*np.pi, 2*np.pi)\n",
    "        scale = np.random.uniform(0.5, 1.5)\n",
    "        trans = np.array([[np.random.uniform(-10, 10), np.random.uniform(-10, 10)]]).T\n",
    "\n",
    "        R = np.array([[np.cos(angle), -np.sin(angle)],\n",
    "                      [np.sin(angle), np.cos(angle)]])\n",
    "        S = np.array([[scale, 0], \n",
    "                      [0, scale]])\n",
    "\n",
    "        seg = np.dot(S, np.dot(R, seg_type[:, 0:2].T))\n",
    "        seg = seg + trans\n",
    "        seg_vels = np.dot(S, np.dot(R, seg_type[:, 2:].T))\n",
    "        sample = np.hstack((seg.T, seg_vels.T))\n",
    "        test_trajs.append(sample)\n",
    "        \n",
    "print(test_trajs)\n",
    "print(np.array(test_trajs).shape)"
   ]
  },
  {
   "cell_type": "markdown",
   "id": "5b6f64db",
   "metadata": {},
   "source": [
    "Test the performance of the clustering step. The code implements 2 different ways to do this: 1) X-means which automatically selects the optimal number of clusters using Bayesian Information Criterion, 2) iterative K-means over a range of possible numbers of clusters, with the user left to select the optimal number of clusters manually from the extracted distance-to-centroid and silhouette methods.\n",
    "\n",
    "We test (2), since the X-means approach with BIC seems prone to over-clustering."
   ]
  },
  {
   "cell_type": "code",
   "execution_count": 7,
   "id": "8f8a7bf1",
   "metadata": {},
   "outputs": [
    {
     "data": {
      "text/plain": [
       "Text(0.5, 1.0, 'Silhouette scores')"
      ]
     },
     "execution_count": 7,
     "metadata": {},
     "output_type": "execute_result"
    },
    {
     "data": {
      "image/png": "[encoded data removed]",
      "text/plain": [
       "<Figure size 432x288 with 2 Axes>"
      ]
     },
     "metadata": {
      "needs_background": "light"
     },
     "output_type": "display_data"
    }
   ],
   "source": [
    "extractor = HMMLatentSegmentsExtractor(segment_len=3)\n",
    "\n",
    "dists, silhouettes, clusters, centres = extractor.learn_latent_segments_manual_kmeans(np.array(test_trajs))\n",
    "cluster_range = range(extractor._n_min_centres, extractor._n_max_centres + 1)\n",
    "\n",
    "fig, axs = plt.subplots(1, 2)\n",
    "axs[0].plot(cluster_range, dists)\n",
    "axs[1].plot(cluster_range, silhouettes)\n",
    "axs[0].set_title('Distances')\n",
    "axs[1].set_title('Silhouette scores')"
   ]
  },
  {
   "cell_type": "code",
   "execution_count": 9,
   "id": "82b96bba",
   "metadata": {},
   "outputs": [
    {
     "name": "stdout",
     "output_type": "stream",
     "text": [
      "5\n"
     ]
    },
    {
     "data": {
      "text/plain": [
       "[1, 1, 1, 4, 4, 4, 3, 3, 3, 0, 0, 0, 2, 2, 2]"
      ]
     },
     "execution_count": 9,
     "metadata": {},
     "output_type": "execute_result"
    }
   ],
   "source": [
    "clustering_tmp = KMeansOutcome(3, centres[2])\n",
    "clustering_tmp.save_to_file(\"./tmp_clustering.pickle\")\n",
    "clustering = KMeansOutcome.load_from_file(\"./tmp_clustering.pickle\")\n",
    "print(clustering.N)\n",
    "clustering.classify_batch(test_trajs)"
   ]
  },
  {
   "cell_type": "code",
   "execution_count": 10,
   "id": "aa1c04f8",
   "metadata": {},
   "outputs": [
    {
     "data": {
      "text/plain": [
       "[[0.0, 1.0, 2.0, 0.0, 2.894755193667473e-16, -1.0],\n",
       " [0.0,\n",
       "  1.0,\n",
       "  6.000000000000003,\n",
       "  0.0,\n",
       "  -2.7491191706942805e-16,\n",
       "  -1.4802973661668753e-16],\n",
       " [0.0,\n",
       "  1.0000000000000002,\n",
       "  -1.0000000000000002,\n",
       "  0.0,\n",
       "  -2.504513916788477e-16,\n",
       "  2.590520390792032e-16],\n",
       " [0.0, 0.9999999999999999, 2.0, 0.0, 2.893978556126896e-17, 1.0],\n",
       " [0.0, 1.0, 2.0, 0.0, 4.390427525217475e-16, -4.440892098500626e-16]]"
      ]
     },
     "execution_count": 10,
     "metadata": {},
     "output_type": "execute_result"
    }
   ],
   "source": [
    "centres[2]"
   ]
  },
  {
   "cell_type": "markdown",
   "id": "060a45cf",
   "metadata": {},
   "source": [
    "### Learn segments from data"
   ]
  },
  {
   "cell_type": "code",
   "execution_count": 12,
   "id": "e267a02e",
   "metadata": {},
   "outputs": [
    {
     "name": "stdout",
     "output_type": "stream",
     "text": [
      "(3478, 4, 5)\n"
     ]
    }
   ],
   "source": [
    "segment_length = 4\n",
    "trajlets_for_segments_learning = traj_dataset.get_trajlets(length=segment_length*0.4, overlap=1, to_numpy=True)\n",
    "print(trajlets_for_segments_learning.shape)"
   ]
  },
  {
   "cell_type": "code",
   "execution_count": 13,
   "id": "75532677",
   "metadata": {},
   "outputs": [],
   "source": [
    "extractor = HMMLatentSegmentsExtractor(segment_len=segment_length, n_min_centres=10, n_max_centres=100)\n",
    "dists, silhouettes, clusters, centres = extractor.learn_latent_segments_manual_kmeans(trajlets_for_segments_learning[:, :, 0:4])\n",
    "cluster_range = range(extractor._n_min_centres, extractor._n_max_centres + 1)"
   ]
  },
  {
   "cell_type": "code",
   "execution_count": 14,
   "id": "c67292a4",
   "metadata": {},
   "outputs": [
    {
     "data": {
      "text/plain": [
       "Text(0.5, 1.0, 'Silhouette scores')"
      ]
     },
     "execution_count": 14,
     "metadata": {},
     "output_type": "execute_result"
    },
    {
     "data": {
      "image/png": "[encoded data removed]",
      "text/plain": [
       "<Figure size 432x288 with 2 Axes>"
      ]
     },
     "metadata": {
      "needs_background": "light"
     },
     "output_type": "display_data"
    }
   ],
   "source": [
    "fig, axs = plt.subplots(1, 2)\n",
    "axs[0].plot(cluster_range, dists)\n",
    "axs[1].plot(cluster_range, silhouettes)\n",
    "axs[0].set_title('Distances')\n",
    "axs[1].set_title('Silhouette scores')"
   ]
  },
  {
   "cell_type": "code",
   "execution_count": null,
   "id": "d2b357c0",
   "metadata": {},
   "outputs": [],
   "source": []
  },
  {
   "cell_type": "code",
   "execution_count": 15,
   "id": "9e893bd5",
   "metadata": {},
   "outputs": [
    {
     "name": "stdout",
     "output_type": "stream",
     "text": [
      "30.989181179425916\n",
      "50\n"
     ]
    }
   ],
   "source": [
    "center_idx = 40\n",
    "print(dists[center_idx])\n",
    "center = np.array(centres[center_idx])\n",
    "clustering = KMeansOutcome(segment_length, center)\n",
    "clustering.save_to_file(\"./hmm_segment_clustering.pickle\")\n",
    "print(clustering.N)"
   ]
  },
  {
   "cell_type": "code",
   "execution_count": 16,
   "id": "2d9066eb",
   "metadata": {},
   "outputs": [
    {
     "name": "stdout",
     "output_type": "stream",
     "text": [
      "(50, 2, 4)\n"
     ]
    }
   ],
   "source": [
    "patterns = center.reshape([-1, 2, segment_length])\n",
    "print(patterns.shape)"
   ]
  },
  {
   "cell_type": "code",
   "execution_count": 17,
   "id": "a8743e26",
   "metadata": {},
   "outputs": [
    {
     "data": {
      "image/png": "[encoded data removed]",
      "text/plain": [
       "<Figure size 720x720 with 1 Axes>"
      ]
     },
     "metadata": {
      "needs_background": "light"
     },
     "output_type": "display_data"
    }
   ],
   "source": [
    "fig, axs = plt.subplots(1, 1, figsize=(10, 10))\n",
    "for p in patterns[:, :, :]:\n",
    "    axs.plot(p[0, :], p[1, :])"
   ]
  },
  {
   "cell_type": "markdown",
   "id": "949daff8",
   "metadata": {},
   "source": [
    "### Learn HMM model"
   ]
  },
  {
   "cell_type": "code",
   "execution_count": 3,
   "id": "76186652",
   "metadata": {},
   "outputs": [
    {
     "name": "stdout",
     "output_type": "stream",
     "text": [
      "(666, 16, 5)\n"
     ]
    }
   ],
   "source": [
    "segment_length = 4\n",
    "num_segment = 4\n",
    "clustering = KMeansOutcome.load_from_file(\"./hmm_segment_clustering.pickle\")\n",
    "assert clustering.segment_length == segment_length\n",
    "trajlets_for_hmm_learning = traj_dataset.get_trajlets(\n",
    "    length=num_segment * segment_length*0.4, overlap=4, to_numpy=True\n",
    ")\n",
    "print(trajlets_for_hmm_learning.shape)"
   ]
  },
  {
   "cell_type": "code",
   "execution_count": 4,
   "id": "b8378db8",
   "metadata": {},
   "outputs": [],
   "source": [
    "# print(trajlets_for_hmm_learning[0, 0:12, 0:4])\n",
    "# print(trajlets_for_hmm_learning[0, 0:12, 0:4].reshape([3, 4, 4]))"
   ]
  },
  {
   "cell_type": "code",
   "execution_count": 5,
   "id": "198a0f46",
   "metadata": {},
   "outputs": [],
   "source": [
    "observations = []\n",
    "for t in trajlets_for_hmm_learning:\n",
    "    obs = clustering.classify_batch(t[0:12, 0:4].reshape([3, 4, 4]))\n",
    "    observations.append(obs)"
   ]
  },
  {
   "cell_type": "code",
   "execution_count": 55,
   "id": "58aeb033",
   "metadata": {},
   "outputs": [
    {
     "name": "stdout",
     "output_type": "stream",
     "text": [
      "Estimating HMM model parameters...\n",
      "Iter 1, log-likelihood loss: -7.30159496307225, delta: inf\n",
      "Iter 2, log-likelihood loss: -7.3009666224887, delta: 0.000628340583549658\n",
      "Iter 3, log-likelihood loss: -7.3002250496075485, delta: 0.0007415728811519529\n",
      "Iter 4, log-likelihood loss: -7.29913620793379, delta: 0.001088841673758445\n",
      "Iter 5, log-likelihood loss: -7.29799877052635, delta: 0.0011374374074399896\n",
      "Iter 6, log-likelihood loss: -7.2972131751713585, delta: 0.000785595354991564\n",
      "Iter 7, log-likelihood loss: -7.296523839108213, delta: 0.0006893360631456957\n",
      "Iter 8, log-likelihood loss: -7.29573100305438, delta: 0.0007928360538329571\n",
      "Iter 9, log-likelihood loss: -7.294909458927644, delta: 0.0008215441267358514\n",
      "Iter 10, log-likelihood loss: -7.294307154994782, delta: 0.0006023039328617585\n"
     ]
    }
   ],
   "source": [
    "state_dim = 80\n",
    "hmm = HMMMultinomialFirstOrder(state_dim, clustering.N, verbose=True, max_iters=3)\n",
    "try:\n",
    "    hmm.load_from_file(\"./hmm_model_param.pickle\")\n",
    "except Exception as e:\n",
    "    print(\"Fail to load parameters. Maybe they do not exist yet.\")\n",
    "    print(e)\n",
    "hmm.estimate_parameters(np.array(observations))\n",
    "hmm.save_to_file(\"./hmm_model_param.pickle\")"
   ]
  },
  {
   "cell_type": "markdown",
   "id": "6de83649",
   "metadata": {},
   "source": [
    "### Predict"
   ]
  },
  {
   "cell_type": "code",
   "execution_count": 3,
   "id": "f3a53500",
   "metadata": {},
   "outputs": [],
   "source": [
    "clustering = KMeansOutcome.load_from_file(\"./hmm_segment_clustering.pickle\")\n",
    "state_dim = 80\n",
    "hmm = HMMMultinomialFirstOrder(state_dim, clustering.N, verbose=True, max_iters=3)\n",
    "hmm.load_from_file(\"./hmm_model_param.pickle\")\n",
    "predictor = HMMLatentSegmentsPredictor(hmm, clustering)"
   ]
  },
  {
   "cell_type": "code",
   "execution_count": 4,
   "id": "8f2e9834",
   "metadata": {},
   "outputs": [
    {
     "name": "stdout",
     "output_type": "stream",
     "text": [
      "(361, 16, 5)\n"
     ]
    }
   ],
   "source": [
    "segment_length = 4\n",
    "num_segment = 4\n",
    "num_history_segment = 3\n",
    "trajlets_for_testing = traj_dataset.get_trajlets(\n",
    "    length=segment_length * num_segment * 0.4,\n",
    "    overlap=1,\n",
    "    to_numpy=True\n",
    ")\n",
    "print(trajlets_for_testing.shape)"
   ]
  },
  {
   "cell_type": "code",
   "execution_count": 5,
   "id": "fcd6fff6",
   "metadata": {},
   "outputs": [
    {
     "name": "stdout",
     "output_type": "stream",
     "text": [
      "[[11.428242    4.4082305 ]\n",
      " [10.640157    4.1917857 ]\n",
      " [ 9.8310942   3.9295902 ]\n",
      " [ 9.0076642   3.7838973 ]\n",
      " [ 8.2064501   3.6339105 ]\n",
      " [ 7.3864681   3.4804103 ]\n",
      " [ 6.5936127   3.3651828 ]\n",
      " [ 5.8229828   3.1608805 ]\n",
      " [ 5.0893833   3.0820297 ]\n",
      " [ 4.3878826   3.0011859 ]\n",
      " [ 3.4786547   2.8758434 ]\n",
      " [ 2.6610118   2.9712992 ]\n",
      " [ 1.8630656   2.8870934 ]\n",
      " [ 1.0993477   2.8008228 ]\n",
      " [ 0.36502511  2.6201061 ]\n",
      " [-0.34984213  2.2020414 ]]\n"
     ]
    },
    {
     "data": {
      "text/plain": [
       "(array([[1.80526049, 2.7403309 ],\n",
       "        [1.0777209 , 2.16727416],\n",
       "        [1.84214393, 3.05626232],\n",
       "        [1.79672472, 3.00844622]]),\n",
       " array([[[0.        , 0.39922575],\n",
       "         [0.79711446, 1.19314929],\n",
       "         [0.        , 0.01283284],\n",
       "         [0.04806654, 0.07692479]]]))"
      ]
     },
     "execution_count": 5,
     "metadata": {},
     "output_type": "execute_result"
    }
   ],
   "source": [
    "traj = trajlets_for_testing[30]\n",
    "print(traj[:, 0:2])\n",
    "predictor.predict(traj[0:4 * num_history_segment, :])"
   ]
  },
  {
   "cell_type": "markdown",
   "id": "9704083f",
   "metadata": {},
   "source": [
    "### Evaluation"
   ]
  },
  {
   "cell_type": "code",
   "execution_count": 59,
   "id": "4c4df4c5",
   "metadata": {},
   "outputs": [],
   "source": [
    "evaluator = DistanceErrorEvaluator(N_future=4)"
   ]
  },
  {
   "cell_type": "code",
   "execution_count": null,
   "id": "46af79da",
   "metadata": {},
   "outputs": [],
   "source": [
    "evaluator.evaluate(predictor, trajlets_for_testing)"
   ]
  }
 ],
 "metadata": {
  "kernelspec": {
   "display_name": "Python 3 (ipykernel)",
   "language": "python",
   "name": "python3"
  },
  "language_info": {
   "codemirror_mode": {
    "name": "ipython",
    "version": 3
   },
   "file_extension": ".py",
   "mimetype": "text/x-python",
   "name": "python",
   "nbconvert_exporter": "python",
   "pygments_lexer": "ipython3",
   "version": "3.7.11"
  }
 },
 "nbformat": 4,
 "nbformat_minor": 5
}
