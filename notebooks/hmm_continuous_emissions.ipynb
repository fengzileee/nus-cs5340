{
 "cells": [
  {
   "cell_type": "code",
   "execution_count": 1,
   "id": "759942b9",
   "metadata": {},
   "outputs": [],
   "source": [
    "%load_ext autoreload\n",
    "%autoreload 2"
   ]
  },
  {
   "cell_type": "code",
   "execution_count": 2,
   "id": "2047d8ec",
   "metadata": {},
   "outputs": [],
   "source": [
    "# import \n",
    "import os\n",
    "import numpy as np\n",
    "import pandas as pd\n",
    "import seaborn as sns\n",
    "from fitter import Fitter, get_common_distributions, get_distributions\n",
    "import matplotlib.pyplot as plt\n",
    "from uncertainty_motion_prediction.dataloader import Dataloader\n",
    "from uncertainty_motion_prediction.evaluators import DistanceErrorEvaluator\n",
    "from uncertainty_motion_prediction.predictor import (\n",
    "    HMMMultinomialFirstOrder, HMMLatentSegmentsExtractor, KMeansOutcome, HMMLatentSegmentsPredictor\n",
    ")\n",
    "from uncertainty_motion_prediction.predictor import HMMContinuousEmissionsPredictor\n",
    "from hmmlearn import hmm"
   ]
  },
  {
   "cell_type": "code",
   "execution_count": 3,
   "id": "505f1c23",
   "metadata": {},
   "outputs": [],
   "source": [
    "#from uncertainty_motion_prediction.predictor.hmm_continuous_emissions import normalise_segment_batch\n",
    "from uncertainty_motion_prediction.predictor import normalise_segment_batch\n"
   ]
  },
  {
   "cell_type": "markdown",
   "id": "c687dd94",
   "metadata": {},
   "source": [
    "# Load the Dataset and Overview of the Data\n",
    "\n",
    "Load and Data and conduct some brief analysis on the pattern of the normalised segment."
   ]
  },
  {
   "cell_type": "code",
   "execution_count": 4,
   "id": "c0936cd6",
   "metadata": {},
   "outputs": [],
   "source": [
    "#Switch the dataset\n",
    "'''\n",
    "0: eth-univ\n",
    "1: eth-hotel\n",
    "2: ucy-zara1\n",
    "3: ucy-zara2\n",
    "4: ucy-univ3\n",
    "'''\n",
    "dataset_no = 5"
   ]
  },
  {
   "cell_type": "code",
   "execution_count": 5,
   "id": "02ad32f4",
   "metadata": {},
   "outputs": [],
   "source": [
    "dataset=Dataloader();\n",
    "traj_dataset = dataset.load(dataset_no)"
   ]
  },
  {
   "cell_type": "code",
   "execution_count": 6,
   "id": "cff5a92b",
   "metadata": {},
   "outputs": [
    {
     "name": "stdout",
     "output_type": "stream",
     "text": [
      "(1550, 16, 5)\n"
     ]
    }
   ],
   "source": [
    "segment_length = 4\n",
    "num_segment = 4# Hidden Markov Model with Gaussian emissions (to model trajectory observations)\n",
    "\n",
    "#Start by instantiating a HMM with continuous Gaussian emission distributions.\n",
    "trajlets_for_hmm_learning = traj_dataset.get_trajlets(\n",
    "    length =num_segment * segment_length*0.4, overlap=4, to_numpy=True\n",
    ")\n",
    "print(trajlets_for_hmm_learning.shape)"
   ]
  },
  {
   "cell_type": "code",
   "execution_count": 7,
   "id": "7e753985",
   "metadata": {
    "scrolled": true
   },
   "outputs": [],
   "source": [
    "trajlets_shape = trajlets_for_hmm_learning.shape\n",
    "normalised = normalise_segment_batch(trajlets_for_hmm_learning[:, :, 0:4], segment_length)\n",
    "sequence_lengths = np.array([num_segment for i in range(trajlets_shape[0])])\n",
    "\n"
   ]
  },
  {
   "cell_type": "code",
   "execution_count": 8,
   "id": "7d2843f6",
   "metadata": {},
   "outputs": [
    {
     "data": {
      "text/html": [
       "<div>\n",
       "<style scoped>\n",
       "    .dataframe tbody tr th:only-of-type {\n",
       "        vertical-align: middle;\n",
       "    }\n",
       "\n",
       "    .dataframe tbody tr th {\n",
       "        vertical-align: top;\n",
       "    }\n",
       "\n",
       "    .dataframe thead th {\n",
       "        text-align: right;\n",
       "    }\n",
       "</style>\n",
       "<table border=\"1\" class=\"dataframe\">\n",
       "  <thead>\n",
       "    <tr style=\"text-align: right;\">\n",
       "      <th></th>\n",
       "      <th>0</th>\n",
       "      <th>1</th>\n",
       "      <th>2</th>\n",
       "      <th>3</th>\n",
       "      <th>4</th>\n",
       "      <th>5</th>\n",
       "      <th>6</th>\n",
       "      <th>7</th>\n",
       "    </tr>\n",
       "  </thead>\n",
       "  <tbody>\n",
       "    <tr>\n",
       "      <th>count</th>\n",
       "      <td>6200.0</td>\n",
       "      <td>6200.000000</td>\n",
       "      <td>6200.000000</td>\n",
       "      <td>6200.000000</td>\n",
       "      <td>6200.0</td>\n",
       "      <td>6.200000e+03</td>\n",
       "      <td>6.200000e+03</td>\n",
       "      <td>6.200000e+03</td>\n",
       "    </tr>\n",
       "    <tr>\n",
       "      <th>mean</th>\n",
       "      <td>0.0</td>\n",
       "      <td>0.318318</td>\n",
       "      <td>0.633287</td>\n",
       "      <td>0.945939</td>\n",
       "      <td>0.0</td>\n",
       "      <td>9.124376e-04</td>\n",
       "      <td>2.580991e-03</td>\n",
       "      <td>4.977507e-03</td>\n",
       "    </tr>\n",
       "    <tr>\n",
       "      <th>std</th>\n",
       "      <td>0.0</td>\n",
       "      <td>0.043918</td>\n",
       "      <td>0.087246</td>\n",
       "      <td>0.134528</td>\n",
       "      <td>0.0</td>\n",
       "      <td>2.125660e-02</td>\n",
       "      <td>5.316890e-02</td>\n",
       "      <td>9.509262e-02</td>\n",
       "    </tr>\n",
       "    <tr>\n",
       "      <th>min</th>\n",
       "      <td>0.0</td>\n",
       "      <td>-0.144740</td>\n",
       "      <td>-0.337319</td>\n",
       "      <td>-0.584074</td>\n",
       "      <td>0.0</td>\n",
       "      <td>-1.426338e-01</td>\n",
       "      <td>-3.326145e-01</td>\n",
       "      <td>-5.884717e-01</td>\n",
       "    </tr>\n",
       "    <tr>\n",
       "      <th>25%</th>\n",
       "      <td>0.0</td>\n",
       "      <td>0.318925</td>\n",
       "      <td>0.640555</td>\n",
       "      <td>0.962039</td>\n",
       "      <td>0.0</td>\n",
       "      <td>-1.228653e-13</td>\n",
       "      <td>-1.140261e-02</td>\n",
       "      <td>-3.127037e-02</td>\n",
       "    </tr>\n",
       "    <tr>\n",
       "      <th>50%</th>\n",
       "      <td>0.0</td>\n",
       "      <td>0.331165</td>\n",
       "      <td>0.660455</td>\n",
       "      <td>0.988846</td>\n",
       "      <td>0.0</td>\n",
       "      <td>0.000000e+00</td>\n",
       "      <td>1.387779e-17</td>\n",
       "      <td>1.387779e-16</td>\n",
       "    </tr>\n",
       "    <tr>\n",
       "      <th>75%</th>\n",
       "      <td>0.0</td>\n",
       "      <td>0.334276</td>\n",
       "      <td>0.666667</td>\n",
       "      <td>0.997712</td>\n",
       "      <td>0.0</td>\n",
       "      <td>7.094795e-04</td>\n",
       "      <td>1.471153e-02</td>\n",
       "      <td>3.710695e-02</td>\n",
       "    </tr>\n",
       "    <tr>\n",
       "      <th>max</th>\n",
       "      <td>0.0</td>\n",
       "      <td>0.374010</td>\n",
       "      <td>0.686689</td>\n",
       "      <td>1.000000</td>\n",
       "      <td>0.0</td>\n",
       "      <td>1.964723e-01</td>\n",
       "      <td>3.929446e-01</td>\n",
       "      <td>5.894168e-01</td>\n",
       "    </tr>\n",
       "  </tbody>\n",
       "</table>\n",
       "</div>"
      ],
      "text/plain": [
       "            0            1            2            3       4             5  \\\n",
       "count  6200.0  6200.000000  6200.000000  6200.000000  6200.0  6.200000e+03   \n",
       "mean      0.0     0.318318     0.633287     0.945939     0.0  9.124376e-04   \n",
       "std       0.0     0.043918     0.087246     0.134528     0.0  2.125660e-02   \n",
       "min       0.0    -0.144740    -0.337319    -0.584074     0.0 -1.426338e-01   \n",
       "25%       0.0     0.318925     0.640555     0.962039     0.0 -1.228653e-13   \n",
       "50%       0.0     0.331165     0.660455     0.988846     0.0  0.000000e+00   \n",
       "75%       0.0     0.334276     0.666667     0.997712     0.0  7.094795e-04   \n",
       "max       0.0     0.374010     0.686689     1.000000     0.0  1.964723e-01   \n",
       "\n",
       "                  6             7  \n",
       "count  6.200000e+03  6.200000e+03  \n",
       "mean   2.580991e-03  4.977507e-03  \n",
       "std    5.316890e-02  9.509262e-02  \n",
       "min   -3.326145e-01 -5.884717e-01  \n",
       "25%   -1.140261e-02 -3.127037e-02  \n",
       "50%    1.387779e-17  1.387779e-16  \n",
       "75%    1.471153e-02  3.710695e-02  \n",
       "max    3.929446e-01  5.894168e-01  "
      ]
     },
     "execution_count": 8,
     "metadata": {},
     "output_type": "execute_result"
    }
   ],
   "source": [
    "#take a look at the data\n",
    "df = pd.DataFrame(normalised)\n",
    "df.describe()"
   ]
  },
  {
   "cell_type": "code",
   "execution_count": 9,
   "id": "86cc3ceb",
   "metadata": {},
   "outputs": [
    {
     "data": {
      "text/plain": [
       "<seaborn.axisgrid.FacetGrid at 0x7ff1212703d0>"
      ]
     },
     "execution_count": 9,
     "metadata": {},
     "output_type": "execute_result"
    },
    {
     "data": {
      "image/png": "[encoded data removed]",
      "text/plain": [
       "<Figure size 540x360 with 1 Axes>"
      ]
     },
     "metadata": {},
     "output_type": "display_data"
    }
   ],
   "source": [
    "sns.set_style('white')\n",
    "sns.set_context(\"paper\", font_scale = 2)\n",
    "sns.displot(data=df, x=3, kind=\"hist\", bins = 100, aspect = 1.5)\n"
   ]
  },
  {
   "cell_type": "code",
   "execution_count": 10,
   "id": "3288c2f6",
   "metadata": {},
   "outputs": [],
   "source": [
    "# Pair-wise Scatter Plots\n",
    "#pp = sns.pairplot(df, size=1.8, aspect=1.8,\n",
    "#                  plot_kws=dict(edgecolor=\"k\", linewidth=0.5),\n",
    "#                  diag_kind=\"kde\", diag_kws=dict(shade=True))\n",
    "\n",
    "#fig = pp.fig \n",
    "#fig.subplots_adjust(top=0.93, wspace=0.3)\n",
    "#t = fig.suptitle('Wine Attributes Pairwise Plots', fontsize=14)\n"
   ]
  },
  {
   "cell_type": "markdown",
   "id": "6b93f1bd",
   "metadata": {},
   "source": [
    "# Hidden Markov Model with Gaussian emissions (to model trajectory observations)\n",
    "\n",
    "Start by instantiating a HMM with continuous Gaussian emission distributions."
   ]
  },
  {
   "cell_type": "code",
   "execution_count": 11,
   "id": "830277fa",
   "metadata": {},
   "outputs": [],
   "source": [
    "if dataset_no == 0:\n",
    "    # ETC Uni\n",
    "    n_components = 10\n",
    "    covariance_type = \"full\"\n",
    "    n_iter = 50\n",
    "elif dataset_no == 1:\n",
    "    # ETC Hotel\n",
    "    n_components = 4\n",
    "    covariance_type = \"full\"\n",
    "    n_iter = 50\n",
    "elif dataset_no == 2:\n",
    "    # ETC Hotel\n",
    "    n_components = 4\n",
    "    covariance_type = \"full\"\n",
    "    n_iter = 50\n",
    "elif dataset_no == 3:\n",
    "    # ETC Hotel\n",
    "    n_components = 4\n",
    "    covariance_type = \"full\"\n",
    "    n_iter = 50\n",
    "elif dataset_no == 4:\n",
    "    # ucy-univ3\n",
    "    n_components = 10\n",
    "    covariance_type = \"full\"\n",
    "    n_iter = 80\n",
    "elif dataset_no == 5:\n",
    "    # ucy-univ3\n",
    "    n_components = 4\n",
    "    covariance_type = \"full\"\n",
    "    n_iter = 80\n",
    "\n",
    "\n",
    "model = hmm.GaussianHMM(n_components=n_components, covariance_type=covariance_type, \n",
    "                        init_params='stmc', n_iter=n_iter, verbose=True)"
   ]
  },
  {
   "cell_type": "markdown",
   "id": "67bc7c6c",
   "metadata": {},
   "source": [
    "Preprocess the trajectories by normalising them (without the adjustment on Rotation). Then we estimate the model parameters (transition matrix and Gaussian emission distribution parameters)."
   ]
  },
  {
   "cell_type": "code",
   "execution_count": 12,
   "id": "58648379",
   "metadata": {
    "scrolled": true
   },
   "outputs": [],
   "source": [
    "var_param = 1\n",
    "covar = np.array ([[1, 0., 0., 0., 0., 0., 0., 0.],\n",
    "                  [0., 1, 1, 1, 0., 0., 0., 0.],\n",
    "                   [0., 1, 1, 1, 0., 0., 0., 0.],\n",
    "                   [0., 1, 1, 1, 0., 0., 0., 0.],\n",
    "                    [0., 0, 0, 0, 1, 0., 0., 0.],\n",
    "                    [0., 0, 0, 0, 0, 1, 1, 1],\n",
    "                    [0., 0, 0, 0, 0, 1, 1, 1],\n",
    "                    [0., 0, 0, 0, 0, 1, 1, 1]])\n",
    "\n",
    "\n",
    "\n",
    "covars = var_param* np.tile(covar, (n_components, 1, 1))\n"
   ]
  },
  {
   "cell_type": "code",
   "execution_count": 13,
   "id": "375d0026",
   "metadata": {},
   "outputs": [],
   "source": [
    "#model.covars_ = covars"
   ]
  },
  {
   "cell_type": "code",
   "execution_count": 14,
   "id": "98ac3c50",
   "metadata": {},
   "outputs": [
    {
     "name": "stderr",
     "output_type": "stream",
     "text": [
      "         1       62177.9920             +nan\n",
      "         2       97415.2204      +35237.2284\n",
      "         3      104441.6237       +7026.4033\n",
      "         4      106183.4221       +1741.7984\n",
      "         5      107246.3373       +1062.9151\n",
      "         6      108101.8566        +855.5193\n",
      "         7      108783.0701        +681.2136\n",
      "         8      109329.2177        +546.1475\n",
      "         9      109798.1128        +468.8951\n",
      "        10      110177.4792        +379.3664\n",
      "        11      110470.1569        +292.6777\n",
      "        12      110714.0522        +243.8953\n",
      "        13      110936.3295        +222.2774\n",
      "        14      111154.6159        +218.2864\n",
      "        15      111378.2905        +223.6745\n",
      "        16      111604.7035        +226.4131\n",
      "        17      111824.9103        +220.2068\n",
      "        18      112041.0239        +216.1136\n",
      "        19      112255.7441        +214.7202\n",
      "        20      112449.3836        +193.6395\n",
      "        21      112636.7320        +187.3484\n",
      "        22      112876.5048        +239.7729\n",
      "        23      113209.8426        +333.3378\n",
      "        24      113618.5560        +408.7133\n",
      "        25      114132.2874        +513.7314\n",
      "        26      114896.6547        +764.3673\n",
      "        27      116102.4480       +1205.7933\n",
      "        28      118037.0848       +1934.6369\n",
      "        29      121451.4933       +3414.4085\n",
      "        30      127662.1616       +6210.6683\n",
      "        31      134995.5546       +7333.3931\n",
      "        32      112903.7069      -22091.8477\n"
     ]
    },
    {
     "data": {
      "text/plain": [
       "GaussianHMM(covariance_type='full', n_components=4, n_iter=80, verbose=True)"
      ]
     },
     "execution_count": 14,
     "metadata": {},
     "output_type": "execute_result"
    }
   ],
   "source": [
    "trajlets_shape = trajlets_for_hmm_learning.shape\n",
    "normalised = normalise_segment_batch(trajlets_for_hmm_learning[:, :, 0:4], segment_length)\n",
    "sequence_lengths = np.array([num_segment for i in range(trajlets_shape[0])])\n",
    "\n",
    "model.fit(normalised[:,np.r_[1:4,5:8]], lengths=sequence_lengths)"
   ]
  },
  {
   "cell_type": "code",
   "execution_count": 15,
   "id": "27bea996",
   "metadata": {},
   "outputs": [
    {
     "data": {
      "text/plain": [
       "array([[[ 2.19472798e-05,  3.90963715e-05,  1.52683648e-05,\n",
       "          5.90432314e-06,  7.14333362e-06,  7.50428632e-06],\n",
       "        [ 3.90963715e-05,  7.32500278e-05,  2.63806174e-05,\n",
       "          8.29831330e-06,  1.18128969e-05,  1.42837817e-05],\n",
       "        [ 1.52683648e-05,  2.63806174e-05,  4.37151483e-05,\n",
       "          7.43655188e-06,  1.06958166e-05,  1.59898530e-05],\n",
       "        [ 5.90432314e-06,  8.29831330e-06,  7.43655188e-06,\n",
       "          8.58152064e-05,  1.68388350e-04,  2.49673963e-04],\n",
       "        [ 7.14333362e-06,  1.18128969e-05,  1.06958166e-05,\n",
       "          1.68388350e-04,  3.34999684e-04,  5.00302585e-04],\n",
       "        [ 7.50428632e-06,  1.42837817e-05,  1.59898530e-05,\n",
       "          2.49673963e-04,  5.00302585e-04,  8.84120874e-04]],\n",
       "\n",
       "       [[ 6.57760445e-03,  1.15469759e-02,  1.48225451e-02,\n",
       "         -1.80144730e-04, -5.08655588e-04, -1.01274644e-03],\n",
       "        [ 1.15469759e-02,  2.43110886e-02,  3.46910147e-02,\n",
       "         -4.08616351e-04, -1.14407969e-03, -2.26141661e-03],\n",
       "        [ 1.48225451e-02,  3.46910147e-02,  5.65268935e-02,\n",
       "         -6.08500469e-04, -1.77322101e-03, -3.54905429e-03],\n",
       "        [-1.80144730e-04, -4.08616351e-04, -6.08500469e-04,\n",
       "          1.43863532e-03,  3.22578329e-03,  5.08409178e-03],\n",
       "        [-5.08655588e-04, -1.14407969e-03, -1.77322101e-03,\n",
       "          3.22578329e-03,  9.08755255e-03,  1.55947484e-02],\n",
       "        [-1.01274644e-03, -2.26141661e-03, -3.54905429e-03,\n",
       "          5.08409178e-03,  1.55947484e-02,  2.95817539e-02]],\n",
       "\n",
       "       [[ 1.89748176e-04,  1.57257297e-04,  3.38648114e-05,\n",
       "          2.48903888e-05,  5.54569910e-05,  1.00647915e-04],\n",
       "        [ 1.57257297e-04,  1.72829484e-04,  8.17006864e-05,\n",
       "          4.40339516e-05,  1.19123237e-04,  2.20047527e-04],\n",
       "        [ 3.38648114e-05,  8.17006864e-05,  1.25466017e-04,\n",
       "          6.08884923e-05,  1.79597021e-04,  3.33468778e-04],\n",
       "        [ 2.48903888e-05,  4.40339516e-05,  6.08884923e-05,\n",
       "          1.31145058e-04,  3.08936635e-04,  4.79231056e-04],\n",
       "        [ 5.54569910e-05,  1.19123237e-04,  1.79597021e-04,\n",
       "          3.08936635e-04,  9.46472508e-04,  1.63387722e-03],\n",
       "        [ 1.00647915e-04,  2.20047527e-04,  3.33468778e-04,\n",
       "          4.79231056e-04,  1.63387722e-03,  3.02661645e-03]],\n",
       "\n",
       "       [[ 2.56341185e-04,  3.00804652e-04,  2.23319899e-04,\n",
       "         -8.76336478e-05, -2.60942739e-04, -4.32405081e-04],\n",
       "        [ 3.00804652e-04,  4.52224534e-04,  4.37302326e-04,\n",
       "         -1.77684363e-04, -5.02296577e-04, -8.38221446e-04],\n",
       "        [ 2.23319899e-04,  4.37302326e-04,  7.06032479e-04,\n",
       "         -1.98549547e-04, -5.43032465e-04, -1.03228899e-03],\n",
       "        [-8.76336478e-05, -1.77684363e-04, -1.98549547e-04,\n",
       "          5.06292331e-04,  8.47779863e-04,  9.52976777e-04],\n",
       "        [-2.60942739e-04, -5.02296577e-04, -5.43032465e-04,\n",
       "          8.47779863e-04,  1.82326894e-03,  2.22861270e-03],\n",
       "        [-4.32405081e-04, -8.38221446e-04, -1.03228899e-03,\n",
       "          9.52976777e-04,  2.22861270e-03,  3.13340982e-03]]])"
      ]
     },
     "execution_count": 15,
     "metadata": {},
     "output_type": "execute_result"
    }
   ],
   "source": [
    "model.covars_"
   ]
  },
  {
   "cell_type": "code",
   "execution_count": 16,
   "id": "6739ea5e",
   "metadata": {},
   "outputs": [],
   "source": [
    "import pickle\n",
    "with open('gaussian_hmm_%s.pkl'%dataset_no, 'wb') as file:\n",
    "    pickle.dump(model, file)\n"
   ]
  },
  {
   "cell_type": "code",
   "execution_count": 17,
   "id": "bc457587",
   "metadata": {},
   "outputs": [
    {
     "data": {
      "text/plain": [
       "array([[0.57005083, 0.12704363, 0.22189129, 0.08101425],\n",
       "       [0.221734  , 0.45863413, 0.1901505 , 0.12948137],\n",
       "       [0.24261833, 0.12138678, 0.49249778, 0.14349711],\n",
       "       [0.26700212, 0.22443165, 0.32890073, 0.1796655 ]])"
      ]
     },
     "execution_count": 17,
     "metadata": {},
     "output_type": "execute_result"
    }
   ],
   "source": [
    "model.transmat_"
   ]
  },
  {
   "cell_type": "markdown",
   "id": "32a8a811",
   "metadata": {},
   "source": [
    "Set up to test the model."
   ]
  },
  {
   "cell_type": "code",
   "execution_count": 18,
   "id": "d0643a3c",
   "metadata": {},
   "outputs": [
    {
     "name": "stdout",
     "output_type": "stream",
     "text": [
      "(803, 16, 5)\n"
     ]
    }
   ],
   "source": [
    "trajlets_for_testing = traj_dataset.get_trajlets(\n",
    "    length=segment_length * num_segment * 0.4,\n",
    "    overlap=1,\n",
    "    to_numpy=True\n",
    ")\n",
    "print(trajlets_for_testing.shape)"
   ]
  },
  {
   "cell_type": "markdown",
   "id": "fb5ef626",
   "metadata": {},
   "source": [
    "A sanity check for our predictor and model, to visually inspect if the predict function works and yields reasonable values."
   ]
  },
  {
   "cell_type": "code",
   "execution_count": 19,
   "id": "1b2a6da6",
   "metadata": {},
   "outputs": [],
   "source": [
    "traj = trajlets_for_hmm_learning[0, :, :]"
   ]
  },
  {
   "cell_type": "code",
   "execution_count": 20,
   "id": "394cc192",
   "metadata": {},
   "outputs": [
    {
     "name": "stdout",
     "output_type": "stream",
     "text": [
      "(16, 5)\n",
      "[[11.24436313  2.24996693]\n",
      " [11.90667305  2.25058915]\n",
      " [12.56552356  2.24381591]\n",
      " [13.22399178  2.23213658]]\n"
     ]
    }
   ],
   "source": [
    "import pickle\n",
    "\n",
    "model = None\n",
    "with open('gaussian_hmm_%s.pkl'%dataset_no, 'rb') as file:\n",
    "    model = pickle.load(file)\n",
    "    \n",
    "predictor = HMMContinuousEmissionsPredictor(hmm = model)\n",
    "print(traj.shape)\n",
    "print(predictor.predict(traj))"
   ]
  },
  {
   "cell_type": "markdown",
   "id": "31bc7b6d",
   "metadata": {},
   "source": [
    "Compute the ADE and FDE of the model."
   ]
  },
  {
   "cell_type": "code",
   "execution_count": 21,
   "id": "5c51c96f",
   "metadata": {
    "scrolled": true
   },
   "outputs": [
    {
     "data": {
      "image/png": "[encoded data removed]",
      "text/plain": [
       "<Figure size 1152x360 with 2 Axes>"
      ]
     },
     "metadata": {},
     "output_type": "display_data"
    }
   ],
   "source": [
    "evaluator = DistanceErrorEvaluator(N_future=4)\n",
    "evaluator.evaluate(predictor, trajlets_for_testing)\n",
    "evaluator.hist()\n",
    "res_state = evaluator.statistic()"
   ]
  },
  {
   "cell_type": "code",
   "execution_count": null,
   "id": "55e36cad",
   "metadata": {},
   "outputs": [],
   "source": []
  },
  {
   "cell_type": "code",
   "execution_count": null,
   "id": "14cd04cd",
   "metadata": {},
   "outputs": [],
   "source": []
  }
 ],
 "metadata": {
  "kernelspec": {
   "display_name": "Python [conda env:PyCharm_Project] *",
   "language": "python",
   "name": "conda-env-PyCharm_Project-py"
  },
  "language_info": {
   "codemirror_mode": {
    "name": "ipython",
    "version": 3
   },
   "file_extension": ".py",
   "mimetype": "text/x-python",
   "name": "python",
   "nbconvert_exporter": "python",
   "pygments_lexer": "ipython3",
   "version": "3.8.11"
  }
 },
 "nbformat": 4,
 "nbformat_minor": 5
}
