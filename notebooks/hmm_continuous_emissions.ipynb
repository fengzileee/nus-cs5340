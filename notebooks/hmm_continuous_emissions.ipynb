{
 "cells": [
  {
   "cell_type": "code",
   "execution_count": 1,
   "id": "759942b9",
   "metadata": {},
   "outputs": [],
   "source": [
    "%load_ext autoreload\n",
    "%autoreload 2"
   ]
  },
  {
   "cell_type": "code",
   "execution_count": 2,
   "id": "2047d8ec",
   "metadata": {},
   "outputs": [
    {
     "ename": "SyntaxError",
     "evalue": "invalid syntax (hmm_multinomial.py, line 191)",
     "output_type": "error",
     "traceback": [
      "Traceback \u001b[0;36m(most recent call last)\u001b[0m:\n",
      "  File \u001b[1;32m\"/Users/lsw/opt/anaconda3/envs/PyCharm_Project/lib/python3.8/site-packages/IPython/core/interactiveshell.py\"\u001b[0m, line \u001b[1;32m3441\u001b[0m, in \u001b[1;35mrun_code\u001b[0m\n    exec(code_obj, self.user_global_ns, self.user_ns)\n",
      "  File \u001b[1;32m\"/var/folders/rs/cq44bd615c56jtf_nb9flyfm0000gn/T/ipykernel_39837/1010626401.py\"\u001b[0m, line \u001b[1;32m9\u001b[0m, in \u001b[1;35m<module>\u001b[0m\n    from uncertainty_motion_prediction.evaluators import DistanceErrorEvaluator\n",
      "  File \u001b[1;32m\"/Users/lsw/Library/CloudStorage/OneDrive-NationalUniversityofSingapore/CS5340 Uncertainty Modelling in AI/05. GitRepo_LSW/nus-cs5340/uncertainty-motion-prediction/src/uncertainty_motion_prediction/evaluators.py\"\u001b[0m, line \u001b[1;32m5\u001b[0m, in \u001b[1;35m<module>\u001b[0m\n    from uncertainty_motion_prediction.predictor import TrajPredictor\n",
      "\u001b[0;36m  File \u001b[0;32m\"/Users/lsw/Library/CloudStorage/OneDrive-NationalUniversityofSingapore/CS5340 Uncertainty Modelling in AI/05. GitRepo_LSW/nus-cs5340/uncertainty-motion-prediction/src/uncertainty_motion_prediction/predictor/__init__.py\"\u001b[0;36m, line \u001b[0;32m5\u001b[0;36m, in \u001b[0;35m<module>\u001b[0;36m\u001b[0m\n\u001b[0;31m    from .hmm_multinomial import HMMMultinomialFirstOrder\u001b[0m\n",
      "\u001b[0;36m  File \u001b[0;32m\"/Users/lsw/Library/CloudStorage/OneDrive-NationalUniversityofSingapore/CS5340 Uncertainty Modelling in AI/05. GitRepo_LSW/nus-cs5340/uncertainty-motion-prediction/src/uncertainty_motion_prediction/predictor/hmm_multinomial.py\"\u001b[0;36m, line \u001b[0;32m191\u001b[0m\n\u001b[0;31m    self.(state, dst=False)\u001b[0m\n\u001b[0m         ^\u001b[0m\n\u001b[0;31mSyntaxError\u001b[0m\u001b[0;31m:\u001b[0m invalid syntax\n"
     ]
    }
   ],
   "source": [
    "# import \n",
    "import os\n",
    "import numpy as np\n",
    "import pandas as pd\n",
    "import seaborn as sns\n",
    "from fitter import Fitter, get_common_distributions, get_distributions\n",
    "import matplotlib.pyplot as plt\n",
    "from uncertainty_motion_prediction.dataloader import Dataloader\n",
    "from uncertainty_motion_prediction.evaluators import DistanceErrorEvaluator\n",
    "from uncertainty_motion_prediction.predictor import (\n",
    "    HMMMultinomialFirstOrder, HMMLatentSegmentsExtractor, KMeansOutcome, HMMLatentSegmentsPredictor\n",
    ")\n",
    "from uncertainty_motion_prediction.predictor import HMMContinuousEmissionsPredictor\n",
    "from hmmlearn import hmm\n",
    "\n",
    "from uncertainty_motion_prediction.visualizer import SamplingVisualizer, visualize_covariance_to_axis\n"
   ]
  },
  {
   "cell_type": "code",
   "execution_count": null,
   "id": "505f1c23",
   "metadata": {},
   "outputs": [],
   "source": [
    "#from uncertainty_motion_prediction.predictor.hmm_continuous_emissions import normalise_segment_batch\n",
    "from uncertainty_motion_prediction.predictor import normalise_segment_batch\n"
   ]
  },
  {
   "cell_type": "markdown",
   "id": "c687dd94",
   "metadata": {},
   "source": [
    "# Load the Dataset and Overview of the Data\n",
    "\n",
    "Load and Data and conduct some brief analysis on the pattern of the normalised segment."
   ]
  },
  {
   "cell_type": "code",
   "execution_count": null,
   "id": "c0936cd6",
   "metadata": {},
   "outputs": [],
   "source": [
    "#Switch the dataset\n",
    "'''\n",
    "0: eth-univ\n",
    "1: eth-hotel\n",
    "2: ucy-zara1\n",
    "3: ucy-zara2\n",
    "4: ucy-univ3\n",
    "'''\n",
    "dataset_no = 0"
   ]
  },
  {
   "cell_type": "code",
   "execution_count": null,
   "id": "02ad32f4",
   "metadata": {},
   "outputs": [],
   "source": [
    "dataset=Dataloader();\n",
    "traj_dataset = dataset.load(dataset_no)"
   ]
  },
  {
   "cell_type": "code",
   "execution_count": null,
   "id": "cff5a92b",
   "metadata": {},
   "outputs": [],
   "source": [
    "segment_length = 4\n",
    "num_segment = 4# Hidden Markov Model with Gaussian emissions (to model trajectory observations)\n",
    "\n",
    "#Start by instantiating a HMM with continuous Gaussian emission distributions.\n",
    "trajlets_for_hmm_learning = traj_dataset.get_trajlets(\n",
    "    length =num_segment * segment_length*0.4, overlap=4, to_numpy=True\n",
    ")\n",
    "print(trajlets_for_hmm_learning.shape)"
   ]
  },
  {
   "cell_type": "code",
   "execution_count": null,
   "id": "7e753985",
   "metadata": {
    "scrolled": true
   },
   "outputs": [],
   "source": [
    "trajlets_shape = trajlets_for_hmm_learning.shape\n",
    "normalised = normalise_segment_batch(trajlets_for_hmm_learning[:, :, 0:4], segment_length)\n",
    "sequence_lengths = np.array([num_segment for i in range(trajlets_shape[0])])\n",
    "\n"
   ]
  },
  {
   "cell_type": "code",
   "execution_count": null,
   "id": "7d2843f6",
   "metadata": {},
   "outputs": [],
   "source": [
    "#take a look at the data\n",
    "df = pd.DataFrame(normalised)\n",
    "df.describe()"
   ]
  },
  {
   "cell_type": "code",
   "execution_count": null,
   "id": "86cc3ceb",
   "metadata": {},
   "outputs": [],
   "source": [
    "sns.set_style('white')\n",
    "sns.set_context(\"paper\", font_scale = 2)\n",
    "sns.displot(data=df, x=3, kind=\"hist\", bins = 100, aspect = 1.5)\n"
   ]
  },
  {
   "cell_type": "code",
   "execution_count": null,
   "id": "3288c2f6",
   "metadata": {},
   "outputs": [],
   "source": [
    "# Pair-wise Scatter Plots\n",
    "pp = sns.pairplot(df, size=1.8, aspect=1.8,\n",
    "                  plot_kws=dict(edgecolor=\"k\", linewidth=0.5),\n",
    "                  diag_kind=\"kde\", diag_kws=dict(shade=True))\n",
    "\n",
    "fig = pp.fig \n",
    "fig.subplots_adjust(top=0.93, wspace=0.3)\n",
    "t = fig.suptitle('Wine Attributes Pairwise Plots', fontsize=14)\n"
   ]
  },
  {
   "cell_type": "markdown",
   "id": "6b93f1bd",
   "metadata": {},
   "source": [
    "# Hidden Markov Model with Gaussian emissions (to model trajectory observations)\n",
    "\n",
    "Start by instantiating a HMM with continuous Gaussian emission distributions."
   ]
  },
  {
   "cell_type": "code",
   "execution_count": null,
   "id": "830277fa",
   "metadata": {},
   "outputs": [],
   "source": [
    "if dataset_no == 0:\n",
    "    # ETC Uni\n",
    "    n_components = 10\n",
    "    covariance_type = \"full\"\n",
    "    n_iter = 50\n",
    "elif dataset_no == 1:\n",
    "    # ETC Hotel\n",
    "    n_components = 4\n",
    "    covariance_type = \"full\"\n",
    "    n_iter = 50\n",
    "elif dataset_no == 2:\n",
    "    # ETC Hotel\n",
    "    n_components = 4\n",
    "    covariance_type = \"full\"\n",
    "    n_iter = 50\n",
    "elif dataset_no == 3:\n",
    "    # ETC Hotel\n",
    "    n_components = 4\n",
    "    covariance_type = \"full\"\n",
    "    n_iter = 50\n",
    "elif dataset_no == 4:\n",
    "    # ucy-univ3\n",
    "    n_components = 10\n",
    "    covariance_type = \"full\"\n",
    "    n_iter = 80\n",
    "elif dataset_no == 5:\n",
    "    # ucy-univ3\n",
    "    n_components = 4\n",
    "    covariance_type = \"full\"\n",
    "    n_iter = 80\n",
    "\n",
    "\n",
    "model = hmm.GaussianHMM(n_components=n_components, covariance_type=covariance_type, \n",
    "                        init_params='stmc', n_iter=n_iter, verbose=True)"
   ]
  },
  {
   "cell_type": "markdown",
   "id": "67bc7c6c",
   "metadata": {},
   "source": [
    "Preprocess the trajectories by normalising them (without the adjustment on Rotation). Then we estimate the model parameters (transition matrix and Gaussian emission distribution parameters)."
   ]
  },
  {
   "cell_type": "code",
   "execution_count": null,
   "id": "cf2f4505",
   "metadata": {
    "scrolled": true
   },
   "outputs": [],
   "source": [
    "var_param = 1\n",
    "covar = np.array ([[1, 0., 0., 0., 0., 0., 0., 0.],\n",
    "                  [0., 1, 1, 1, 0., 0., 0., 0.],\n",
    "                   [0., 1, 1, 1, 0., 0., 0., 0.],\n",
    "                   [0., 1, 1, 1, 0., 0., 0., 0.],\n",
    "                    [0., 0, 0, 0, 1, 0., 0., 0.],\n",
    "                    [0., 0, 0, 0, 0, 1, 1, 1],\n",
    "                    [0., 0, 0, 0, 0, 1, 1, 1],\n",
    "                    [0., 0, 0, 0, 0, 1, 1, 1]])\n",
    "\n",
    "\n",
    "\n",
    "covars = var_param* np.tile(covar, (n_components, 1, 1))\n"
   ]
  },
  {
   "cell_type": "code",
   "execution_count": null,
   "id": "c6a136fe",
   "metadata": {},
   "outputs": [],
   "source": [
    "#model.covars_ = covars"
   ]
  },
  {
   "cell_type": "code",
   "execution_count": null,
   "id": "98ac3c50",
   "metadata": {},
   "outputs": [],
   "source": [
    "trajlets_shape = trajlets_for_hmm_learning.shape\n",
    "normalised = normalise_segment_batch(trajlets_for_hmm_learning[:, :, 0:4], segment_length)\n",
    "sequence_lengths = np.array([num_segment for i in range(trajlets_shape[0])])\n",
    "\n",
    "model.fit(normalised[:,np.r_[1:4,5:8]], lengths=sequence_lengths)"
   ]
  },
  {
   "cell_type": "code",
   "execution_count": null,
   "id": "6180adbe",
   "metadata": {},
   "outputs": [],
   "source": [
    "model.covars_"
   ]
  },
  {
   "cell_type": "code",
   "execution_count": null,
   "id": "6739ea5e",
   "metadata": {},
   "outputs": [],
   "source": [
    "import pickle\n",
    "with open('gaussian_hmm_%s.pkl'%dataset_no, 'wb') as file:\n",
    "    pickle.dump(model, file)\n"
   ]
  },
  {
   "cell_type": "code",
   "execution_count": null,
   "id": "bc457587",
   "metadata": {},
   "outputs": [],
   "source": [
    "model.transmat_"
   ]
  },
  {
   "cell_type": "markdown",
   "id": "f3cae9a9",
   "metadata": {},
   "source": [
    "## Deploy Trained Model"
   ]
  },
  {
   "cell_type": "markdown",
   "id": "32a8a811",
   "metadata": {},
   "source": [
    "Set up to test the model."
   ]
  },
  {
   "cell_type": "code",
   "execution_count": null,
   "id": "06cbeb44",
   "metadata": {},
   "outputs": [],
   "source": [
    "import pickle\n",
    "\n",
    "model = None\n",
    "with open('gaussian_hmm_%s.pkl'%dataset_no, 'rb') as file:\n",
    "    model = pickle.load(file)\n"
   ]
  },
  {
   "cell_type": "code",
   "execution_count": null,
   "id": "d44ec550",
   "metadata": {},
   "outputs": [],
   "source": [
    "segment_length = 4\n",
    "num_segment = 4\n",
    "num_history_segment = 2\n",
    "num_future_segment = num_segment - num_history_segment\n",
    "predictor = HMMContinuousEmissionsPredictor(hmm = model,N_future_segment=num_future_segment)"
   ]
  },
  {
   "cell_type": "code",
   "execution_count": null,
   "id": "da5fdff6",
   "metadata": {},
   "outputs": [],
   "source": [
    "traj_length = num_segment * (segment_length - 1) + 1\n",
    "history_traj_length = num_history_segment * (segment_length - 1) + 1\n",
    "future_traj_length = num_future_segment * (segment_length - 1) + 1\n",
    "\n",
    "trajlets_for_testing = traj_dataset.get_trajlets(\n",
    "    length=traj_length * 0.4 ,\n",
    "    overlap=1,\n",
    "    to_numpy=True\n",
    ")\n",
    "print(trajlets_for_testing.shape)\n"
   ]
  },
  {
   "cell_type": "code",
   "execution_count": null,
   "id": "470bd702",
   "metadata": {},
   "outputs": [],
   "source": [
    "traj = trajlets_for_testing[10]\n"
   ]
  },
  {
   "cell_type": "code",
   "execution_count": null,
   "id": "886c5211",
   "metadata": {},
   "outputs": [],
   "source": [
    "traj.shape"
   ]
  },
  {
   "cell_type": "code",
   "execution_count": null,
   "id": "af038e7e",
   "metadata": {},
   "outputs": [],
   "source": [
    "traj[0:history_traj_length, :].shape[0]"
   ]
  },
  {
   "cell_type": "code",
   "execution_count": null,
   "id": "083dc47f",
   "metadata": {},
   "outputs": [],
   "source": [
    "predictor._seg_len"
   ]
  },
  {
   "cell_type": "code",
   "execution_count": null,
   "id": "55d0c097",
   "metadata": {},
   "outputs": [],
   "source": [
    "traj = trajlets_for_testing[10]\n",
    "print(traj[:, 0:2])\n",
    "predicted = predictor.predict(traj[0:history_traj_length, :])\n",
    "print(predicted)"
   ]
  },
  {
   "cell_type": "markdown",
   "id": "31bc7b6d",
   "metadata": {},
   "source": [
    "Compute the ADE and FDE of the model."
   ]
  },
  {
   "cell_type": "code",
   "execution_count": null,
   "id": "f0284886",
   "metadata": {},
   "outputs": [],
   "source": [
    "future_traj_length"
   ]
  },
  {
   "cell_type": "code",
   "execution_count": null,
   "id": "5c51c96f",
   "metadata": {
    "scrolled": true
   },
   "outputs": [],
   "source": [
    "evaluator = DistanceErrorEvaluator(N_future=future_traj_length, N_history=history_traj_length)\n",
    "evaluator.evaluate(predictor, trajlets_for_testing)\n",
    "evaluator.hist()\n",
    "res_state = evaluator.statistic()"
   ]
  },
  {
   "cell_type": "code",
   "execution_count": null,
   "id": "55e36cad",
   "metadata": {},
   "outputs": [],
   "source": [
    "import matplotlib.pyplot as plt\n",
    "\n",
    "viz = SamplingVisualizer(N_future=4, N_history=history_traj_length, sample_size=2)\n",
    "fig, axs = plt.subplots(5, 1, figsize=(10, 20))\n",
    "\n",
    "for ax in axs:\n",
    "    idx = np.random.randint(0, trajlets_for_testing.shape[0])\n",
    "    traj = trajlets_for_testing[idx, :, :]\n",
    "    viz.visualize_to_axis(ax, predictor, traj)\n",
    "    ax.set_title(f\"Index: {idx} ADE: {result['ade'][idx]:.2f} FDE: {result['fde'][idx]:.2f}\")\n",
    "#     ax.set_aspect(1)"
   ]
  },
  {
   "cell_type": "code",
   "execution_count": null,
   "id": "ded14ade",
   "metadata": {},
   "outputs": [],
   "source": [
    "history_traj_length"
   ]
  },
  {
   "cell_type": "code",
   "execution_count": null,
   "id": "ff7844d7",
   "metadata": {},
   "outputs": [],
   "source": []
  }
 ],
 "metadata": {
  "kernelspec": {
   "display_name": "Python [conda env:PyCharm_Project] *",
   "language": "python",
   "name": "conda-env-PyCharm_Project-py"
  },
  "language_info": {
   "codemirror_mode": {
    "name": "ipython",
    "version": 3
   },
   "file_extension": ".py",
   "mimetype": "text/x-python",
   "name": "python",
   "nbconvert_exporter": "python",
   "pygments_lexer": "ipython3",
   "version": "3.8.11"
  }
 },
 "nbformat": 4,
 "nbformat_minor": 5
}
