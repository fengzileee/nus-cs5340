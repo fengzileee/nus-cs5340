{
 "cells": [
  {
   "cell_type": "code",
   "execution_count": 1,
   "id": "759942b9",
   "metadata": {},
   "outputs": [],
   "source": [
    "%load_ext autoreload\n",
    "%autoreload 2"
   ]
  },
  {
   "cell_type": "code",
   "execution_count": 2,
   "id": "2047d8ec",
   "metadata": {},
   "outputs": [],
   "source": [
    "# import \n",
    "import os\n",
    "import numpy as np\n",
    "import pandas as pd\n",
    "import seaborn as sns\n",
    "from fitter import Fitter, get_common_distributions, get_distributions\n",
    "import matplotlib.pyplot as plt\n",
    "from uncertainty_motion_prediction.dataloader import Dataloader\n",
    "from uncertainty_motion_prediction.evaluators import DistanceErrorEvaluator\n",
    "from uncertainty_motion_prediction.predictor import (\n",
    "    HMMMultinomialFirstOrder, HMMLatentSegmentsExtractor, KMeansOutcome, HMMLatentSegmentsPredictor\n",
    ")\n",
    "from uncertainty_motion_prediction.predictor import HMMContinuousEmissionsPredictor\n",
    "from hmmlearn import hmm"
   ]
  },
  {
   "cell_type": "code",
   "execution_count": 3,
   "id": "505f1c23",
   "metadata": {},
   "outputs": [],
   "source": [
    "#from uncertainty_motion_prediction.predictor.hmm_continuous_emissions import normalise_segment_batch\n",
    "from uncertainty_motion_prediction.predictor import normalise_segment_batch\n"
   ]
  },
  {
   "cell_type": "markdown",
   "id": "c687dd94",
   "metadata": {},
   "source": [
    "# Load the Dataset and Overview of the Data\n",
    "\n",
    "Load and Data and conduct some brief analysis on the pattern of the normalised segment."
   ]
  },
  {
   "cell_type": "code",
   "execution_count": 4,
   "id": "c0936cd6",
   "metadata": {},
   "outputs": [],
   "source": [
    "#Switch the dataset\n",
    "'''\n",
    "0: eth-univ\n",
    "1: eth-hotel\n",
    "2: ucy-zara1\n",
    "3: ucy-zara2\n",
    "4: ucy-univ3\n",
    "'''\n",
    "dataset_no = 4"
   ]
  },
  {
   "cell_type": "code",
   "execution_count": 5,
   "id": "02ad32f4",
   "metadata": {},
   "outputs": [],
   "source": [
    "dataset=Dataloader();\n",
    "traj_dataset = dataset.load(dataset_no)"
   ]
  },
  {
   "cell_type": "code",
   "execution_count": 6,
   "id": "cff5a92b",
   "metadata": {},
   "outputs": [
    {
     "name": "stdout",
     "output_type": "stream",
     "text": [
      "(1798, 16, 5)\n"
     ]
    }
   ],
   "source": [
    "segment_length = 4\n",
    "num_segment = 4# Hidden Markov Model with Gaussian emissions (to model trajectory observations)\n",
    "\n",
    "#Start by instantiating a HMM with continuous Gaussian emission distributions.\n",
    "trajlets_for_hmm_learning = traj_dataset.get_trajlets(\n",
    "    length =num_segment * segment_length*0.4, overlap=4, to_numpy=True\n",
    ")\n",
    "print(trajlets_for_hmm_learning.shape)"
   ]
  },
  {
   "cell_type": "code",
   "execution_count": 7,
   "id": "7e753985",
   "metadata": {
    "scrolled": true
   },
   "outputs": [],
   "source": [
    "trajlets_shape = trajlets_for_hmm_learning.shape\n",
    "normalised = normalise_segment_batch(trajlets_for_hmm_learning[:, :, 0:4], segment_length)\n",
    "sequence_lengths = np.array([num_segment for i in range(trajlets_shape[0])])\n",
    "\n"
   ]
  },
  {
   "cell_type": "code",
   "execution_count": 8,
   "id": "7d2843f6",
   "metadata": {},
   "outputs": [
    {
     "data": {
      "text/html": [
       "<div>\n",
       "<style scoped>\n",
       "    .dataframe tbody tr th:only-of-type {\n",
       "        vertical-align: middle;\n",
       "    }\n",
       "\n",
       "    .dataframe tbody tr th {\n",
       "        vertical-align: top;\n",
       "    }\n",
       "\n",
       "    .dataframe thead th {\n",
       "        text-align: right;\n",
       "    }\n",
       "</style>\n",
       "<table border=\"1\" class=\"dataframe\">\n",
       "  <thead>\n",
       "    <tr style=\"text-align: right;\">\n",
       "      <th></th>\n",
       "      <th>0</th>\n",
       "      <th>1</th>\n",
       "      <th>2</th>\n",
       "      <th>3</th>\n",
       "      <th>4</th>\n",
       "      <th>5</th>\n",
       "      <th>6</th>\n",
       "      <th>7</th>\n",
       "    </tr>\n",
       "  </thead>\n",
       "  <tbody>\n",
       "    <tr>\n",
       "      <th>count</th>\n",
       "      <td>7192.0</td>\n",
       "      <td>7192.000000</td>\n",
       "      <td>7192.000000</td>\n",
       "      <td>7192.000000</td>\n",
       "      <td>7192.0</td>\n",
       "      <td>7.192000e+03</td>\n",
       "      <td>7192.000000</td>\n",
       "      <td>7.192000e+03</td>\n",
       "    </tr>\n",
       "    <tr>\n",
       "      <th>mean</th>\n",
       "      <td>0.0</td>\n",
       "      <td>0.222243</td>\n",
       "      <td>0.428403</td>\n",
       "      <td>0.626145</td>\n",
       "      <td>0.0</td>\n",
       "      <td>-6.701371e-09</td>\n",
       "      <td>0.000401</td>\n",
       "      <td>4.639371e-04</td>\n",
       "    </tr>\n",
       "    <tr>\n",
       "      <th>std</th>\n",
       "      <td>0.0</td>\n",
       "      <td>0.087103</td>\n",
       "      <td>0.170643</td>\n",
       "      <td>0.256411</td>\n",
       "      <td>0.0</td>\n",
       "      <td>3.034106e-07</td>\n",
       "      <td>0.047294</td>\n",
       "      <td>1.033057e-01</td>\n",
       "    </tr>\n",
       "    <tr>\n",
       "      <th>min</th>\n",
       "      <td>0.0</td>\n",
       "      <td>0.000000</td>\n",
       "      <td>-0.167393</td>\n",
       "      <td>-0.392141</td>\n",
       "      <td>0.0</td>\n",
       "      <td>-2.164664e-06</td>\n",
       "      <td>-0.216102</td>\n",
       "      <td>-4.502742e-01</td>\n",
       "    </tr>\n",
       "    <tr>\n",
       "      <th>25%</th>\n",
       "      <td>0.0</td>\n",
       "      <td>0.164586</td>\n",
       "      <td>0.354507</td>\n",
       "      <td>0.541018</td>\n",
       "      <td>0.0</td>\n",
       "      <td>-1.461815e-07</td>\n",
       "      <td>-0.017526</td>\n",
       "      <td>-4.738719e-02</td>\n",
       "    </tr>\n",
       "    <tr>\n",
       "      <th>50%</th>\n",
       "      <td>0.0</td>\n",
       "      <td>0.232839</td>\n",
       "      <td>0.462405</td>\n",
       "      <td>0.689668</td>\n",
       "      <td>0.0</td>\n",
       "      <td>0.000000e+00</td>\n",
       "      <td>0.000000</td>\n",
       "      <td>8.526727e-07</td>\n",
       "    </tr>\n",
       "    <tr>\n",
       "      <th>75%</th>\n",
       "      <td>0.0</td>\n",
       "      <td>0.291926</td>\n",
       "      <td>0.552090</td>\n",
       "      <td>0.798821</td>\n",
       "      <td>0.0</td>\n",
       "      <td>1.288093e-07</td>\n",
       "      <td>0.017705</td>\n",
       "      <td>4.782761e-02</td>\n",
       "    </tr>\n",
       "    <tr>\n",
       "      <th>max</th>\n",
       "      <td>0.0</td>\n",
       "      <td>0.387877</td>\n",
       "      <td>0.688450</td>\n",
       "      <td>0.999391</td>\n",
       "      <td>0.0</td>\n",
       "      <td>2.346654e-06</td>\n",
       "      <td>0.198073</td>\n",
       "      <td>4.231603e-01</td>\n",
       "    </tr>\n",
       "  </tbody>\n",
       "</table>\n",
       "</div>"
      ],
      "text/plain": [
       "            0            1            2            3       4             5  \\\n",
       "count  7192.0  7192.000000  7192.000000  7192.000000  7192.0  7.192000e+03   \n",
       "mean      0.0     0.222243     0.428403     0.626145     0.0 -6.701371e-09   \n",
       "std       0.0     0.087103     0.170643     0.256411     0.0  3.034106e-07   \n",
       "min       0.0     0.000000    -0.167393    -0.392141     0.0 -2.164664e-06   \n",
       "25%       0.0     0.164586     0.354507     0.541018     0.0 -1.461815e-07   \n",
       "50%       0.0     0.232839     0.462405     0.689668     0.0  0.000000e+00   \n",
       "75%       0.0     0.291926     0.552090     0.798821     0.0  1.288093e-07   \n",
       "max       0.0     0.387877     0.688450     0.999391     0.0  2.346654e-06   \n",
       "\n",
       "                 6             7  \n",
       "count  7192.000000  7.192000e+03  \n",
       "mean      0.000401  4.639371e-04  \n",
       "std       0.047294  1.033057e-01  \n",
       "min      -0.216102 -4.502742e-01  \n",
       "25%      -0.017526 -4.738719e-02  \n",
       "50%       0.000000  8.526727e-07  \n",
       "75%       0.017705  4.782761e-02  \n",
       "max       0.198073  4.231603e-01  "
      ]
     },
     "execution_count": 8,
     "metadata": {},
     "output_type": "execute_result"
    }
   ],
   "source": [
    "#take a look at the data\n",
    "df = pd.DataFrame(normalised)\n",
    "df.describe()"
   ]
  },
  {
   "cell_type": "code",
   "execution_count": 9,
   "id": "86cc3ceb",
   "metadata": {},
   "outputs": [
    {
     "data": {
      "text/plain": [
       "<seaborn.axisgrid.FacetGrid at 0x7fc4f9af5eb0>"
      ]
     },
     "execution_count": 9,
     "metadata": {},
     "output_type": "execute_result"
    },
    {
     "data": {
      "image/png": "[encoded data removed]",
      "text/plain": [
       "<Figure size 540x360 with 1 Axes>"
      ]
     },
     "metadata": {},
     "output_type": "display_data"
    }
   ],
   "source": [
    "sns.set_style('white')\n",
    "sns.set_context(\"paper\", font_scale = 2)\n",
    "sns.displot(data=df, x=3, kind=\"hist\", bins = 100, aspect = 1.5)\n"
   ]
  },
  {
   "cell_type": "code",
   "execution_count": 10,
   "id": "3288c2f6",
   "metadata": {},
   "outputs": [],
   "source": [
    "# Pair-wise Scatter Plots\n",
    "#pp = sns.pairplot(df, size=1.8, aspect=1.8,\n",
    "#                  plot_kws=dict(edgecolor=\"k\", linewidth=0.5),\n",
    "#                  diag_kind=\"kde\", diag_kws=dict(shade=True))\n",
    "\n",
    "#fig = pp.fig \n",
    "#fig.subplots_adjust(top=0.93, wspace=0.3)\n",
    "#t = fig.suptitle('Wine Attributes Pairwise Plots', fontsize=14)\n"
   ]
  },
  {
   "cell_type": "markdown",
   "id": "6b93f1bd",
   "metadata": {},
   "source": [
    "# Hidden Markov Model with Gaussian emissions (to model trajectory observations)\n",
    "\n",
    "Start by instantiating a HMM with continuous Gaussian emission distributions."
   ]
  },
  {
   "cell_type": "code",
   "execution_count": 11,
   "id": "830277fa",
   "metadata": {},
   "outputs": [],
   "source": [
    "if dataset_no == 0:\n",
    "    # ETC Uni\n",
    "    n_components = 10\n",
    "    covariance_type = \"diag\"\n",
    "    n_iter = 50\n",
    "elif dataset_no == 1:\n",
    "    # ETC Hotel\n",
    "    n_components = 4\n",
    "    covariance_type = \"diag\"\n",
    "    n_iter = 50\n",
    "elif dataset_no == 2:\n",
    "    # ETC Hotel\n",
    "    n_components = 4\n",
    "    covariance_type = \"diag\"\n",
    "    n_iter = 50\n",
    "elif dataset_no == 3:\n",
    "    # ETC Hotel\n",
    "    n_components = 4\n",
    "    covariance_type = \"diag\"\n",
    "    n_iter = 50\n",
    "elif dataset_no == 4:\n",
    "    # ucy-univ3\n",
    "    n_components = 4\n",
    "    covariance_type = \"diag\"\n",
    "    n_iter = 80\n",
    "\n",
    "\n",
    "model = hmm.GaussianHMM(n_components=n_components, covariance_type=covariance_type, n_iter=n_iter, verbose=True)"
   ]
  },
  {
   "cell_type": "markdown",
   "id": "67bc7c6c",
   "metadata": {},
   "source": [
    "Preprocess the trajectories by normalising them (without the adjustment on Rotation). Then we estimate the model parameters (transition matrix and Gaussian emission distribution parameters)."
   ]
  },
  {
   "cell_type": "code",
   "execution_count": 12,
   "id": "98ac3c50",
   "metadata": {},
   "outputs": [
    {
     "name": "stderr",
     "output_type": "stream",
     "text": [
      "         1       83594.7033             +nan\n",
      "         2      151589.4828      +67994.7795\n",
      "         3      154289.4347       +2699.9519\n",
      "         4      154812.5077        +523.0730\n",
      "         5      154927.3767        +114.8689\n",
      "         6      154975.9280         +48.5514\n",
      "         7      155008.3485         +32.4205\n",
      "         8      155034.9453         +26.5968\n",
      "         9      155058.5003         +23.5550\n",
      "        10      155080.2184         +21.7181\n",
      "        11      155101.0679         +20.8495\n",
      "        12      155122.0322         +20.9643\n",
      "        13      155144.0870         +22.0548\n",
      "        14      155168.2053         +24.1183\n",
      "        15      155195.4146         +27.2093\n",
      "        16      155226.8356         +31.4210\n",
      "        17      155263.6230         +36.7874\n",
      "        18      155306.7888         +43.1658\n",
      "        19      155356.9795         +50.1907\n",
      "        20      155414.2287         +57.2492\n",
      "        21      155477.6174         +63.3887\n",
      "        22      155545.0583         +67.4409\n",
      "        23      155613.7571         +68.6987\n",
      "        24      155681.1700         +67.4129\n",
      "        25      155745.3631         +64.1932\n",
      "        26      155805.0642         +59.7011\n",
      "        27      155859.9691         +54.9048\n",
      "        28      155910.4715         +50.5024\n",
      "        29      155956.7379         +46.2665\n",
      "        30      155998.4874         +41.7494\n",
      "        31      156035.5627         +37.0754\n",
      "        32      156068.1846         +32.6219\n",
      "        33      156096.7115         +28.5268\n",
      "        34      156121.3994         +24.6880\n",
      "        35      156142.4850         +21.0856\n",
      "        36      156160.4998         +18.0148\n",
      "        37      156176.3143         +15.8145\n",
      "        38      156190.8476         +14.5333\n",
      "        39      156204.8152         +13.9675\n",
      "        40      156218.5733         +13.7581\n",
      "        41      156232.0667         +13.4934\n",
      "        42      156244.9732         +12.9065\n",
      "        43      156256.9618         +11.9886\n",
      "        44      156267.8256         +10.8638\n",
      "        45      156277.4857          +9.6601\n",
      "        46      156285.9875          +8.5017\n",
      "        47      156293.4692          +7.4817\n",
      "        48      156300.1015          +6.6324\n",
      "        49      156306.0465          +5.9450\n",
      "        50      156311.4488          +5.4023\n",
      "        51      156316.4458          +4.9970\n",
      "        52      156321.1811          +4.7352\n",
      "        53      156325.8079          +4.6268\n",
      "        54      156330.4749          +4.6670\n",
      "        55      156335.2883          +4.8134\n",
      "        56      156340.2664          +4.9781\n",
      "        57      156345.3105          +5.0442\n",
      "        58      156350.2102          +4.8996\n",
      "        59      156354.7013          +4.4911\n",
      "        60      156358.5739          +3.8726\n",
      "        61      156361.7468          +3.1729\n",
      "        62      156364.2578          +2.5110\n",
      "        63      156366.2090          +1.9512\n",
      "        64      156367.7183          +1.5093\n",
      "        65      156368.8924          +1.1741\n",
      "        66      156369.8179          +0.9254\n",
      "        67      156370.5608          +0.7429\n",
      "        68      156371.1706          +0.6098\n",
      "        69      156371.6835          +0.5129\n",
      "        70      156372.1262          +0.4427\n",
      "        71      156372.5181          +0.3920\n",
      "        72      156372.8740          +0.3558\n",
      "        73      156373.2046          +0.3306\n",
      "        74      156373.5185          +0.3138\n",
      "        75      156373.8222          +0.3037\n",
      "        76      156374.1213          +0.2991\n",
      "        77      156374.4206          +0.2993\n",
      "        78      156374.7245          +0.3039\n",
      "        79      156375.0372          +0.3127\n",
      "        80      156375.3630          +0.3259\n"
     ]
    },
    {
     "data": {
      "text/plain": [
       "GaussianHMM(n_components=4, n_iter=80, verbose=True)"
      ]
     },
     "execution_count": 12,
     "metadata": {},
     "output_type": "execute_result"
    }
   ],
   "source": [
    "trajlets_shape = trajlets_for_hmm_learning.shape\n",
    "normalised = normalise_segment_batch(trajlets_for_hmm_learning[:, :, 0:4], segment_length)\n",
    "sequence_lengths = np.array([num_segment for i in range(trajlets_shape[0])])\n",
    "\n",
    "model.fit(normalised, lengths=sequence_lengths)"
   ]
  },
  {
   "cell_type": "code",
   "execution_count": 13,
   "id": "6739ea5e",
   "metadata": {},
   "outputs": [],
   "source": [
    "import pickle\n",
    "with open('gaussian_hmm_%s.pkl'%dataset_no, 'wb') as file:\n",
    "    pickle.dump(model, file)\n"
   ]
  },
  {
   "cell_type": "code",
   "execution_count": 14,
   "id": "bc457587",
   "metadata": {},
   "outputs": [
    {
     "data": {
      "text/plain": [
       "array([[3.37974284e-01, 7.49577807e-05, 3.29236030e-01, 3.32714729e-01],\n",
       "       [6.08402505e-03, 2.59613339e-01, 2.25922823e-02, 7.11710354e-01],\n",
       "       [1.17400494e-01, 6.49163877e-03, 4.13014219e-01, 4.63093648e-01],\n",
       "       [1.33263603e-02, 1.59149399e-02, 9.44050196e-02, 8.76353680e-01]])"
      ]
     },
     "execution_count": 14,
     "metadata": {},
     "output_type": "execute_result"
    }
   ],
   "source": [
    "model.transmat_"
   ]
  },
  {
   "cell_type": "markdown",
   "id": "32a8a811",
   "metadata": {},
   "source": [
    "Set up to test the model."
   ]
  },
  {
   "cell_type": "code",
   "execution_count": 15,
   "id": "d0643a3c",
   "metadata": {},
   "outputs": [
    {
     "name": "stdout",
     "output_type": "stream",
     "text": [
      "(884, 16, 5)\n"
     ]
    }
   ],
   "source": [
    "trajlets_for_testing = traj_dataset.get_trajlets(\n",
    "    length=segment_length * num_segment * 0.4,\n",
    "    overlap=1,\n",
    "    to_numpy=True\n",
    ")\n",
    "print(trajlets_for_testing.shape)"
   ]
  },
  {
   "cell_type": "markdown",
   "id": "fb5ef626",
   "metadata": {},
   "source": [
    "A sanity check for our predictor and model, to visually inspect if the predict function works and yields reasonable values."
   ]
  },
  {
   "cell_type": "code",
   "execution_count": 16,
   "id": "1b2a6da6",
   "metadata": {},
   "outputs": [],
   "source": [
    "traj = trajlets_for_hmm_learning[0, :, :]"
   ]
  },
  {
   "cell_type": "code",
   "execution_count": 17,
   "id": "394cc192",
   "metadata": {},
   "outputs": [
    {
     "name": "stdout",
     "output_type": "stream",
     "text": [
      "(16, 5)\n",
      "[[-0.5426586   4.934493  ]\n",
      " [-0.82268426  5.30958817]\n",
      " [-1.09388009  5.67378979]\n",
      " [-1.35509702  6.02313357]]\n"
     ]
    }
   ],
   "source": [
    "import pickle\n",
    "\n",
    "model = None\n",
    "with open('gaussian_hmm_%s.pkl'%dataset_no, 'rb') as file:\n",
    "    model = pickle.load(file)\n",
    "    \n",
    "predictor = HMMContinuousEmissionsPredictor(hmm = model)\n",
    "print(traj.shape)\n",
    "print(predictor.predict(traj))"
   ]
  },
  {
   "cell_type": "markdown",
   "id": "31bc7b6d",
   "metadata": {},
   "source": [
    "Compute the ADE and FDE of the model."
   ]
  },
  {
   "cell_type": "code",
   "execution_count": 18,
   "id": "5c51c96f",
   "metadata": {
    "scrolled": true
   },
   "outputs": [
    {
     "data": {
      "image/png": "[encoded data removed]",
      "text/plain": [
       "<Figure size 1152x360 with 2 Axes>"
      ]
     },
     "metadata": {},
     "output_type": "display_data"
    }
   ],
   "source": [
    "evaluator = DistanceErrorEvaluator(N_future=4)\n",
    "evaluator.evaluate(predictor, trajlets_for_testing)\n",
    "evaluator.hist()\n",
    "res_state = evaluator.statistic()"
   ]
  },
  {
   "cell_type": "code",
   "execution_count": null,
   "id": "55e36cad",
   "metadata": {},
   "outputs": [],
   "source": []
  }
 ],
 "metadata": {
  "kernelspec": {
   "display_name": "Python [conda env:PyCharm_Project] *",
   "language": "python",
   "name": "conda-env-PyCharm_Project-py"
  },
  "language_info": {
   "codemirror_mode": {
    "name": "ipython",
    "version": 3
   },
   "file_extension": ".py",
   "mimetype": "text/x-python",
   "name": "python",
   "nbconvert_exporter": "python",
   "pygments_lexer": "ipython3",
   "version": "3.8.11"
  }
 },
 "nbformat": 4,
 "nbformat_minor": 5
}
